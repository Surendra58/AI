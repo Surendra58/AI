{
  "nbformat": 4,
  "nbformat_minor": 0,
  "metadata": {
    "colab": {
      "name": "TextGen.ipynb",
      "provenance": [],
      "collapsed_sections": [],
      "authorship_tag": "ABX9TyNBj/2j2OA4OkVaNUvSiaBj",
      "include_colab_link": true
    },
    "kernelspec": {
      "name": "python3",
      "display_name": "Python 3"
    }
  },
  "cells": [
    {
      "cell_type": "markdown",
      "metadata": {
        "id": "view-in-github",
        "colab_type": "text"
      },
      "source": [
        "<a href=\"https://colab.research.google.com/github/Surendra58/AI/blob/master/TextGen.ipynb\" target=\"_parent\"><img src=\"https://colab.research.google.com/assets/colab-badge.svg\" alt=\"Open In Colab\"/></a>"
      ]
    },
    {
      "cell_type": "code",
      "metadata": {
        "id": "XmiaIDKECYyg",
        "colab_type": "code",
        "colab": {}
      },
      "source": [
        "from google.colab import files\n",
        "import numpy as np\n",
        "from keras.utils import to_categorical\n",
        "from keras.models import Sequential\n",
        "from keras.layers import Dense\n",
        "from keras.layers import LSTM\n",
        "from keras.layers import Embedding"
      ],
      "execution_count": 3,
      "outputs": []
    },
    {
      "cell_type": "code",
      "metadata": {
        "id": "GmVIkR7CDfQq",
        "colab_type": "code",
        "colab": {}
      },
      "source": [
        "files.upload()"
      ],
      "execution_count": null,
      "outputs": []
    },
    {
      "cell_type": "code",
      "metadata": {
        "id": "85kL-tKRD78_",
        "colab_type": "code",
        "colab": {}
      },
      "source": [
        "import glob\n",
        "book_filesname=sorted(glob.glob(\"*.txt\"))\n",
        "print(\"Found {} books\".format(len(book_filesnames)))"
      ],
      "execution_count": null,
      "outputs": []
    },
    {
      "cell_type": "code",
      "metadata": {
        "id": "N20FrLvbE438",
        "colab_type": "code",
        "colab": {}
      },
      "source": [
        "book_filenames()"
      ],
      "execution_count": null,
      "outputs": []
    },
    {
      "cell_type": "code",
      "metadata": {
        "id": "hRVjVBnzFCc9",
        "colab_type": "code",
        "colab": {}
      },
      "source": [
        "import codecs\n",
        "# geting all the string from the books\n",
        "text = u\"\"\n",
        "for filename in book_filenames:\n",
        "  with codecs.open(filename,'r','utf-8') as book_file:\n",
        "    text += book_file_read()\n",
        "print(\"Corpus is {} characters long\".format(len(text)))    "
      ],
      "execution_count": null,
      "outputs": []
    },
    {
      "cell_type": "code",
      "metadata": {
        "id": "6FGdbrA9JDoY",
        "colab_type": "code",
        "colab": {}
      },
      "source": [
        "import string\n",
        "tokens=text.split()\n",
        "# removing punctuations \n",
        "table = str.maketrans('','',string.punctuations)\n",
        "# generating tokens\n",
        "tokens = [w.translate(table) for w in tokens]\n",
        "\n",
        "print(table)\n",
        "print(tokens)\n",
        "print(len(tokens))"
      ],
      "execution_count": null,
      "outputs": []
    },
    {
      "cell_type": "code",
      "metadata": {
        "id": "KBtptY7yKY0m",
        "colab_type": "code",
        "colab": {}
      },
      "source": [
        "from keras.preprocessing.text import Tokenizer\n"
      ],
      "execution_count": null,
      "outputs": []
    }
  ]
}