{
 "cells": [
  {
   "cell_type": "code",
   "execution_count": null,
   "metadata": {},
   "outputs": [],
   "source": [
    "# Problem statement link:\n",
    "# https://1drv.ms/w/s!Am4CWHrkxn5CfLSc1UtZMCagrJs?e=GONAze"
   ]
  },
  {
   "cell_type": "code",
   "execution_count": 22,
   "metadata": {},
   "outputs": [
    {
     "data": {
      "text/html": [
       "<div>\n",
       "<style scoped>\n",
       "    .dataframe tbody tr th:only-of-type {\n",
       "        vertical-align: middle;\n",
       "    }\n",
       "\n",
       "    .dataframe tbody tr th {\n",
       "        vertical-align: top;\n",
       "    }\n",
       "\n",
       "    .dataframe thead th {\n",
       "        text-align: right;\n",
       "    }\n",
       "</style>\n",
       "<table border=\"1\" class=\"dataframe\">\n",
       "  <thead>\n",
       "    <tr style=\"text-align: right;\">\n",
       "      <th></th>\n",
       "      <th>age</th>\n",
       "      <th>name</th>\n",
       "      <th>address</th>\n",
       "      <th>salary</th>\n",
       "    </tr>\n",
       "  </thead>\n",
       "  <tbody>\n",
       "    <tr>\n",
       "      <th>0</th>\n",
       "      <td>71</td>\n",
       "      <td>name0</td>\n",
       "      <td>address0</td>\n",
       "      <td>622843</td>\n",
       "    </tr>\n",
       "    <tr>\n",
       "      <th>1</th>\n",
       "      <td>34</td>\n",
       "      <td>name1</td>\n",
       "      <td>address1</td>\n",
       "      <td>306508</td>\n",
       "    </tr>\n",
       "    <tr>\n",
       "      <th>2</th>\n",
       "      <td>91</td>\n",
       "      <td>name2</td>\n",
       "      <td>address2</td>\n",
       "      <td>853591</td>\n",
       "    </tr>\n",
       "    <tr>\n",
       "      <th>4</th>\n",
       "      <td>40</td>\n",
       "      <td>name4</td>\n",
       "      <td>address4</td>\n",
       "      <td>156530</td>\n",
       "    </tr>\n",
       "    <tr>\n",
       "      <th>7</th>\n",
       "      <td>43</td>\n",
       "      <td>name7</td>\n",
       "      <td>address7</td>\n",
       "      <td>510337</td>\n",
       "    </tr>\n",
       "  </tbody>\n",
       "</table>\n",
       "</div>"
      ],
      "text/plain": [
       "   age   name   address  salary\n",
       "0   71  name0  address0  622843\n",
       "1   34  name1  address1  306508\n",
       "2   91  name2  address2  853591\n",
       "4   40  name4  address4  156530\n",
       "7   43  name7  address7  510337"
      ]
     },
     "execution_count": 22,
     "metadata": {},
     "output_type": "execute_result"
    }
   ],
   "source": [
    "import pandas as pd,numpy as np\n",
    "from pandas.api.types import is_numeric_dtype\n",
    "np.random.seed(42)\n",
    "name=['name'+str(i) for i in range(50)]\n",
    "address=['address'+str(i) for i in range(50)]\n",
    "age=np.random.randint(20,100,50)\n",
    "salary=np.random.randint(50000,1000000,50)\n",
    "df=pd.DataFrame(data={'age':age,'name':name,'address':address,'salary':salary})\n",
    "# df\n",
    "def remove_outlier(df):\n",
    "    low=.05\n",
    "    high=.95\n",
    "    quant_df=df.quantile([low,high])\n",
    "    for name in list(df.columns):\n",
    "      if is_numeric_dtype(df[name]):\n",
    "       df=df[(df[name] > quant_df.loc[low,name]) \n",
    "               & (df[name] < quant_df.loc[high,name])]\n",
    "    return df\n",
    "remove_outlier(df).head()"
   ]
  },
  {
   "cell_type": "code",
   "execution_count": 43,
   "metadata": {},
   "outputs": [
    {
     "data": {
      "text/html": [
       "<div>\n",
       "<style scoped>\n",
       "    .dataframe tbody tr th:only-of-type {\n",
       "        vertical-align: middle;\n",
       "    }\n",
       "\n",
       "    .dataframe tbody tr th {\n",
       "        vertical-align: top;\n",
       "    }\n",
       "\n",
       "    .dataframe thead th {\n",
       "        text-align: right;\n",
       "    }\n",
       "</style>\n",
       "<table border=\"1\" class=\"dataframe\">\n",
       "  <thead>\n",
       "    <tr style=\"text-align: right;\">\n",
       "      <th></th>\n",
       "      <th>Date1</th>\n",
       "      <th>Date2</th>\n",
       "      <th>Date3</th>\n",
       "    </tr>\n",
       "  </thead>\n",
       "  <tbody>\n",
       "    <tr>\n",
       "      <th>0</th>\n",
       "      <td>2020-04-04</td>\n",
       "      <td>2019-05-04</td>\n",
       "      <td>2018-02-04</td>\n",
       "    </tr>\n",
       "    <tr>\n",
       "      <th>1</th>\n",
       "      <td>2020-03-04</td>\n",
       "      <td>2019-04-04</td>\n",
       "      <td>2018-02-04</td>\n",
       "    </tr>\n",
       "    <tr>\n",
       "      <th>2</th>\n",
       "      <td>2020-08-04</td>\n",
       "      <td>2019-04-04</td>\n",
       "      <td>2018-02-04</td>\n",
       "    </tr>\n",
       "    <tr>\n",
       "      <th>3</th>\n",
       "      <td>2020-06-04</td>\n",
       "      <td>2019-02-04</td>\n",
       "      <td>2018-02-04</td>\n",
       "    </tr>\n",
       "    <tr>\n",
       "      <th>4</th>\n",
       "      <td>2020-05-03</td>\n",
       "      <td>2019-07-03</td>\n",
       "      <td>2018-02-03</td>\n",
       "    </tr>\n",
       "  </tbody>\n",
       "</table>\n",
       "</div>"
      ],
      "text/plain": [
       "       Date1      Date2      Date3\n",
       "0 2020-04-04 2019-05-04 2018-02-04\n",
       "1 2020-03-04 2019-04-04 2018-02-04\n",
       "2 2020-08-04 2019-04-04 2018-02-04\n",
       "3 2020-06-04 2019-02-04 2018-02-04\n",
       "4 2020-05-03 2019-07-03 2018-02-03"
      ]
     },
     "execution_count": 43,
     "metadata": {},
     "output_type": "execute_result"
    }
   ],
   "source": [
    "import pandas as pd\n",
    "df=pd.DataFrame({'NAME':['A','B','C','D','E'],\n",
    "   'Date1':['2020-04-04',\n",
    "           '2020-03-04',\n",
    "           '2020-08-04',\n",
    "           '2020-06-04',\n",
    "           '2020-05-03'],\n",
    "    'Sex':['M','F','M','F','M'],\n",
    "    'Date2':['2019-05-04',\n",
    "           '2019-04-04',\n",
    "           '2019-04-04',\n",
    "           '2019-02-04',\n",
    "           '2019-07-03'],\n",
    "   'Date3':['2018-02-04',\n",
    "           '2018-02-04',\n",
    "           '2018-02-04',\n",
    "           '2018-02-04',\n",
    "           '2018-02-03']})\n",
    "#df\n",
    "mask=df.astype(str).apply(lambda x : x.str.match(r'(\\d{2,4}-\\d{2}-\\d{2,4})+').all())\n",
    "df1=df.loc[:,mask]=df.loc[:,mask].apply(pd.to_datetime)\n",
    "df1"
   ]
  },
  {
   "cell_type": "code",
   "execution_count": 69,
   "metadata": {},
   "outputs": [
    {
     "name": "stdout",
     "output_type": "stream",
     "text": [
      "\n",
      "Difference of Date1 and Date2:\n",
      " 0    336\n",
      "1    335\n",
      "2    488\n",
      "3    486\n",
      "4    305\n",
      "dtype: int64\n"
     ]
    }
   ],
   "source": [
    "# df1['Date1-Date2']=(df1['Date1'] - df1['Date2']).dt.days\n",
    "Datediff1=df1['Date1'].subtract(df1['Date2']).dt.days\n",
    "Datediff2=df1['Date2'].subtract(df1['Date3']).dt.days\n",
    "Datediff3=df1['Date1'].subtract(df1['Date3']).dt.days\n",
    "print(\"\\nDifference of Date1 and Date2 are in Days:\\n\",Datediff1)\n",
    "print(\"\\nDifference of Date2 and Date3 are in Days:\\n\",Datediff2)\n",
    "print(\"\\nDifference of Date1 and Date3 are in Days:\\n\",Datediff3)\n",
    "# print(\"Difference of Date1 and Date2 are in Days:\\n\", Datediff1)\n",
    "# print(\"Difference of Date2 and Date3 are in Days:\\n\", Datediff2)\n",
    "# print(\"Difference of Date1 and Date3 are in Days:\\n\", Datediff3)\n"
   ]
  },
  {
   "cell_type": "code",
   "execution_count": 41,
   "metadata": {},
   "outputs": [
    {
     "name": "stdout",
     "output_type": "stream",
     "text": [
      "df1:\n",
      "    A  C\n",
      "0  2  2\n",
      "1  1  1\n",
      "2  2  2 \n",
      "\n",
      "df2:\n",
      "    A  B\n",
      "0  1  1\n",
      "1  1  1 \n",
      "\n"
     ]
    },
    {
     "ename": "NameError",
     "evalue": "name 'get_dataframe_setdiff2d' is not defined",
     "output_type": "error",
     "traceback": [
      "\u001b[1;31m---------------------------------------------------------------------------\u001b[0m",
      "\u001b[1;31mNameError\u001b[0m                                 Traceback (most recent call last)",
      "\u001b[1;32m<ipython-input-41-19e6bf518717>\u001b[0m in \u001b[0;36m<module>\u001b[1;34m\u001b[0m\n\u001b[0;32m      3\u001b[0m \u001b[0mprint\u001b[0m\u001b[1;33m(\u001b[0m\u001b[1;34m\"df1:\\n\"\u001b[0m\u001b[1;33m,\u001b[0m\u001b[0mdf1\u001b[0m\u001b[1;33m,\u001b[0m\u001b[1;34m\"\\n\"\u001b[0m\u001b[1;33m)\u001b[0m\u001b[1;33m\u001b[0m\u001b[1;33m\u001b[0m\u001b[0m\n\u001b[0;32m      4\u001b[0m \u001b[0mprint\u001b[0m\u001b[1;33m(\u001b[0m\u001b[1;34m\"df2:\\n\"\u001b[0m\u001b[1;33m,\u001b[0m\u001b[0mdf2\u001b[0m\u001b[1;33m,\u001b[0m\u001b[1;34m\"\\n\"\u001b[0m\u001b[1;33m)\u001b[0m\u001b[1;33m\u001b[0m\u001b[1;33m\u001b[0m\u001b[0m\n\u001b[1;32m----> 5\u001b[1;33m \u001b[0mdiff\u001b[0m\u001b[1;33m=\u001b[0m\u001b[0mget_dataframe_setdiff2d\u001b[0m\u001b[1;33m(\u001b[0m\u001b[0mdf1\u001b[0m\u001b[1;33m,\u001b[0m\u001b[0mdf2\u001b[0m\u001b[1;33m)\u001b[0m\u001b[1;33m\u001b[0m\u001b[1;33m\u001b[0m\u001b[0m\n\u001b[0m\u001b[0;32m      6\u001b[0m \u001b[0mprint\u001b[0m\u001b[1;33m(\u001b[0m\u001b[1;34m'diff:\\n'\u001b[0m\u001b[1;33m,\u001b[0m\u001b[1;34m'diff:\\n'\u001b[0m\u001b[1;33m)\u001b[0m\u001b[1;33m\u001b[0m\u001b[1;33m\u001b[0m\u001b[0m\n\u001b[0;32m      7\u001b[0m \u001b[1;31m#print(\"diff:\\n\",\"diff:\"\\n\")\u001b[0m\u001b[1;33m\u001b[0m\u001b[1;33m\u001b[0m\u001b[1;33m\u001b[0m\u001b[0m\n",
      "\u001b[1;31mNameError\u001b[0m: name 'get_dataframe_setdiff2d' is not defined"
     ]
    }
   ],
   "source": [
    "df1=pd.DataFrame({'A':[2,1,2],'C':[2,1,2]})\n",
    "df2=pd.DataFrame({'A':[1,1],'B':[1,1]})\n",
    "print(\"df1:\\n\",df1,\"\\n\")\n",
    "print(\"df2:\\n\",df2,\"\\n\")\n",
    "diff=get_dataframe_setdiff2d(df1,df2)\n",
    "print('diff:\\n','diff:\\n')\n",
    "#print(\"diff:\\n\",\"diff:\"\\n\")\n",
    "# print(\"diff:\\n\",diff,\"\\n\")"
   ]
  },
  {
   "cell_type": "code",
   "execution_count": 11,
   "metadata": {},
   "outputs": [
    {
     "data": {
      "text/plain": [
       "array([0.69772882, 0.2160895 , 0.97627445, 0.00623026])"
      ]
     },
     "execution_count": 11,
     "metadata": {},
     "output_type": "execute_result"
    }
   ],
   "source": [
    "import pandas as pd,numpy as np\n",
    "import random\n",
    "# d=np.random.seed(4)\n",
    "np.random.rand(4)"
   ]
  },
  {
   "cell_type": "code",
   "execution_count": 15,
   "metadata": {},
   "outputs": [
    {
     "name": "stdout",
     "output_type": "stream",
     "text": [
      "[2 8 4 9 1 6 7 3 0 5]\n"
     ]
    }
   ],
   "source": [
    "import numpy as np\n",
    "np.random.seed(0) \n",
    "perm=np.random.permutation(10) \n",
    "print(perm) "
   ]
  }
 ],
 "metadata": {
  "kernelspec": {
   "display_name": "Python 3",
   "language": "python",
   "name": "python3"
  },
  "language_info": {
   "codemirror_mode": {
    "name": "ipython",
    "version": 3
   },
   "file_extension": ".py",
   "mimetype": "text/x-python",
   "name": "python",
   "nbconvert_exporter": "python",
   "pygments_lexer": "ipython3",
   "version": "3.7.7"
  }
 },
 "nbformat": 4,
 "nbformat_minor": 4
}
