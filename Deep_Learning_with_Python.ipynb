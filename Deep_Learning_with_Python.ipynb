{
  "nbformat": 4,
  "nbformat_minor": 0,
  "metadata": {
    "colab": {
      "name": "Deep Learning with Python.ipynb",
      "provenance": [],
      "collapsed_sections": [],
      "authorship_tag": "ABX9TyP6f5nElMDmWkj36ud3Cbf4",
      "include_colab_link": true
    },
    "kernelspec": {
      "name": "python3",
      "display_name": "Python 3"
    }
  },
  "cells": [
    {
      "cell_type": "markdown",
      "metadata": {
        "id": "view-in-github",
        "colab_type": "text"
      },
      "source": [
        "<a href=\"https://colab.research.google.com/github/Surendra58/AI/blob/master/Deep_Learning_with_Python.ipynb\" target=\"_parent\"><img src=\"https://colab.research.google.com/assets/colab-badge.svg\" alt=\"Open In Colab\"/></a>"
      ]
    },
    {
      "cell_type": "code",
      "metadata": {
        "id": "xNZPaESZp7oZ",
        "colab_type": "code",
        "colab": {}
      },
      "source": [
        "#https://register.gotowebinar.com/recording/2089329787870915852"
      ],
      "execution_count": null,
      "outputs": []
    },
    {
      "cell_type": "code",
      "metadata": {
        "id": "604wgRdagDHo",
        "colab_type": "code",
        "colab": {
          "base_uri": "https://localhost:8080/",
          "height": 35
        },
        "outputId": "d646cb63-0db9-4ce3-a6da-8a75f178fd4c"
      },
      "source": [
        "from IPython.core.interactiveshell import InteractiveShell\n",
        "InteractiveShell.ast_node_interactivity=\"all\"\n",
        "import os\n",
        "os.getcwd()"
      ],
      "execution_count": 64,
      "outputs": [
        {
          "output_type": "execute_result",
          "data": {
            "application/vnd.google.colaboratory.intrinsic+json": {
              "type": "string"
            },
            "text/plain": [
              "'/content'"
            ]
          },
          "metadata": {
            "tags": []
          },
          "execution_count": 64
        }
      ]
    },
    {
      "cell_type": "code",
      "metadata": {
        "id": "Db_Kmp03hHs2",
        "colab_type": "code",
        "colab": {}
      },
      "source": [
        "import tensorflow as tf\n",
        "tf.__version__"
      ],
      "execution_count": null,
      "outputs": []
    },
    {
      "cell_type": "code",
      "metadata": {
        "id": "LNDXMoeDhUiP",
        "colab_type": "code",
        "colab": {}
      },
      "source": [
        "# Initilize two constants\n",
        "x1=tf.constant([1,2,3,4])\n",
        "x2=tf.constant([5,6,7,8])\n",
        "# Multiply\n",
        "result=tf.multiply(x1,x2)\n",
        "print(result)\n",
        "# Initilize the Session\n",
        "#sess=tf.Session()\n",
        "print(sess.run(result))\n",
        "# close the session\n",
        "#sess.close"
      ],
      "execution_count": null,
      "outputs": []
    },
    {
      "cell_type": "code",
      "metadata": {
        "id": "MOQOehxeuxuG",
        "colab_type": "code",
        "colab": {}
      },
      "source": [
        ""
      ],
      "execution_count": null,
      "outputs": []
    },
    {
      "cell_type": "code",
      "metadata": {
        "id": "I7MzLj1KioDs",
        "colab_type": "code",
        "colab": {}
      },
      "source": [
        "# creating nodes in computational graph\n",
        "node1=tf.constant(3,dtype=tf.int32)\n",
        "node2=tf.constant(5,dtype=tf.int32)\n",
        "node3=tf.add(node1,node2)"
      ],
      "execution_count": 10,
      "outputs": []
    },
    {
      "cell_type": "code",
      "metadata": {
        "id": "601iF9rZjnkD",
        "colab_type": "code",
        "colab": {}
      },
      "source": [
        "import pandas as pd\n",
        "digits=pd.read_csv(\"https://archive.ics.uci.edu/ml/machine-learning-databases/optdigits/optdigits.tra\",header=None)\n",
        "print(digits)"
      ],
      "execution_count": null,
      "outputs": []
    },
    {
      "cell_type": "code",
      "metadata": {
        "id": "gK3g11xHkYQr",
        "colab_type": "code",
        "colab": {}
      },
      "source": [
        "# Import 'datasets' from 'sklearn'\n",
        "from sklearn import datasets\n",
        "# Load in the 'digits' data\n",
        "digits=datasets.load_digits()\n",
        "print(digits)"
      ],
      "execution_count": null,
      "outputs": []
    },
    {
      "cell_type": "code",
      "metadata": {
        "id": "YUq6J3ONlPZ3",
        "colab_type": "code",
        "colab": {}
      },
      "source": [
        "# Get the keys of the 'digits' data\n",
        "print(digits.keys())\n",
        "# print out the data\n",
        "print(digits.data)\n",
        "# print out the target values\n",
        "print(digits.target)\n",
        "# print out the description of the 'digits' data\n",
        "print(digits.DESCR)"
      ],
      "execution_count": null,
      "outputs": []
    },
    {
      "cell_type": "code",
      "metadata": {
        "id": "PvsiPKhamEcU",
        "colab_type": "code",
        "colab": {}
      },
      "source": [
        "import numpy as np\n",
        "# Isolate the 'digits' data\n",
        "digits_data=digits.data\n",
        "# Inspect the shape\n",
        "print(digits_data.shape)\n",
        "# Isolate the target values with 'target'\n",
        "digits_traget=digits.target\n",
        "# Inspect the shape\n",
        "print(digits_traget.shape)\n",
        "# Print the number of unique labels\n",
        "number_digits=len(np.unique(digits.target))\n",
        "# Isolate the 'images'\n",
        "digits_images=digits.images\n",
        "# Inspect the shape\n",
        "print(digits_images.shape)\n"
      ],
      "execution_count": null,
      "outputs": []
    },
    {
      "cell_type": "code",
      "metadata": {
        "id": "wsE_zD1Xnr4z",
        "colab_type": "code",
        "colab": {}
      },
      "source": [
        "import numpy as np\n",
        "np.__version__"
      ],
      "execution_count": null,
      "outputs": []
    },
    {
      "cell_type": "code",
      "metadata": {
        "id": "fudCnaben6oL",
        "colab_type": "code",
        "colab": {}
      },
      "source": [
        "import numpy as np\n",
        "my_array=np.array([[1,2,3,4],[5,6,7,8]],dtype=np.int64)\n",
        "print(my_array)"
      ],
      "execution_count": null,
      "outputs": []
    },
    {
      "cell_type": "code",
      "metadata": {
        "id": "y1_v39cNoWUT",
        "colab_type": "code",
        "colab": {}
      },
      "source": [
        "# Create an array of ones\n",
        "np.ones((3,4))\n",
        "# Create an array of zeros\n",
        "np.zeros((2,3,4),dtype=np.int16)\n",
        "# Create an array with random values\n",
        "np.random.random((2,2))\n",
        "# Create an empty array\n",
        "np.full((2,2),7)\n",
        "# Create an array of evenly-spaced values\n",
        "np.arange(10,25,5)\n",
        "# Create an array of evenly-spaced values\n",
        "np.linspace(0,2,9)"
      ],
      "execution_count": null,
      "outputs": []
    },
    {
      "cell_type": "code",
      "metadata": {
        "id": "05LSXmYxu0u2",
        "colab_type": "code",
        "colab": {}
      },
      "source": [
        "import numpy as np\n",
        "x=np.arange(0.0,5.0,1.0)\n",
        "np.savetxt('test.out',x)\n",
        "#np.savetxt('test.out',x,delimeter=',')"
      ],
      "execution_count": 24,
      "outputs": []
    },
    {
      "cell_type": "code",
      "metadata": {
        "id": "flg5nGxjCTrh",
        "colab_type": "code",
        "colab": {}
      },
      "source": [
        "# print the number of 'my_array's dimensions\n",
        "print(my_array.ndim)\n",
        "# print the number of 'my_array's elements\n",
        "print(my_array.size)\n",
        "# print information about 'my_array's memory layout\n",
        "print(my_array.flags)\n",
        "# print the length of array element in bytes\n",
        "print(my_array.itemsize)\n",
        "# print the total consumed bytes of 'my_array' elements\n",
        "print(my_array.nbytes)"
      ],
      "execution_count": null,
      "outputs": []
    },
    {
      "cell_type": "code",
      "metadata": {
        "id": "l-MdZhPCD9fT",
        "colab_type": "code",
        "colab": {}
      },
      "source": [
        "# Initiliaze 'x'\n",
        "x = np.ones((3,4))\n",
        "# check shape of 'x'\n",
        "print(x.shape)\n",
        "# Initialize 'y'\n",
        "y = np.random.random((3,4))\n",
        "# check the shape of y\n",
        "print(y.shape)\n",
        "# Add x and y\n",
        "x + y"
      ],
      "execution_count": null,
      "outputs": []
    },
    {
      "cell_type": "code",
      "metadata": {
        "id": "fP0HYLddFV2W",
        "colab_type": "code",
        "colab": {}
      },
      "source": [
        "# Add 'x' and 'y'\n",
        "np.add(x,y)\n",
        "# subtract x and y\n",
        "np.subtract(x,y)\n",
        "# multiply x and y\n",
        "np.multiply(x,y)\n",
        "# divide x and y\n",
        "np.divide(x,y)\n",
        "# Calculate remainder of 'x' and 'y'\n",
        "np.remainder(x,y)"
      ],
      "execution_count": null,
      "outputs": []
    },
    {
      "cell_type": "code",
      "metadata": {
        "id": "3Pk2wtiaHJWq",
        "colab_type": "code",
        "colab": {}
      },
      "source": [
        "import pandas as pd\n",
        "# Read the white wine data\n",
        "white=pd.read_csv(\"https://archive.ics.uci.edu/ml/machine-learning-databases/wine-quality/winequality-white.csv\",sep=';')\n",
        "# Read the red wine data\n",
        "red=pd.read_csv(\"https://archive.ics.uci.edu/ml/machine-learning-databases/wine-quality/winequality-red.csv\",sep=';')"
      ],
      "execution_count": 31,
      "outputs": []
    },
    {
      "cell_type": "code",
      "metadata": {
        "id": "OfMqDNZzInb3",
        "colab_type": "code",
        "colab": {}
      },
      "source": [
        "import matplotlib.pyplot as plt\n",
        "fig, ax = plt.subplots(1,2)\n",
        "ax[0].hist(red.alcohol,10,facecolor='red',alpha=0.5,label='Red wine')\n",
        "ax[1].hist(white.alcohol,10,facecolor='white',ec=\"black\",lw=0.5,alpha=0.5,label=\"White wine\")\n",
        "\n",
        "fig.subplots_adjust(left=0,right=1,bottom=0,top=0.5,hspace=0.05,wspace=1)\n",
        "ax[0].set_ylim([0,1000])\n",
        "ax[0].set_xlabel(\"Alcohol in % Vol\")\n",
        "ax[0].set_ylabel(\"Frequency\")\n",
        "ax[1].set_xlabel(\"Alcohol in % Vol\")\n",
        "ax[1].set_ylabel(\"Frequency\")\n",
        "#ax[0].legend(loc='best')\n",
        "#ax[1].legend(loc='best')\n",
        "plt.show()"
      ],
      "execution_count": null,
      "outputs": []
    },
    {
      "cell_type": "code",
      "metadata": {
        "id": "oDkevCGNOcxj",
        "colab_type": "code",
        "colab": {}
      },
      "source": [
        "import numpy as np\n",
        "print(np.histogram(red.alcohol,bins=[7,8,9,10,11,12,13,14,15]))\n",
        "print(np.histogram(white.alcohol,bins=[7,8,9,10,11,12,13,14,15]))"
      ],
      "execution_count": null,
      "outputs": []
    },
    {
      "cell_type": "code",
      "metadata": {
        "id": "vL1lVBhlPGS0",
        "colab_type": "code",
        "colab": {}
      },
      "source": [
        "import matplotlib.pyplot as plt\n",
        "fig, ax = plt.subplots(1,2,figsize=(8,4))\n",
        "ax[0].scatter(red['quality'],red[\"sulphates\"],color=\"red\")\n",
        "ax[1].scatter(white['quality'],white[\"sulphates\"],color=\"white\",edgecolor=\"black\",lw=0.5)\n",
        "ax[0].set_title(\"Red wine\")\n",
        "ax[1].set_title(\"white wine\")\n",
        "ax[0].set_xlabel(\"Quality\")\n",
        "ax[1].set_xlabel(\"Quality\")\n",
        "ax[0].set_ylabel(\"Sulphates\")\n",
        "ax[1].set_ylabel(\"Sulphates\")\n",
        "ax[0].set_xlim([0,10])\n",
        "ax[1].set_xlim([0,10])\n",
        "ax[0].set_ylim([0,2.5])\n",
        "ax[1].set_ylim([0,2.5])\n",
        "fig.subplots_adjust(wspace=0.5)\n",
        "fig.suptitle(\"Wine Quality by Amount of Sulphates\")\n",
        "\n",
        "plt.show()"
      ],
      "execution_count": null,
      "outputs": []
    },
    {
      "cell_type": "code",
      "metadata": {
        "id": "C9SmYUXKTRFj",
        "colab_type": "code",
        "colab": {}
      },
      "source": [
        "# Add 'type'column to 'red' with value 1\n",
        "red['type'] = 1\n",
        "# Add 'type'column to 'white' with value 0\n",
        "white['type'] = 0\n",
        "# Append  'white' to 'red'\n",
        "wines=red.append(white,ignore_index=True)\n",
        "\n",
        "import seaborn as sns\n",
        "corr = wines.corr()\n",
        "sns.heatmap(corr,xticklabels=corr.columns.values,yticklabels=corr.columns.values);"
      ],
      "execution_count": null,
      "outputs": []
    },
    {
      "cell_type": "code",
      "metadata": {
        "id": "JQDTHmTKVdu4",
        "colab_type": "code",
        "colab": {}
      },
      "source": [
        "# Import 'train_test_split' from sklearn.model_selection'\n",
        "from sklearn.model_selection import train_test_split\n",
        "# Spcify the data\n",
        "X = wines.iloc[:,0:11]\n",
        "# Specify the target labels and flatten the array\n",
        "y = np.ravel(wines.type)\n",
        "# Splits the data up in train and test sets\n",
        "X_train,X_test,y_train,y_test = train_test_split(X,y,test_size=0.33,random_state=42)"
      ],
      "execution_count": 47,
      "outputs": []
    },
    {
      "cell_type": "code",
      "metadata": {
        "id": "5hzSCVwoaw6f",
        "colab_type": "code",
        "colab": {}
      },
      "source": [
        "# Import 'StandardScaler' from 'sklearn.processing'\n",
        "from sklearn.preprocessing import StandardScaler\n",
        "# Define the scalar\n",
        "scaler = StandardScaler().fit(X_train)\n",
        "# Scale the train set\n",
        "X_train = scaler.transform(X_train)\n",
        "# Scale the test set\n",
        "X_test = scaler.transform(X_test)"
      ],
      "execution_count": 48,
      "outputs": []
    },
    {
      "cell_type": "code",
      "metadata": {
        "id": "UO3YK93ocXjh",
        "colab_type": "code",
        "colab": {}
      },
      "source": [
        "# Import 'Sequential' from 'keras.models'\n",
        "from keras.models import Sequential\n",
        "# Import 'Dense' from 'keras.layers'\n",
        "from keras.layers import Dense\n",
        "# Initilize the constructor \n",
        "model=Sequential()\n",
        "# Add an input layer\n",
        "model.add(Dense(12,activation='relu',input_shape=(11,)))\n",
        "# Add one hiden layer\n",
        "model.add(Dense(8,activation='relu'))\n",
        "# Add an output layer\n",
        "model.add(Dense(1,activation='sigmoid'))"
      ],
      "execution_count": 53,
      "outputs": []
    },
    {
      "cell_type": "code",
      "metadata": {
        "id": "hm_pG-vde65R",
        "colab_type": "code",
        "colab": {}
      },
      "source": [
        "# Model output shape\n",
        "model.output_shape\n",
        "# Model summary\n",
        "model.summary()\n",
        "# Model config\n",
        "model.get_config()\n",
        "# List all weight tensors\n",
        "model.get_weights()"
      ],
      "execution_count": null,
      "outputs": []
    },
    {
      "cell_type": "code",
      "metadata": {
        "id": "OYDb7du-fxir",
        "colab_type": "code",
        "colab": {}
      },
      "source": [
        "model.compile(loss='binary_crossentropy',optimizer='adam',metrics=['accuracy'])\n",
        "model.fit(X_train,y_train,epochs=20,batch_size=1,verbose=1)"
      ],
      "execution_count": null,
      "outputs": []
    },
    {
      "cell_type": "code",
      "metadata": {
        "id": "PNX2Ur6khUWT",
        "colab_type": "code",
        "colab": {}
      },
      "source": [
        "y_pred = model.predict(X_test)"
      ],
      "execution_count": 58,
      "outputs": []
    },
    {
      "cell_type": "code",
      "metadata": {
        "id": "FVT27SesiROM",
        "colab_type": "code",
        "colab": {}
      },
      "source": [
        "y_test[:5]"
      ],
      "execution_count": null,
      "outputs": []
    },
    {
      "cell_type": "code",
      "metadata": {
        "id": "vyjYbspMiVGX",
        "colab_type": "code",
        "colab": {}
      },
      "source": [
        "score = model.evaluate(X_test,y_test,verbose=1)\n",
        "print(score)"
      ],
      "execution_count": null,
      "outputs": []
    },
    {
      "cell_type": "code",
      "metadata": {
        "id": "2dUOTAJ1iqKK",
        "colab_type": "code",
        "colab": {}
      },
      "source": [
        "# Import modules from 'sklearn.metrics'\n",
        "#from sklearn.metrics import confusion_matrix,precision_score,recall_score,f1_score,cohen_kappa_score\n",
        "# Confusion matrix \n",
        "#confusion_matrix(y_test,y_pred)"
      ],
      "execution_count": null,
      "outputs": []
    },
    {
      "cell_type": "code",
      "metadata": {
        "id": "TjwjC505ltlY",
        "colab_type": "code",
        "colab": {}
      },
      "source": [
        "# Precision\n",
        "#precision_score(y_test,y_pred)"
      ],
      "execution_count": null,
      "outputs": []
    },
    {
      "cell_type": "code",
      "metadata": {
        "id": "BczYrMAEm9Ws",
        "colab_type": "code",
        "colab": {}
      },
      "source": [
        "# Recall \n",
        "#recall_score(y_test,y_pred)"
      ],
      "execution_count": null,
      "outputs": []
    },
    {
      "cell_type": "code",
      "metadata": {
        "id": "TJuFssbVnI3U",
        "colab_type": "code",
        "colab": {}
      },
      "source": [
        "# F1 score\n",
        "#f1_score(y_test,y_pred)"
      ],
      "execution_count": null,
      "outputs": []
    }
  ]
}