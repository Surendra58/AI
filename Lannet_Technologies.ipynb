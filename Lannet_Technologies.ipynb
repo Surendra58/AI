{
  "nbformat": 4,
  "nbformat_minor": 0,
  "metadata": {
    "colab": {
      "name": " Lannet Technologies.ipynb",
      "provenance": [],
      "collapsed_sections": [],
      "authorship_tag": "ABX9TyPtN9GyPJte2OokkhbqZjP3",
      "include_colab_link": true
    },
    "kernelspec": {
      "name": "python3",
      "display_name": "Python 3"
    }
  },
  "cells": [
    {
      "cell_type": "markdown",
      "metadata": {
        "id": "view-in-github",
        "colab_type": "text"
      },
      "source": [
        "<a href=\"https://colab.research.google.com/github/Surendra58/AI/blob/master/Lannet_Technologies.ipynb\" target=\"_parent\"><img src=\"https://colab.research.google.com/assets/colab-badge.svg\" alt=\"Open In Colab\"/></a>"
      ]
    },
    {
      "cell_type": "code",
      "metadata": {
        "id": "-OFMHGh48RMj",
        "colab_type": "code",
        "colab": {}
      },
      "source": [
        "# Write a python function which take a dataframe as input and deals with the issue of outliers in all the continuous variables.\n",
        "# Things to consider:\n",
        "# · It’s up to you on how you want to deal with outliers. You can either remove them or impute them.\n",
        "# · We consider outliers as incorrect entries and not the one which are natural. For example, in the salary column, if there is a value of $1,000,000 then this value can be due to a natural cause (like it’s a salary for a CEO) or it can be a case of incorrect entry (like someone put an extra zero). So, we are only after incorrect entries.\n",
        "# · Function should also identify which columns are continuous so that you can perform outlier removal on these columns\n",
        "# · The code must be very fast so you cannot use multivariate approach which are based on distance calculation between allpoints."
      ],
      "execution_count": null,
      "outputs": []
    },
    {
      "cell_type": "code",
      "metadata": {
        "id": "CcvGMY9o9iRA",
        "colab_type": "code",
        "colab": {
          "base_uri": "https://localhost:8080/",
          "height": 200
        },
        "outputId": "e43508eb-7a21-49c4-b6a7-0219429bd702"
      },
      "source": [
        "import pandas as pd,numpy as np\n",
        "from pandas.api.types import is_numeric_dtype\n",
        "np.random.seed(42)\n",
        "name=['name'+str(i) for i in range(50)]\n",
        "address=['address'+str(i) for i in range(50)]\n",
        "age=np.random.randint(20,100,50)\n",
        "salary=np.random.randint(50000,1000000,50)\n",
        "df=pd.DataFrame(data={'age':age,'name':name,'address':address,'salary':salary})\n",
        "# df\n",
        "# function for outlier detection and removal\n",
        "def remove_outlier(df):\n",
        "    low=.05\n",
        "    high=.95\n",
        "    quant_df=df.quantile([low,high])\n",
        "    for name in list(df.columns):\n",
        "      if is_numeric_dtype(df[name]):\n",
        "       df=df[(df[name] > quant_df.loc[low,name]) \n",
        "               & (df[name] < quant_df.loc[high,name])]\n",
        "    return df\n",
        "remove_outlier(df).head()"
      ],
      "execution_count": 1,
      "outputs": [
        {
          "output_type": "execute_result",
          "data": {
            "text/html": [
              "<div>\n",
              "<style scoped>\n",
              "    .dataframe tbody tr th:only-of-type {\n",
              "        vertical-align: middle;\n",
              "    }\n",
              "\n",
              "    .dataframe tbody tr th {\n",
              "        vertical-align: top;\n",
              "    }\n",
              "\n",
              "    .dataframe thead th {\n",
              "        text-align: right;\n",
              "    }\n",
              "</style>\n",
              "<table border=\"1\" class=\"dataframe\">\n",
              "  <thead>\n",
              "    <tr style=\"text-align: right;\">\n",
              "      <th></th>\n",
              "      <th>age</th>\n",
              "      <th>name</th>\n",
              "      <th>address</th>\n",
              "      <th>salary</th>\n",
              "    </tr>\n",
              "  </thead>\n",
              "  <tbody>\n",
              "    <tr>\n",
              "      <th>0</th>\n",
              "      <td>71</td>\n",
              "      <td>name0</td>\n",
              "      <td>address0</td>\n",
              "      <td>622843</td>\n",
              "    </tr>\n",
              "    <tr>\n",
              "      <th>1</th>\n",
              "      <td>34</td>\n",
              "      <td>name1</td>\n",
              "      <td>address1</td>\n",
              "      <td>306508</td>\n",
              "    </tr>\n",
              "    <tr>\n",
              "      <th>2</th>\n",
              "      <td>91</td>\n",
              "      <td>name2</td>\n",
              "      <td>address2</td>\n",
              "      <td>853591</td>\n",
              "    </tr>\n",
              "    <tr>\n",
              "      <th>4</th>\n",
              "      <td>40</td>\n",
              "      <td>name4</td>\n",
              "      <td>address4</td>\n",
              "      <td>156530</td>\n",
              "    </tr>\n",
              "    <tr>\n",
              "      <th>7</th>\n",
              "      <td>43</td>\n",
              "      <td>name7</td>\n",
              "      <td>address7</td>\n",
              "      <td>510337</td>\n",
              "    </tr>\n",
              "  </tbody>\n",
              "</table>\n",
              "</div>"
            ],
            "text/plain": [
              "   age   name   address  salary\n",
              "0   71  name0  address0  622843\n",
              "1   34  name1  address1  306508\n",
              "2   91  name2  address2  853591\n",
              "4   40  name4  address4  156530\n",
              "7   43  name7  address7  510337"
            ]
          },
          "metadata": {
            "tags": []
          },
          "execution_count": 1
        }
      ]
    },
    {
      "cell_type": "code",
      "metadata": {
        "id": "Gjx8EtZH75Jn",
        "colab_type": "code",
        "colab": {}
      },
      "source": [
        "# Write a function in python that inputs a dataframe and identify which columns have date in them. Using these date columns make new columns which are difference between these columns taking 2 at a time. (for instance if there is date1, date2, date3 columns, output should be like date1-date2, date2-date3, date1-date3). For this problem only, print out data in the colab.\n",
        "# Thing to consider\n",
        "# · Date column might have some invalid entries in them\n",
        "# · Date can be of different format throughout the column\n",
        "# · Code should be efficient and fast\n",
        "# · Code should be well commented and easy to interpret\n",
        "# · Use google Colab\n",
        "# · Code should be robust enough to run on any dataset\n",
        "# · Make a dummy dataset by yourself."
      ],
      "execution_count": null,
      "outputs": []
    },
    {
      "cell_type": "code",
      "metadata": {
        "id": "IXgmt3tRDGVs",
        "colab_type": "code",
        "colab": {
          "base_uri": "https://localhost:8080/",
          "height": 200
        },
        "outputId": "9f5421ae-ee29-48dc-9c96-918fd33dfe9c"
      },
      "source": [
        "import pandas as pd\n",
        "df=pd.DataFrame({'NAME':['A','B','C','D','E'],\n",
        "   'Date1':['2020-04-04',\n",
        "           '2020-03-04',\n",
        "           '2020-08-04',\n",
        "           '2020-06-04',\n",
        "           '2020-05-03'],\n",
        "    'Sex':['M','F','M','F','M'],\n",
        "    'Date2':['2019-05-04',\n",
        "           '2019-04-04',\n",
        "           '2019-04-04',\n",
        "           '2019-02-04',\n",
        "           '2019-07-03'],\n",
        "   'Date3':['2018-02-04',\n",
        "           '2018-02-04',\n",
        "           '2018-02-04',\n",
        "           '2018-02-04',\n",
        "           '2018-02-03']})\n",
        "#df\n",
        "mask=df.astype(str).apply(lambda x : x.str.match(r'(\\d{2,4}-\\d{2}-\\d{2,4})+').all())\n",
        "df1=df.loc[:,mask]=df.loc[:,mask].apply(pd.to_datetime)\n",
        "df1"
      ],
      "execution_count": 2,
      "outputs": [
        {
          "output_type": "execute_result",
          "data": {
            "text/html": [
              "<div>\n",
              "<style scoped>\n",
              "    .dataframe tbody tr th:only-of-type {\n",
              "        vertical-align: middle;\n",
              "    }\n",
              "\n",
              "    .dataframe tbody tr th {\n",
              "        vertical-align: top;\n",
              "    }\n",
              "\n",
              "    .dataframe thead th {\n",
              "        text-align: right;\n",
              "    }\n",
              "</style>\n",
              "<table border=\"1\" class=\"dataframe\">\n",
              "  <thead>\n",
              "    <tr style=\"text-align: right;\">\n",
              "      <th></th>\n",
              "      <th>Date1</th>\n",
              "      <th>Date2</th>\n",
              "      <th>Date3</th>\n",
              "    </tr>\n",
              "  </thead>\n",
              "  <tbody>\n",
              "    <tr>\n",
              "      <th>0</th>\n",
              "      <td>2020-04-04</td>\n",
              "      <td>2019-05-04</td>\n",
              "      <td>2018-02-04</td>\n",
              "    </tr>\n",
              "    <tr>\n",
              "      <th>1</th>\n",
              "      <td>2020-03-04</td>\n",
              "      <td>2019-04-04</td>\n",
              "      <td>2018-02-04</td>\n",
              "    </tr>\n",
              "    <tr>\n",
              "      <th>2</th>\n",
              "      <td>2020-08-04</td>\n",
              "      <td>2019-04-04</td>\n",
              "      <td>2018-02-04</td>\n",
              "    </tr>\n",
              "    <tr>\n",
              "      <th>3</th>\n",
              "      <td>2020-06-04</td>\n",
              "      <td>2019-02-04</td>\n",
              "      <td>2018-02-04</td>\n",
              "    </tr>\n",
              "    <tr>\n",
              "      <th>4</th>\n",
              "      <td>2020-05-03</td>\n",
              "      <td>2019-07-03</td>\n",
              "      <td>2018-02-03</td>\n",
              "    </tr>\n",
              "  </tbody>\n",
              "</table>\n",
              "</div>"
            ],
            "text/plain": [
              "       Date1      Date2      Date3\n",
              "0 2020-04-04 2019-05-04 2018-02-04\n",
              "1 2020-03-04 2019-04-04 2018-02-04\n",
              "2 2020-08-04 2019-04-04 2018-02-04\n",
              "3 2020-06-04 2019-02-04 2018-02-04\n",
              "4 2020-05-03 2019-07-03 2018-02-03"
            ]
          },
          "metadata": {
            "tags": []
          },
          "execution_count": 2
        }
      ]
    },
    {
      "cell_type": "code",
      "metadata": {
        "id": "S7HwAF8C9fQH",
        "colab_type": "code",
        "colab": {
          "base_uri": "https://localhost:8080/",
          "height": 159
        },
        "outputId": "ae4f48b2-5650-46bb-848e-8d072e3d9fda"
      },
      "source": [
        "# Difference of Date1 and Date2\n",
        "Datediff1=df1['Date1'].subtract(df1['Date2']).dt.days\n",
        "print(\"\\nDifference of Date1 and Date2 are in Days:\\n\",Datediff1)"
      ],
      "execution_count": 4,
      "outputs": [
        {
          "output_type": "stream",
          "text": [
            "\n",
            "Difference of Date1 and Date2 are in Days:\n",
            " 0    336\n",
            "1    335\n",
            "2    488\n",
            "3    486\n",
            "4    305\n",
            "dtype: int64\n"
          ],
          "name": "stdout"
        }
      ]
    },
    {
      "cell_type": "code",
      "metadata": {
        "id": "WL9IsYmwDq2I",
        "colab_type": "code",
        "colab": {
          "base_uri": "https://localhost:8080/",
          "height": 159
        },
        "outputId": "01276cad-ee8f-4daa-8a34-978c5179b3f0"
      },
      "source": [
        "# Difference of Date2 and Date3\n",
        "Datediff2=df1['Date2'].subtract(df1['Date3']).dt.days\n",
        "print(\"\\nDifference of Date2 and Date3 are in Days:\\n\",Datediff2)"
      ],
      "execution_count": 5,
      "outputs": [
        {
          "output_type": "stream",
          "text": [
            "\n",
            "Difference of Date2 and Date3 are in Days:\n",
            " 0    454\n",
            "1    424\n",
            "2    424\n",
            "3    365\n",
            "4    515\n",
            "dtype: int64\n"
          ],
          "name": "stdout"
        }
      ]
    },
    {
      "cell_type": "code",
      "metadata": {
        "id": "E5xom9yRJwKF",
        "colab_type": "code",
        "colab": {
          "base_uri": "https://localhost:8080/",
          "height": 159
        },
        "outputId": "2e9b448f-e06d-437e-dd1b-d377aeaa60b6"
      },
      "source": [
        "# Difference of Date1 and Date3\n",
        "Datediff3=df1['Date1'].subtract(df1['Date3']).dt.days\n",
        "print(\"\\nDifference of Date1 and Date3 are in Days:\\n\",Datediff3)"
      ],
      "execution_count": 6,
      "outputs": [
        {
          "output_type": "stream",
          "text": [
            "\n",
            "Difference of Date1 and Date3 are in Days:\n",
            " 0    790\n",
            "1    759\n",
            "2    912\n",
            "3    851\n",
            "4    820\n",
            "dtype: int64\n"
          ],
          "name": "stdout"
        }
      ]
    }
  ]
}