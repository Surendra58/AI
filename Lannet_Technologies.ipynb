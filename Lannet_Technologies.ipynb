{
  "nbformat": 4,
  "nbformat_minor": 0,
  "metadata": {
    "colab": {
      "name": " Lannet Technologies.ipynb",
      "provenance": [],
      "collapsed_sections": [],
      "authorship_tag": "ABX9TyMi76dTE59YDwJ7/qWeIWp0",
      "include_colab_link": true
    },
    "kernelspec": {
      "name": "python3",
      "display_name": "Python 3"
    }
  },
  "cells": [
    {
      "cell_type": "markdown",
      "metadata": {
        "id": "view-in-github",
        "colab_type": "text"
      },
      "source": [
        "<a href=\"https://colab.research.google.com/github/Surendra58/AI/blob/master/Lannet_Technologies.ipynb\" target=\"_parent\"><img src=\"https://colab.research.google.com/assets/colab-badge.svg\" alt=\"Open In Colab\"/></a>"
      ]
    },
    {
      "cell_type": "code",
      "metadata": {
        "id": "-OFMHGh48RMj",
        "colab_type": "code",
        "colab": {}
      },
      "source": [
        "# Write a python function which take a dataframe as input and deals with the issue of outliers in all the continuous variables.\n",
        "# Things to consider:\n",
        "# · It’s up to you on how you want to deal with outliers. You can either remove them or impute them.\n",
        "# · We consider outliers as incorrect entries and not the one which are natural. For example, in the salary column, if there is a value of $1,000,000 then this value can be due to a natural cause (like it’s a salary for a CEO) or it can be a case of incorrect entry (like someone put an extra zero). So, we are only after incorrect entries.\n",
        "# · Function should also identify which columns are continuous so that you can perform outlier removal on these columns\n",
        "# · The code must be very fast so you cannot use multivariate approach which are based on distance calculation between allpoints."
      ],
      "execution_count": null,
      "outputs": []
    },
    {
      "cell_type": "code",
      "metadata": {
        "id": "CcvGMY9o9iRA",
        "colab_type": "code",
        "colab": {}
      },
      "source": [
        "import pandas as pd,numpy as np\n",
        "from pandas.api.types import is_numeric_dtype\n",
        "np.random.seed(42)\n",
        "age=np.random.randint(20,100,50)\n",
        "name=['name'+str(i) for i in range(50)]\n",
        "address=['address'+str(i) for i in range(50)]\n",
        "df=pd.DataFrame(data={'age':age,'name':name,'address':address})\n",
        "def remove_outlier(df):\n",
        "    low=.05\n",
        "    high=.95\n",
        "    quant_df=df.quantile([low,high])\n",
        "    for name in list(df.columns):\n",
        "      if is_numeric_dtype(df[name]):\n",
        "       df=df[(df[name] > quant_df.loc[low,name]) \n",
        "               & (df[name] < quant_df.loc[high,name])]\n",
        "    return df\n",
        "remove_outlier(df).head()"
      ],
      "execution_count": null,
      "outputs": []
    },
    {
      "cell_type": "code",
      "metadata": {
        "id": "IXgmt3tRDGVs",
        "colab_type": "code",
        "colab": {
          "base_uri": "https://localhost:8080/",
          "height": 200
        },
        "outputId": "ceaba08a-93aa-461b-af09-4085faced422"
      },
      "source": [
        "import pandas as pd\n",
        "df=pd.DataFrame({'col1':['A','B','C','D','E'],\n",
        "   'col2':['2020-04-04 18:41:00',\n",
        "           '2020-03-04 18:41:00',\n",
        "           '2020-08-04 18:41:00',\n",
        "           '2020-06-04 18:41:00',\n",
        "           '2020-05-03 14:13:00'],\n",
        "  'col3':[0, 1, 2, 3, 4],\n",
        "   'col4':['2019-05-04 18:41:00',\n",
        "           '2019-04-04 18:41:00',\n",
        "           '2019-04-04 18:41:00',\n",
        "           '2019-02-04 18:41:00',\n",
        "           '2019-07-03 14:13:00'],\n",
        "   'col5':['2018-02-04 12:41:00',\n",
        "           '2018-02-04 18:41:00',\n",
        "           '2018-02-04 13:41:00',\n",
        "           '2018-02-04 11:41:00',\n",
        "           '2018-02-03 14:13:00']})\n",
        "\n",
        "mask=df.astype(str).apply(lambda x : x.str.match(r'(\\d{2,4}-\\d{2}-\\d{2,4})+').all())\n",
        "df1=df.loc[:,mask]=df.loc[:,mask].apply(pd.to_datetime)\n",
        "df1"
      ],
      "execution_count": 21,
      "outputs": [
        {
          "output_type": "execute_result",
          "data": {
            "text/html": [
              "<div>\n",
              "<style scoped>\n",
              "    .dataframe tbody tr th:only-of-type {\n",
              "        vertical-align: middle;\n",
              "    }\n",
              "\n",
              "    .dataframe tbody tr th {\n",
              "        vertical-align: top;\n",
              "    }\n",
              "\n",
              "    .dataframe thead th {\n",
              "        text-align: right;\n",
              "    }\n",
              "</style>\n",
              "<table border=\"1\" class=\"dataframe\">\n",
              "  <thead>\n",
              "    <tr style=\"text-align: right;\">\n",
              "      <th></th>\n",
              "      <th>col2</th>\n",
              "      <th>col4</th>\n",
              "      <th>col5</th>\n",
              "    </tr>\n",
              "  </thead>\n",
              "  <tbody>\n",
              "    <tr>\n",
              "      <th>0</th>\n",
              "      <td>2020-04-04 18:41:00</td>\n",
              "      <td>2019-05-04 18:41:00</td>\n",
              "      <td>2018-02-04 12:41:00</td>\n",
              "    </tr>\n",
              "    <tr>\n",
              "      <th>1</th>\n",
              "      <td>2020-03-04 18:41:00</td>\n",
              "      <td>2019-04-04 18:41:00</td>\n",
              "      <td>2018-02-04 18:41:00</td>\n",
              "    </tr>\n",
              "    <tr>\n",
              "      <th>2</th>\n",
              "      <td>2020-08-04 18:41:00</td>\n",
              "      <td>2019-04-04 18:41:00</td>\n",
              "      <td>2018-02-04 13:41:00</td>\n",
              "    </tr>\n",
              "    <tr>\n",
              "      <th>3</th>\n",
              "      <td>2020-06-04 18:41:00</td>\n",
              "      <td>2019-02-04 18:41:00</td>\n",
              "      <td>2018-02-04 11:41:00</td>\n",
              "    </tr>\n",
              "    <tr>\n",
              "      <th>4</th>\n",
              "      <td>2020-05-03 14:13:00</td>\n",
              "      <td>2019-07-03 14:13:00</td>\n",
              "      <td>2018-02-03 14:13:00</td>\n",
              "    </tr>\n",
              "  </tbody>\n",
              "</table>\n",
              "</div>"
            ],
            "text/plain": [
              "                 col2                col4                col5\n",
              "0 2020-04-04 18:41:00 2019-05-04 18:41:00 2018-02-04 12:41:00\n",
              "1 2020-03-04 18:41:00 2019-04-04 18:41:00 2018-02-04 18:41:00\n",
              "2 2020-08-04 18:41:00 2019-04-04 18:41:00 2018-02-04 13:41:00\n",
              "3 2020-06-04 18:41:00 2019-02-04 18:41:00 2018-02-04 11:41:00\n",
              "4 2020-05-03 14:13:00 2019-07-03 14:13:00 2018-02-03 14:13:00"
            ]
          },
          "metadata": {
            "tags": []
          },
          "execution_count": 21
        }
      ]
    },
    {
      "cell_type": "code",
      "metadata": {
        "id": "S7HwAF8C9fQH",
        "colab_type": "code",
        "colab": {
          "base_uri": "https://localhost:8080/",
          "height": 159
        },
        "outputId": "867eabe3-1f2f-4cd7-dfc4-c7b83e7d1516"
      },
      "source": [
        "# getting Difference \n",
        "df1['Date1-Date2']=(df1['col2'] - df1['col4']).dt.days\n",
        "print(\"\\nDifference of col2 and col4:\\n\",df1)"
      ],
      "execution_count": 23,
      "outputs": [
        {
          "output_type": "stream",
          "text": [
            "\n",
            "Difference of col2 and col4:\n",
            "                  col2                col4                col5  Date1-Date2\n",
            "0 2020-04-04 18:41:00 2019-05-04 18:41:00 2018-02-04 12:41:00          336\n",
            "1 2020-03-04 18:41:00 2019-04-04 18:41:00 2018-02-04 18:41:00          335\n",
            "2 2020-08-04 18:41:00 2019-04-04 18:41:00 2018-02-04 13:41:00          488\n",
            "3 2020-06-04 18:41:00 2019-02-04 18:41:00 2018-02-04 11:41:00          486\n",
            "4 2020-05-03 14:13:00 2019-07-03 14:13:00 2018-02-03 14:13:00          305\n"
          ],
          "name": "stdout"
        }
      ]
    },
    {
      "cell_type": "code",
      "metadata": {
        "id": "WL9IsYmwDq2I",
        "colab_type": "code",
        "colab": {
          "base_uri": "https://localhost:8080/",
          "height": 195
        },
        "outputId": "d5baecd2-2f1f-4e3d-8de5-f4133eb22140"
      },
      "source": [
        "# getting Difference \n",
        "df1['Date3-Date2']=(df1['col5'] - df1['col4']).dt.days\n",
        "print(\"\\nDifference of col4 and col5:\\n\",df1)"
      ],
      "execution_count": 25,
      "outputs": [
        {
          "output_type": "stream",
          "text": [
            "\n",
            "Difference of col4 and col5:\n",
            "                  col2                col4  ... Date1-Date2  Date3-Date2\n",
            "0 2020-04-04 18:41:00 2019-05-04 18:41:00  ...        -455         -455\n",
            "1 2020-03-04 18:41:00 2019-04-04 18:41:00  ...        -424         -424\n",
            "2 2020-08-04 18:41:00 2019-04-04 18:41:00  ...        -425         -425\n",
            "3 2020-06-04 18:41:00 2019-02-04 18:41:00  ...        -366         -366\n",
            "4 2020-05-03 14:13:00 2019-07-03 14:13:00  ...        -515         -515\n",
            "\n",
            "[5 rows x 5 columns]\n"
          ],
          "name": "stdout"
        }
      ]
    },
    {
      "cell_type": "code",
      "metadata": {
        "id": "E5xom9yRJwKF",
        "colab_type": "code",
        "colab": {
          "base_uri": "https://localhost:8080/",
          "height": 195
        },
        "outputId": "77865f37-c28c-4f8a-bb51-e0aa0e6b4b7f"
      },
      "source": [
        "# getting Difference \n",
        "df1['Date3-Date1']=(df1['col5'] - df1['col2']).dt.days\n",
        "print(\"\\nDifference of col5 and col1:\\n\",df1)"
      ],
      "execution_count": 26,
      "outputs": [
        {
          "output_type": "stream",
          "text": [
            "\n",
            "Difference of col5 and col1:\n",
            "                  col2                col4  ... Date3-Date2  Date3-Date1\n",
            "0 2020-04-04 18:41:00 2019-05-04 18:41:00  ...        -455         -791\n",
            "1 2020-03-04 18:41:00 2019-04-04 18:41:00  ...        -424         -759\n",
            "2 2020-08-04 18:41:00 2019-04-04 18:41:00  ...        -425         -913\n",
            "3 2020-06-04 18:41:00 2019-02-04 18:41:00  ...        -366         -852\n",
            "4 2020-05-03 14:13:00 2019-07-03 14:13:00  ...        -515         -820\n",
            "\n",
            "[5 rows x 6 columns]\n"
          ],
          "name": "stdout"
        }
      ]
    }
  ]
}