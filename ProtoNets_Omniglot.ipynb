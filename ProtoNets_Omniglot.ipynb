{
  "nbformat": 4,
  "nbformat_minor": 0,
  "metadata": {
    "kernelspec": {
      "display_name": "Python 3",
      "language": "python",
      "name": "python3"
    },
    "language_info": {
      "codemirror_mode": {
        "name": "ipython",
        "version": 3
      },
      "file_extension": ".py",
      "mimetype": "text/x-python",
      "name": "python",
      "nbconvert_exporter": "python",
      "pygments_lexer": "ipython3",
      "version": "3.6.10"
    },
    "colab": {
      "name": "ProtoNets-Omniglot.ipynb",
      "provenance": [],
      "collapsed_sections": [],
      "toc_visible": true
    },
    "accelerator": "GPU"
  },
  "cells": [
    {
      "cell_type": "markdown",
      "metadata": {
        "id": "u6N9DG7z04qd",
        "colab_type": "text"
      },
      "source": [
        "# Prototypical Networks\n",
        "### on the Omniglot Dataset"
      ]
    },
    {
      "cell_type": "markdown",
      "metadata": {
        "id": "J9D7EU5d2EkV",
        "colab_type": "text"
      },
      "source": [
        "## Setup"
      ]
    },
    {
      "cell_type": "code",
      "metadata": {
        "id": "a1L56cE8Tt6o",
        "colab_type": "code",
        "colab": {}
      },
      "source": [
        "https://github.com/theneuralbeing/prototypical_networks"
      ],
      "execution_count": null,
      "outputs": []
    },
    {
      "cell_type": "code",
      "metadata": {
        "id": "p09MFheMT_im",
        "colab_type": "code",
        "colab": {}
      },
      "source": [
        "Prototypical Networks  - AI-Metric Based Meta Learning(AGI)"
      ],
      "execution_count": null,
      "outputs": []
    },
    {
      "cell_type": "code",
      "metadata": {
        "id": "9AK1Sr4A1BOf",
        "colab_type": "code",
        "colab": {}
      },
      "source": [
        "# Clone the repository\n",
        "!git clone https://github.com/theneuralbeing/prototypical_networks"
      ],
      "execution_count": null,
      "outputs": []
    },
    {
      "cell_type": "code",
      "metadata": {
        "id": "g6F62DAx1E2k",
        "colab_type": "code",
        "colab": {}
      },
      "source": [
        "cd prototypical_networks/"
      ],
      "execution_count": null,
      "outputs": []
    },
    {
      "cell_type": "code",
      "metadata": {
        "id": "5EnsIgWr18bi",
        "colab_type": "code",
        "colab": {}
      },
      "source": [
        "# Download\n",
        "!wget https://github.com/brendenlake/omniglot/raw/master/python/images_background.zip\n",
        "!wget https://github.com/brendenlake/omniglot/raw/master/python/images_evaluation.zip\n",
        "# Unzip to omniglot/ folder\n",
        "!unzip images_background.zip\n",
        "!unzip images_evaluation.zip"
      ],
      "execution_count": null,
      "outputs": []
    },
    {
      "cell_type": "markdown",
      "metadata": {
        "id": "SxXztXXh2HCD",
        "colab_type": "text"
      },
      "source": [
        "## Imports"
      ]
    },
    {
      "cell_type": "code",
      "metadata": {
        "id": "wDrcK-e104qe",
        "colab_type": "code",
        "colab": {}
      },
      "source": [
        "import numpy as np\n",
        "import os\n",
        "import cv2\n",
        "from scipy import ndimage\n",
        "from tqdm.notebook import tqdm\n",
        "import matplotlib.pyplot as plt\n",
        "\n",
        "import torch\n",
        "from torch import nn\n",
        "import torch.nn.functional as F\n",
        "import torchvision"
      ],
      "execution_count": 4,
      "outputs": []
    },
    {
      "cell_type": "markdown",
      "metadata": {
        "id": "zrHyraNn04qk",
        "colab_type": "text"
      },
      "source": [
        "## Load Dataset"
      ]
    },
    {
      "cell_type": "code",
      "metadata": {
        "id": "Y-UBwiR804ql",
        "colab_type": "code",
        "colab": {}
      },
      "source": [
        "def load_characters(root, alphabet):\n",
        "    '''\n",
        "    Loads the characters from a given alphabet\n",
        "    Args:\n",
        "        root (str): Root directory\n",
        "        alphabet (str): folder name of alphabet\n",
        "    Returns:\n",
        "        (tuple) of:\n",
        "            (list): images\n",
        "            (list): labels\n",
        "    '''\n",
        "    X = []\n",
        "    y = []\n",
        "    \n",
        "    alphabet_path = os.path.join(root, alphabet)\n",
        "    characters = os.listdir(alphabet_path)\n",
        "    \n",
        "    for char in characters:\n",
        "        char_path = os.path.join(alphabet_path, char)\n",
        "        images = os.listdir(char_path)\n",
        "        \n",
        "        for img in images:\n",
        "            image = cv2.imread(os.path.join(char_path, img))\n",
        "            image = cv2.resize(image, (28, 28)) / 255\n",
        "            \n",
        "            # Augmentations to add 3 new classes by rotating each class\n",
        "            rotated_90 = ndimage.rotate(image, 90)\n",
        "            rotated_180 = ndimage.rotate(image, 180)\n",
        "            rotated_270 = ndimage.rotate(image, 270)\n",
        "            \n",
        "            X.extend((image, rotated_90, rotated_180, rotated_270))\n",
        "            y.extend((f'{alphabet}_{char}_0', \n",
        "                      f'{alphabet}_{char}_90', \n",
        "                      f'{alphabet}_{char}_180', \n",
        "                      f'{alphabet}_{char}_270'))\n",
        "    \n",
        "    return X, y"
      ],
      "execution_count": 6,
      "outputs": []
    },
    {
      "cell_type": "code",
      "metadata": {
        "id": "W0kWpreY04qp",
        "colab_type": "code",
        "colab": {}
      },
      "source": [
        "def load_data(root):\n",
        "    '''\n",
        "    Loads the full omniglot dataset from a root directory\n",
        "    Args:\n",
        "        root (str): path of omniglot dataset\n",
        "    Returns:\n",
        "        (tuple) of:\n",
        "            (ndarray): images\n",
        "            (ndarray): labels\n",
        "    '''\n",
        "    X_data = []\n",
        "    y_data = []\n",
        "    \n",
        "    alphabets = os.listdir(root)\n",
        "    for alphabet in tqdm(alphabets):\n",
        "        X, y = load_characters(root, alphabet)\n",
        "        X_data.extend(X)\n",
        "        y_data.extend(y)\n",
        "    \n",
        "    return np.array(X_data), np.array(y_data)"
      ],
      "execution_count": 7,
      "outputs": []
    },
    {
      "cell_type": "code",
      "metadata": {
        "id": "B7TRGNdN04qu",
        "colab_type": "code",
        "colab": {}
      },
      "source": [
        "X_train, y_train = load_data('images_background/')"
      ],
      "execution_count": null,
      "outputs": []
    },
    {
      "cell_type": "code",
      "metadata": {
        "id": "PwtXRlz204q1",
        "colab_type": "code",
        "colab": {}
      },
      "source": [
        "X_eval, y_eval = load_data('images_evaluation/')"
      ],
      "execution_count": null,
      "outputs": []
    },
    {
      "cell_type": "markdown",
      "metadata": {
        "id": "JPBUatUA04q4",
        "colab_type": "text"
      },
      "source": [
        "## Task Generation"
      ]
    },
    {
      "cell_type": "code",
      "metadata": {
        "id": "HW2BTEeM04q5",
        "colab_type": "code",
        "colab": {}
      },
      "source": [
        "def extract_sample(X_data, y_data, k_shot=5, n_way=8, n_query=5, permute=True):\n",
        "    '''\n",
        "    Extract a random sample as a k-shot n-way task\n",
        "    Args:\n",
        "        X_data (ndarray): images\n",
        "        y_data (ndarray): labels\n",
        "        k_shot (int): number of images per class\n",
        "        n_way (int): number of classes in the task\n",
        "        n_query (int): number of query images\n",
        "        permute (bool): flag to shuffle the classes or not. For training this must be set to True.\n",
        "    Returns:\n",
        "        (ndarray): sampled images of shape (n_way, k_shot + n_query, 28, 28, 3)\n",
        "    '''\n",
        "    sample = []\n",
        "    \n",
        "    # Randomly select n_way classes\n",
        "    sampled_cls = np.random.choice(np.unique(y_data), n_way, replace=False)\n",
        "    \n",
        "    # Only useful for extracting samples with no query images during prediction on unlablled data\n",
        "    if not permute:\n",
        "        sampled_cls = np.unique(y_data)[:n_way]\n",
        "        \n",
        "    \n",
        "    for c in sampled_cls:\n",
        "        # Select images belonging to that class\n",
        "        X_data_c = X_data[y_data == c]\n",
        "        \n",
        "        # Sample k_shot+n_query images\n",
        "        sample_images = np.random.permutation(X_data_c)[:(k_shot+n_query)]\n",
        "        sample.append(sample_images)\n",
        "\n",
        "    sample = np.array(sample)\n",
        "    # Convert to tensor and permute the images as channels first\n",
        "    sample = torch.from_numpy(sample).float().permute(0, 1, 4, 2, 3)\n",
        "    \n",
        "    return sample"
      ],
      "execution_count": 10,
      "outputs": []
    },
    {
      "cell_type": "code",
      "metadata": {
        "id": "Dxja1Whp04rS",
        "colab_type": "code",
        "colab": {}
      },
      "source": [
        "def display_sample(sample):\n",
        "    '''Display the samples of the task as a grid'''\n",
        "    # Reshape to 4-dimensions from 5-dimensions\n",
        "    sample_4d = sample.view(sample.shape[0]*sample.shape[1], *sample.shape[2:])\n",
        "    \n",
        "    # Make a grid\n",
        "    out = torchvision.utils.make_grid(sample_4d, nrow=sample.shape[1])\n",
        "    \n",
        "    plt.figure(figsize = (16,7))\n",
        "    plt.imshow(out.permute(1, 2, 0))"
      ],
      "execution_count": 11,
      "outputs": []
    },
    {
      "cell_type": "code",
      "metadata": {
        "id": "VLhKN5rf04rY",
        "colab_type": "code",
        "colab": {}
      },
      "source": [
        "test_sample = extract_sample(X_train, y_train, k_shot=5, n_way=8, n_query=5)"
      ],
      "execution_count": 12,
      "outputs": []
    },
    {
      "cell_type": "code",
      "metadata": {
        "id": "wn1qWHfL04rc",
        "colab_type": "code",
        "colab": {
          "base_uri": "https://localhost:8080/",
          "height": 450
        },
        "outputId": "beff87c0-d16f-49ed-94ba-537077a5582d"
      },
      "source": [
        "display_sample(test_sample)"
      ],
      "execution_count": 13,
      "outputs": [
        {
          "output_type": "stream",
          "text": [
            "Clipping input data to the valid range for imshow with RGB data ([0..1] for floats or [0..255] for integers).\n"
          ],
          "name": "stderr"
        },
        {
          "output_type": "display_data",
          "data": {
            "image/png": "[encoded data removed]",
            "text/plain": [
              "<Figure size 1152x504 with 1 Axes>"
            ]
          },
          "metadata": {
            "tags": [],
            "needs_background": "light"
          }
        }
      ]
    },
    {
      "cell_type": "markdown",
      "metadata": {
        "id": "VH6YZv-u04rg",
        "colab_type": "text"
      },
      "source": [
        "## Model"
      ]
    },
    {
      "cell_type": "code",
      "metadata": {
        "id": "DMmu8M4104rh",
        "colab_type": "code",
        "colab": {}
      },
      "source": [
        "class Image2Vector(nn.Module):\n",
        "    def __init__(self):\n",
        "        super(Image2Vector, self).__init__()\n",
        "        \n",
        "        self.input_block = nn.Sequential(nn.Conv2d(3, 64, 3, padding=1),\n",
        "                                         nn.BatchNorm2d(64),\n",
        "                                         nn.ReLU(),\n",
        "                                         nn.MaxPool2d(2))\n",
        "        \n",
        "        self.conv_block = nn.Sequential(nn.Conv2d(64, 64, 3, padding=1),\n",
        "                                        nn.BatchNorm2d(64),\n",
        "                                        nn.ReLU(),\n",
        "                                        nn.MaxPool2d(2))\n",
        "    def forward(self, x):\n",
        "        \n",
        "        x = self.input_block(x)\n",
        "        x = self.conv_block(x)\n",
        "        x = self.conv_block(x)\n",
        "        x = self.conv_block(x)\n",
        "        \n",
        "        # Output of shape (batch_size, 64)\n",
        "        out = x.view(x.size(0), -1)\n",
        "        \n",
        "        return out"
      ],
      "execution_count": 14,
      "outputs": []
    },
    {
      "cell_type": "code",
      "metadata": {
        "id": "VBwqwSb204rk",
        "colab_type": "code",
        "colab": {}
      },
      "source": [
        "class ProtoNet(nn.Module):\n",
        "    '''ProtoNet Model for usage with known/labelled data'''\n",
        "    def __init__(self):\n",
        "        super(ProtoNet, self).__init__()\n",
        "        \n",
        "        self.encoder = Image2Vector()\n",
        "    \n",
        "    def forward(self, sample, k_shot, n_way, n_query, device):\n",
        "        '''Forward pass\n",
        "        Args:\n",
        "            sample (torch.Tensor): sample of shape (n_way, k_shot + n_query, 28, 28, 3)\n",
        "            k_shot (int): number of images per class\n",
        "            n_way (int): number of classes\n",
        "            n_query (int): number of query images per class\n",
        "        \n",
        "        Returns:\n",
        "            tuple of:\n",
        "                loss, dict of loss value, accuracy, predictions\n",
        "        '''\n",
        "        # Get the support set and query set images\n",
        "        support = sample[:, :k_shot]\n",
        "        queries = sample[:, k_shot:]\n",
        "        \n",
        "        # Get the target indices\n",
        "        targets = torch.arange(0, n_way).view(n_way, 1, 1).expand(n_way, n_query, 1).long().to(device)\n",
        "        \n",
        "        # Concatenate support set and query set along the 0th dimension\n",
        "        x = torch.cat([support.contiguous().view(n_way * k_shot, *support.size()[2:]), \n",
        "                       queries.contiguous().view(n_way * n_query, *queries.size()[2:])], 0)\n",
        "        \n",
        "        # Get the embeddings\n",
        "        embeds = self.encoder(x)\n",
        "        z_dim = embeds.size(-1)\n",
        "        \n",
        "        # Compute Prototypes\n",
        "        protos = embeds[:n_way * k_shot].view(n_way, k_shot, z_dim).mean(1)\n",
        "        \n",
        "        # Get query embeddings\n",
        "        query_embeds = embeds[n_way * k_shot:]\n",
        "        \n",
        "        # Compute Distances\n",
        "        distances = self.euclidean(query_embeds, protos)\n",
        "        \n",
        "        # Compute Log Softmax over the inverse of euclidean distances\n",
        "        log_p = F.log_softmax(-distances, dim=1).view(n_way, n_query, -1)\n",
        "        \n",
        "        # Compute the negative of log softmax for correct classes (NLL)\n",
        "        # and calculate the mean NLL loss\n",
        "        loss = -log_p.gather(2, targets).squeeze().view(-1).mean()\n",
        "                \n",
        "        # Get predictions and calculate accuracy\n",
        "        y_hat = log_p.argmax(2)\n",
        "        accuracy = torch.eq(y_hat, targets.squeeze()).float().mean()\n",
        "        \n",
        "        return loss, {'loss': loss.item(), \n",
        "                      'preds': y_hat, \n",
        "                      'acc': accuracy.item()}\n",
        "        \n",
        "        \n",
        "    def euclidean(self, queries, protos):\n",
        "        '''\n",
        "        Calculates Euclidean Distances between queries and prototypes\n",
        "        Args:\n",
        "            queries (torch.Tensor): shape (n, d) where n is n_way*n_query\n",
        "            protos (torch.Tensor): shape (m, d) where m is n_way\n",
        "        Returns:\n",
        "            (torch.Tensor): shape (n, m) i.e. for each query the euclidean distances\n",
        "                            to each of the prototypes\n",
        "        '''\n",
        "        n = queries.size(0)\n",
        "        m = protos.size(0)\n",
        "        d = queries.size(1)\n",
        "        \n",
        "        # Reshaping the queries and prototypes for distance calculation\n",
        "        queries = queries.unsqueeze(1).expand(n, m, d)\n",
        "        protos = protos.unsqueeze(0).expand(n, m, d)\n",
        "        \n",
        "        distance = torch.pow(queries - protos, 2).sum(2) # of shape n x m\n",
        "        \n",
        "        return distance"
      ],
      "execution_count": 16,
      "outputs": []
    },
    {
      "cell_type": "code",
      "metadata": {
        "id": "ZYkvF4Hu04ro",
        "colab_type": "code",
        "colab": {}
      },
      "source": [
        "model = ProtoNet()"
      ],
      "execution_count": 17,
      "outputs": []
    },
    {
      "cell_type": "markdown",
      "metadata": {
        "id": "FgVjXJ9j04rv",
        "colab_type": "text"
      },
      "source": [
        "## Training"
      ]
    },
    {
      "cell_type": "code",
      "metadata": {
        "id": "DwQGtnR304rw",
        "colab_type": "code",
        "colab": {}
      },
      "source": [
        "from tqdm.notebook import tnrange"
      ],
      "execution_count": 18,
      "outputs": []
    },
    {
      "cell_type": "code",
      "metadata": {
        "id": "wPjqCAlE04ry",
        "colab_type": "code",
        "colab": {}
      },
      "source": [
        "def train(model, X_data, y_data, optimizer, device='cuda', \n",
        "          k_shot=5, n_way=60, n_query=5, epochs=5, episodes=2000):\n",
        "    '''\n",
        "    Trains the ProtoNet on k-shot n-way task\n",
        "    Args:\n",
        "        model\n",
        "        X_data (torch.Tensor): images\n",
        "        y_data (torch.Tensor): labels\n",
        "        optimizer\n",
        "        k_shot (int): number of support images per class\n",
        "        n_way (int): number of classes\n",
        "        n_query (int): number of query images per class\n",
        "        epochs (int): maximum epochs\n",
        "        episodes (int): number of steps per epoch\n",
        "    '''\n",
        "    \n",
        "    model.to(device)\n",
        "    model.train()\n",
        "    # Create LR scheduler\n",
        "    scheduler = torch.optim.lr_scheduler.StepLR(optimizer, 1, gamma=0.5)\n",
        "    \n",
        "    for epoch in range(epochs):\n",
        "        print('Epoch {:d} Started...'.format(epoch+1))\n",
        "        train_losses = 0\n",
        "        train_accuracies = 0\n",
        "        \n",
        "        for episode in tnrange(episodes, desc='Epoch {:d}'.format(epoch+1)):\n",
        "            optimizer.zero_grad()\n",
        "            \n",
        "            # Extract sample\n",
        "            sample = extract_sample(X_data, y_data, k_shot, n_way, n_query).to(device)\n",
        "            \n",
        "            # Forward Pass on ProtoNet\n",
        "            loss, stats = model(sample, k_shot, n_way, n_query, device)\n",
        "            \n",
        "            # Backprop and Optimize\n",
        "            loss.backward()\n",
        "            optimizer.step()\n",
        "            \n",
        "            # Get Stats\n",
        "            train_losses += stats['loss']\n",
        "            train_accuracies += stats['acc']\n",
        "            \n",
        "            if episode % 200 == 0:\n",
        "                print('At Episode {:d} -- Loss {:.5f} - Acc: {:.3f}'.format(episode, stats['loss'], stats['acc']))\n",
        "        \n",
        "        # Print Epoch Stats\n",
        "        mean_loss = train_losses / episodes\n",
        "        mean_acc = train_accuracies / episodes\n",
        "        print('Epoch {:d} -- Loss: {:.5f} - Acc: {:.3f}\\n'.format(epoch+1, mean_loss, mean_acc))\n",
        "        \n",
        "        # Scheduler Step\n",
        "        scheduler.step()"
      ],
      "execution_count": 19,
      "outputs": []
    },
    {
      "cell_type": "code",
      "metadata": {
        "id": "Y61Z7sMQ04r1",
        "colab_type": "code",
        "colab": {}
      },
      "source": [
        "optimizer = torch.optim.SGD(model.parameters(), lr=0.001)"
      ],
      "execution_count": 20,
      "outputs": []
    },
    {
      "cell_type": "code",
      "metadata": {
        "id": "ZaUDEZJS04r3",
        "colab_type": "code",
        "colab": {}
      },
      "source": [
        "train(model, X_train, y_train, optimizer, device='cuda', k_shot=5, n_way=60, n_query=5, epochs=8, episodes=2000)"
      ],
      "execution_count": null,
      "outputs": []
    },
    {
      "cell_type": "code",
      "metadata": {
        "id": "hNd4WR-S04r6",
        "colab_type": "code",
        "colab": {}
      },
      "source": [
        "# Save\n",
        "torch.save(model.state_dict(), 'protonet.pt')"
      ],
      "execution_count": 37,
      "outputs": []
    },
    {
      "cell_type": "markdown",
      "metadata": {
        "id": "hMdcCi0D04r8",
        "colab_type": "text"
      },
      "source": [
        "## Evaluation"
      ]
    },
    {
      "cell_type": "code",
      "metadata": {
        "id": "v3EIzbTk04r8",
        "colab_type": "code",
        "colab": {}
      },
      "source": [
        "def evaluate(model, X_data, y_data, device='cuda', \n",
        "             k_shot=5, n_way=5, n_query=5, episodes=1000):\n",
        "    '''\n",
        "    Evaluate the ProtoNet on k-shot n-way task on the test set\n",
        "    Args:\n",
        "        model\n",
        "        X_data (torch.Tensor): images\n",
        "        y_data (torch.Tensor): labels\n",
        "        k_shot (int): number of support images per class\n",
        "        n_way (int): number of classes\n",
        "        n_query (int): number of query images per class\n",
        "        episodes (int): number of steps/episodes\n",
        "    '''\n",
        "    \n",
        "    model.to(device)\n",
        "    model.eval()\n",
        "   \n",
        "    test_losses = 0\n",
        "    test_accuracies = 0\n",
        "\n",
        "    for episode in tnrange(episodes, desc='Evaluating'):            \n",
        "        # Extract sample\n",
        "        sample = extract_sample(X_data, y_data, k_shot, n_way, n_query).to(device)\n",
        "\n",
        "        # Forward Pass on ProtoNet\n",
        "        loss, stats = model(sample, k_shot, n_way, n_query, device)\n",
        "\n",
        "        # Get Stats\n",
        "        test_losses += stats['loss']\n",
        "        test_accuracies += stats['acc']\n",
        "\n",
        "        if episode % 200 == 0:\n",
        "            print('At Episode {:d} -- Loss {:.5f} - Acc: {:.3f}'.format(episode, stats['loss'], stats['acc']))\n",
        "\n",
        "    # Print Epoch Stats\n",
        "    mean_loss = test_losses / episodes\n",
        "    mean_acc = test_accuracies / episodes\n",
        "    print('Evaluation Results -- Loss: {:.5f} - Acc: {:.3f}\\n'.format(mean_loss, mean_acc))"
      ],
      "execution_count": 38,
      "outputs": []
    },
    {
      "cell_type": "code",
      "metadata": {
        "id": "dydzGiOa04r_",
        "colab_type": "code",
        "colab": {}
      },
      "source": [
        "evaluate(model, X_eval, y_eval, device='cuda', k_shot=5, n_way=5, n_query=5, episodes=1000)"
      ],
      "execution_count": null,
      "outputs": []
    },
    {
      "cell_type": "markdown",
      "metadata": {
        "id": "OTcBcSyX04sC",
        "colab_type": "text"
      },
      "source": [
        "### Test on single sample"
      ]
    },
    {
      "cell_type": "code",
      "metadata": {
        "id": "aq9w8Qe604sC",
        "colab_type": "code",
        "colab": {}
      },
      "source": [
        "device = 'cuda'\n",
        "k_shot = 5\n",
        "n_way = 5\n",
        "n_query = 5"
      ],
      "execution_count": 40,
      "outputs": []
    },
    {
      "cell_type": "code",
      "metadata": {
        "id": "CXRpAieO04sE",
        "colab_type": "code",
        "colab": {}
      },
      "source": [
        "# Sample a set from test set\n",
        "my_sample = extract_sample(X_eval, y_eval, k_shot, n_way, n_query).to(device)\n",
        "display_sample(my_sample.cpu())"
      ],
      "execution_count": null,
      "outputs": []
    },
    {
      "cell_type": "code",
      "metadata": {
        "id": "3l8xnpD504sH",
        "colab_type": "code",
        "colab": {}
      },
      "source": [
        "# Predict\n",
        "loss, stats = model(my_sample, k_shot, n_way, n_query, device)\n",
        "stats"
      ],
      "execution_count": null,
      "outputs": []
    },
    {
      "cell_type": "markdown",
      "metadata": {
        "id": "YIJhT8yi04sJ",
        "colab_type": "text"
      },
      "source": [
        "## Prediction on unlabelled Query Images\n",
        "Making predictions on unlabelled query images given a new support set."
      ]
    },
    {
      "cell_type": "code",
      "metadata": {
        "id": "uvhn1VPA04sK",
        "colab_type": "code",
        "colab": {}
      },
      "source": [
        "from collections import Counter"
      ],
      "execution_count": 43,
      "outputs": []
    },
    {
      "cell_type": "code",
      "metadata": {
        "id": "QrfHi5nj04sM",
        "colab_type": "code",
        "colab": {}
      },
      "source": [
        "def read_support_set(support_dir):\n",
        "    '''\n",
        "    Read a Support Set from a directory\n",
        "    Args:\n",
        "        support_dir (str): folder containing the support set with each sub-folder being a class.\n",
        "                           Each class should have equal number of images i.e. consistent k_shot\n",
        "    Returns:\n",
        "        tuple of:\n",
        "            (ndarray): X images\n",
        "            (ndarray): y labels\n",
        "            (dict) of: k_shot (int) and n_way (int)\n",
        "            \n",
        "    '''\n",
        "    labels = os.listdir(support_dir)\n",
        "    n_way = len(labels)\n",
        "    \n",
        "    X_support = []\n",
        "    y_support = []\n",
        "    \n",
        "    for label in labels:\n",
        "        label_path = os.path.join(support_dir, label)\n",
        "        images = os.listdir(label_path)\n",
        "        \n",
        "        for img in images:\n",
        "            image = cv2.imread(os.path.join(label_path, img))\n",
        "            image = cv2.resize(image, (28, 28)) / 255\n",
        "            \n",
        "            X_support.append(image)\n",
        "            y_support.append(label)\n",
        "            \n",
        "    k_shot = len(y_support) // n_way\n",
        "            \n",
        "    assert len(set(dict(Counter(y_support)).values())) == 1, 'Each Class should have equal number of images'\n",
        "            \n",
        "    return np.array(X_support), np.array(y_support), {'k_shot': k_shot, 'n_way': n_way}"
      ],
      "execution_count": 44,
      "outputs": []
    },
    {
      "cell_type": "code",
      "metadata": {
        "id": "wNGakJGs04sQ",
        "colab_type": "code",
        "colab": {}
      },
      "source": [
        "def read_query_set(query_dir):\n",
        "    '''\n",
        "    Read a Query Set from a directory\n",
        "    Args:\n",
        "        query_dir (str): folder containing the unlabelled query images\n",
        "    '''\n",
        "    images = os.listdir(query_dir)\n",
        "    \n",
        "    X_query = []\n",
        "    \n",
        "    for img in images:\n",
        "        image = cv2.imread(os.path.join(query_dir, img))\n",
        "        image = cv2.resize(image, (28, 28)) / 255\n",
        "\n",
        "        X_query.append(image)\n",
        "            \n",
        "    return np.array(X_query)"
      ],
      "execution_count": 45,
      "outputs": []
    },
    {
      "cell_type": "code",
      "metadata": {
        "id": "IRUNzQyo04sU",
        "colab_type": "code",
        "colab": {}
      },
      "source": [
        "def predict(model, X_support, y_support, X_query, k_shot, n_way, n_query, device='cuda'):\n",
        "    '''\n",
        "    Make Predictions on new sets with unlabelled query images\n",
        "    Args:\n",
        "        X_support (ndarray): support set images\n",
        "        y_support (ndarray): support set labels\n",
        "        X_query (ndarray): unlabelled query images\n",
        "        k_shot (int): number of images per class\n",
        "        n_way (int): number of classes\n",
        "        n_query (int): number of query images\n",
        "    Returns:\n",
        "        (tuple) of:\n",
        "            (tensor): predictions\n",
        "            (tensor): support samples\n",
        "            (tensor): queries samples\n",
        "    '''\n",
        "    model.to(device)\n",
        "    model.eval()\n",
        "    \n",
        "    # Convert support set images to sample format (5D)\n",
        "    support = extract_sample(X_support, y_support, k_shot, n_way, n_query=0, permute=False).to(device)\n",
        "    \n",
        "    # Convert queries to tensor (4D)\n",
        "    queries = torch.from_numpy(X_query).float().permute(0, 3, 1, 2).to(device)\n",
        "    \n",
        "    # Concatenate support set and query set along the 0th dimension\n",
        "    x = torch.cat([support.contiguous().view(n_way * k_shot, *support.size()[2:]), \n",
        "                   queries.contiguous()], 0)\n",
        "        \n",
        "    # Compute embeddings\n",
        "    embeds = model.encoder(x)\n",
        "    z_dim = embeds.size(-1)\n",
        "    \n",
        "    # Compute Prototypes\n",
        "    protos = embeds[:n_way * k_shot].view(n_way, k_shot, z_dim).mean(1)\n",
        "        \n",
        "    # Get query embeddings\n",
        "    query_embeds = embeds[n_way * k_shot:]\n",
        "    \n",
        "    # Compute Distances\n",
        "    distances = model.euclidean(query_embeds, protos)\n",
        "    \n",
        "    # Compute Softmax over the inverse of euclidean distances\n",
        "    log_p = F.softmax(-distances, dim=1)\n",
        "    \n",
        "    # Compute Predictions\n",
        "    y_hat = log_p.argmax(1)\n",
        "    \n",
        "    return y_hat, support, queries"
      ],
      "execution_count": 46,
      "outputs": []
    },
    {
      "cell_type": "code",
      "metadata": {
        "id": "G3NL5AMW04sX",
        "colab_type": "code",
        "colab": {}
      },
      "source": [
        "X_support, y_support, task = read_support_set('prediction/support-2shot/')"
      ],
      "execution_count": 47,
      "outputs": []
    },
    {
      "cell_type": "code",
      "metadata": {
        "id": "LT2nDopL04sa",
        "colab_type": "code",
        "colab": {}
      },
      "source": [
        "X_query = read_query_set('prediction/query-2shot/')"
      ],
      "execution_count": 48,
      "outputs": []
    },
    {
      "cell_type": "code",
      "metadata": {
        "id": "6gYffkZ_04sc",
        "colab_type": "code",
        "colab": {}
      },
      "source": [
        "# Make predictions\n",
        "preds, support, queries = predict(model, X_support, y_support, X_query,\n",
        "                                  k_shot=task['k_shot'], n_way=task['n_way'], n_query=len(X_query), \n",
        "                                  device='cuda')"
      ],
      "execution_count": 49,
      "outputs": []
    },
    {
      "cell_type": "code",
      "metadata": {
        "id": "50m2mCdP04sf",
        "colab_type": "code",
        "colab": {
          "base_uri": "https://localhost:8080/",
          "height": 526
        },
        "outputId": "dc29c7f7-9b32-415e-f47d-5472e8066dde"
      },
      "source": [
        "print(preds)\n",
        "# Display Query images\n",
        "query_out = torchvision.utils.make_grid(queries.cpu(), nrow=len(queries))\n",
        "plt.figure(figsize = (7,7))\n",
        "plt.imshow(query_out.permute(1, 2, 0))\n",
        "# Display Support images\n",
        "display_sample(support.cpu())"
      ],
      "execution_count": 51,
      "outputs": [
        {
          "output_type": "stream",
          "text": [
            "tensor([5, 0, 2, 1, 0, 8, 7, 6, 4, 3], device='cuda:0')\n"
          ],
          "name": "stdout"
        },
        {
          "output_type": "display_data",
          "data": {
            "image/png": "[encoded data removed]",
            "text/plain": [
              "<Figure size 504x504 with 1 Axes>"
            ]
          },
          "metadata": {
            "tags": [],
            "needs_background": "light"
          }
        },
        {
          "output_type": "display_data",
          "data": {
            "image/png": "[encoded data removed]",
            "text/plain": [
              "<Figure size 1152x504 with 1 Axes>"
            ]
          },
          "metadata": {
            "tags": [],
            "needs_background": "light"
          }
        }
      ]
    },
    {
      "cell_type": "code",
      "metadata": {
        "id": "aP9V0-t104sk",
        "colab_type": "code",
        "colab": {}
      },
      "source": [
        ""
      ],
      "execution_count": 36,
      "outputs": []
    }
  ]
}