{
  "nbformat": 4,
  "nbformat_minor": 0,
  "metadata": {
    "kernelspec": {
      "display_name": "Python 3",
      "language": "python",
      "name": "python3"
    },
    "language_info": {
      "codemirror_mode": {
        "name": "ipython",
        "version": 3
      },
      "file_extension": ".py",
      "mimetype": "text/x-python",
      "name": "python",
      "nbconvert_exporter": "python",
      "pygments_lexer": "ipython3",
      "version": "3.6.10"
    },
    "widgets": {
      "application/vnd.jupyter.widget-state+json": {
        "19ee391a94e1435291238940b24cca64": {
          "model_module": "@jupyter-widgets/controls",
          "model_name": "HBoxModel",
          "state": {
            "_view_name": "HBoxView",
            "_dom_classes": [],
            "_model_name": "HBoxModel",
            "_view_module": "@jupyter-widgets/controls",
            "_model_module_version": "1.5.0",
            "_view_count": null,
            "_view_module_version": "1.5.0",
            "box_style": "",
            "layout": "IPY_MODEL_0efbd82724e242cfbe54015028390204",
            "_model_module": "@jupyter-widgets/controls",
            "children": [
              "IPY_MODEL_69c031d6c143457894564be7cd976627",
              "IPY_MODEL_d032b3901ec248bdbb7ece3565fec770"
            ]
          }
        },
        "0efbd82724e242cfbe54015028390204": {
          "model_module": "@jupyter-widgets/base",
          "model_name": "LayoutModel",
          "state": {
            "_view_name": "LayoutView",
            "grid_template_rows": null,
            "right": null,
            "justify_content": null,
            "_view_module": "@jupyter-widgets/base",
            "overflow": null,
            "_model_module_version": "1.2.0",
            "_view_count": null,
            "flex_flow": null,
            "width": null,
            "min_width": null,
            "border": null,
            "align_items": null,
            "bottom": null,
            "_model_module": "@jupyter-widgets/base",
            "top": null,
            "grid_column": null,
            "overflow_y": null,
            "overflow_x": null,
            "grid_auto_flow": null,
            "grid_area": null,
            "grid_template_columns": null,
            "flex": null,
            "_model_name": "LayoutModel",
            "justify_items": null,
            "grid_row": null,
            "max_height": null,
            "align_content": null,
            "visibility": null,
            "align_self": null,
            "height": null,
            "min_height": null,
            "padding": null,
            "grid_auto_rows": null,
            "grid_gap": null,
            "max_width": null,
            "order": null,
            "_view_module_version": "1.2.0",
            "grid_template_areas": null,
            "object_position": null,
            "object_fit": null,
            "grid_auto_columns": null,
            "margin": null,
            "display": null,
            "left": null
          }
        },
        "69c031d6c143457894564be7cd976627": {
          "model_module": "@jupyter-widgets/controls",
          "model_name": "FloatProgressModel",
          "state": {
            "_view_name": "ProgressView",
            "style": "IPY_MODEL_bbfd99d4ffd34e97a7b9c30ff7d2c341",
            "_dom_classes": [],
            "description": "100%",
            "_model_name": "FloatProgressModel",
            "bar_style": "success",
            "max": 30,
            "_view_module": "@jupyter-widgets/controls",
            "_model_module_version": "1.5.0",
            "value": 30,
            "_view_count": null,
            "_view_module_version": "1.5.0",
            "orientation": "horizontal",
            "min": 0,
            "description_tooltip": null,
            "_model_module": "@jupyter-widgets/controls",
            "layout": "IPY_MODEL_ffaac9f949cc42548e8d8b337a6875c7"
          }
        },
        "d032b3901ec248bdbb7ece3565fec770": {
          "model_module": "@jupyter-widgets/controls",
          "model_name": "HTMLModel",
          "state": {
            "_view_name": "HTMLView",
            "style": "IPY_MODEL_f676eb364a814e78bf5ed4a4867be12f",
            "_dom_classes": [],
            "description": "",
            "_model_name": "HTMLModel",
            "placeholder": "​",
            "_view_module": "@jupyter-widgets/controls",
            "_model_module_version": "1.5.0",
            "value": " 30/30 [00:59&lt;00:00,  2.00s/it]",
            "_view_count": null,
            "_view_module_version": "1.5.0",
            "description_tooltip": null,
            "_model_module": "@jupyter-widgets/controls",
            "layout": "IPY_MODEL_14256f61ad914348975756ed0148d48b"
          }
        },
        "bbfd99d4ffd34e97a7b9c30ff7d2c341": {
          "model_module": "@jupyter-widgets/controls",
          "model_name": "ProgressStyleModel",
          "state": {
            "_view_name": "StyleView",
            "_model_name": "ProgressStyleModel",
            "description_width": "initial",
            "_view_module": "@jupyter-widgets/base",
            "_model_module_version": "1.5.0",
            "_view_count": null,
            "_view_module_version": "1.2.0",
            "bar_color": null,
            "_model_module": "@jupyter-widgets/controls"
          }
        },
        "ffaac9f949cc42548e8d8b337a6875c7": {
          "model_module": "@jupyter-widgets/base",
          "model_name": "LayoutModel",
          "state": {
            "_view_name": "LayoutView",
            "grid_template_rows": null,
            "right": null,
            "justify_content": null,
            "_view_module": "@jupyter-widgets/base",
            "overflow": null,
            "_model_module_version": "1.2.0",
            "_view_count": null,
            "flex_flow": null,
            "width": null,
            "min_width": null,
            "border": null,
            "align_items": null,
            "bottom": null,
            "_model_module": "@jupyter-widgets/base",
            "top": null,
            "grid_column": null,
            "overflow_y": null,
            "overflow_x": null,
            "grid_auto_flow": null,
            "grid_area": null,
            "grid_template_columns": null,
            "flex": null,
            "_model_name": "LayoutModel",
            "justify_items": null,
            "grid_row": null,
            "max_height": null,
            "align_content": null,
            "visibility": null,
            "align_self": null,
            "height": null,
            "min_height": null,
            "padding": null,
            "grid_auto_rows": null,
            "grid_gap": null,
            "max_width": null,
            "order": null,
            "_view_module_version": "1.2.0",
            "grid_template_areas": null,
            "object_position": null,
            "object_fit": null,
            "grid_auto_columns": null,
            "margin": null,
            "display": null,
            "left": null
          }
        },
        "f676eb364a814e78bf5ed4a4867be12f": {
          "model_module": "@jupyter-widgets/controls",
          "model_name": "DescriptionStyleModel",
          "state": {
            "_view_name": "StyleView",
            "_model_name": "DescriptionStyleModel",
            "description_width": "",
            "_view_module": "@jupyter-widgets/base",
            "_model_module_version": "1.5.0",
            "_view_count": null,
            "_view_module_version": "1.2.0",
            "_model_module": "@jupyter-widgets/controls"
          }
        },
        "14256f61ad914348975756ed0148d48b": {
          "model_module": "@jupyter-widgets/base",
          "model_name": "LayoutModel",
          "state": {
            "_view_name": "LayoutView",
            "grid_template_rows": null,
            "right": null,
            "justify_content": null,
            "_view_module": "@jupyter-widgets/base",
            "overflow": null,
            "_model_module_version": "1.2.0",
            "_view_count": null,
            "flex_flow": null,
            "width": null,
            "min_width": null,
            "border": null,
            "align_items": null,
            "bottom": null,
            "_model_module": "@jupyter-widgets/base",
            "top": null,
            "grid_column": null,
            "overflow_y": null,
            "overflow_x": null,
            "grid_auto_flow": null,
            "grid_area": null,
            "grid_template_columns": null,
            "flex": null,
            "_model_name": "LayoutModel",
            "justify_items": null,
            "grid_row": null,
            "max_height": null,
            "align_content": null,
            "visibility": null,
            "align_self": null,
            "height": null,
            "min_height": null,
            "padding": null,
            "grid_auto_rows": null,
            "grid_gap": null,
            "max_width": null,
            "order": null,
            "_view_module_version": "1.2.0",
            "grid_template_areas": null,
            "object_position": null,
            "object_fit": null,
            "grid_auto_columns": null,
            "margin": null,
            "display": null,
            "left": null
          }
        },
        "1c56f9be659a4e8b872dae36ef628b9c": {
          "model_module": "@jupyter-widgets/controls",
          "model_name": "HBoxModel",
          "state": {
            "_view_name": "HBoxView",
            "_dom_classes": [],
            "_model_name": "HBoxModel",
            "_view_module": "@jupyter-widgets/controls",
            "_model_module_version": "1.5.0",
            "_view_count": null,
            "_view_module_version": "1.5.0",
            "box_style": "",
            "layout": "IPY_MODEL_56e6ebfd02644dcfa479dac784b5aae6",
            "_model_module": "@jupyter-widgets/controls",
            "children": [
              "IPY_MODEL_fcce64b194b34958aaa104fc5b45d769",
              "IPY_MODEL_d633b4b4b1c44745ac2fd93aa1fc9779"
            ]
          }
        },
        "56e6ebfd02644dcfa479dac784b5aae6": {
          "model_module": "@jupyter-widgets/base",
          "model_name": "LayoutModel",
          "state": {
            "_view_name": "LayoutView",
            "grid_template_rows": null,
            "right": null,
            "justify_content": null,
            "_view_module": "@jupyter-widgets/base",
            "overflow": null,
            "_model_module_version": "1.2.0",
            "_view_count": null,
            "flex_flow": null,
            "width": null,
            "min_width": null,
            "border": null,
            "align_items": null,
            "bottom": null,
            "_model_module": "@jupyter-widgets/base",
            "top": null,
            "grid_column": null,
            "overflow_y": null,
            "overflow_x": null,
            "grid_auto_flow": null,
            "grid_area": null,
            "grid_template_columns": null,
            "flex": null,
            "_model_name": "LayoutModel",
            "justify_items": null,
            "grid_row": null,
            "max_height": null,
            "align_content": null,
            "visibility": null,
            "align_self": null,
            "height": null,
            "min_height": null,
            "padding": null,
            "grid_auto_rows": null,
            "grid_gap": null,
            "max_width": null,
            "order": null,
            "_view_module_version": "1.2.0",
            "grid_template_areas": null,
            "object_position": null,
            "object_fit": null,
            "grid_auto_columns": null,
            "margin": null,
            "display": null,
            "left": null
          }
        },
        "fcce64b194b34958aaa104fc5b45d769": {
          "model_module": "@jupyter-widgets/controls",
          "model_name": "FloatProgressModel",
          "state": {
            "_view_name": "ProgressView",
            "style": "IPY_MODEL_82b8f29bee434295a78617e41ff42c87",
            "_dom_classes": [],
            "description": "100%",
            "_model_name": "FloatProgressModel",
            "bar_style": "success",
            "max": 20,
            "_view_module": "@jupyter-widgets/controls",
            "_model_module_version": "1.5.0",
            "value": 20,
            "_view_count": null,
            "_view_module_version": "1.5.0",
            "orientation": "horizontal",
            "min": 0,
            "description_tooltip": null,
            "_model_module": "@jupyter-widgets/controls",
            "layout": "IPY_MODEL_7ba46f84b7fd4511b3999a02e81053b5"
          }
        },
        "d633b4b4b1c44745ac2fd93aa1fc9779": {
          "model_module": "@jupyter-widgets/controls",
          "model_name": "HTMLModel",
          "state": {
            "_view_name": "HTMLView",
            "style": "IPY_MODEL_9cf751c1ea3e49be9b411044cc24acde",
            "_dom_classes": [],
            "description": "",
            "_model_name": "HTMLModel",
            "placeholder": "​",
            "_view_module": "@jupyter-widgets/controls",
            "_model_module_version": "1.5.0",
            "value": " 20/20 [00:23&lt;00:00,  1.19s/it]",
            "_view_count": null,
            "_view_module_version": "1.5.0",
            "description_tooltip": null,
            "_model_module": "@jupyter-widgets/controls",
            "layout": "IPY_MODEL_2e8b4bbc387941a1977b8ee66689494e"
          }
        },
        "82b8f29bee434295a78617e41ff42c87": {
          "model_module": "@jupyter-widgets/controls",
          "model_name": "ProgressStyleModel",
          "state": {
            "_view_name": "StyleView",
            "_model_name": "ProgressStyleModel",
            "description_width": "initial",
            "_view_module": "@jupyter-widgets/base",
            "_model_module_version": "1.5.0",
            "_view_count": null,
            "_view_module_version": "1.2.0",
            "bar_color": null,
            "_model_module": "@jupyter-widgets/controls"
          }
        },
        "7ba46f84b7fd4511b3999a02e81053b5": {
          "model_module": "@jupyter-widgets/base",
          "model_name": "LayoutModel",
          "state": {
            "_view_name": "LayoutView",
            "grid_template_rows": null,
            "right": null,
            "justify_content": null,
            "_view_module": "@jupyter-widgets/base",
            "overflow": null,
            "_model_module_version": "1.2.0",
            "_view_count": null,
            "flex_flow": null,
            "width": null,
            "min_width": null,
            "border": null,
            "align_items": null,
            "bottom": null,
            "_model_module": "@jupyter-widgets/base",
            "top": null,
            "grid_column": null,
            "overflow_y": null,
            "overflow_x": null,
            "grid_auto_flow": null,
            "grid_area": null,
            "grid_template_columns": null,
            "flex": null,
            "_model_name": "LayoutModel",
            "justify_items": null,
            "grid_row": null,
            "max_height": null,
            "align_content": null,
            "visibility": null,
            "align_self": null,
            "height": null,
            "min_height": null,
            "padding": null,
            "grid_auto_rows": null,
            "grid_gap": null,
            "max_width": null,
            "order": null,
            "_view_module_version": "1.2.0",
            "grid_template_areas": null,
            "object_position": null,
            "object_fit": null,
            "grid_auto_columns": null,
            "margin": null,
            "display": null,
            "left": null
          }
        },
        "9cf751c1ea3e49be9b411044cc24acde": {
          "model_module": "@jupyter-widgets/controls",
          "model_name": "DescriptionStyleModel",
          "state": {
            "_view_name": "StyleView",
            "_model_name": "DescriptionStyleModel",
            "description_width": "",
            "_view_module": "@jupyter-widgets/base",
            "_model_module_version": "1.5.0",
            "_view_count": null,
            "_view_module_version": "1.2.0",
            "_model_module": "@jupyter-widgets/controls"
          }
        },
        "2e8b4bbc387941a1977b8ee66689494e": {
          "model_module": "@jupyter-widgets/base",
          "model_name": "LayoutModel",
          "state": {
            "_view_name": "LayoutView",
            "grid_template_rows": null,
            "right": null,
            "justify_content": null,
            "_view_module": "@jupyter-widgets/base",
            "overflow": null,
            "_model_module_version": "1.2.0",
            "_view_count": null,
            "flex_flow": null,
            "width": null,
            "min_width": null,
            "border": null,
            "align_items": null,
            "bottom": null,
            "_model_module": "@jupyter-widgets/base",
            "top": null,
            "grid_column": null,
            "overflow_y": null,
            "overflow_x": null,
            "grid_auto_flow": null,
            "grid_area": null,
            "grid_template_columns": null,
            "flex": null,
            "_model_name": "LayoutModel",
            "justify_items": null,
            "grid_row": null,
            "max_height": null,
            "align_content": null,
            "visibility": null,
            "align_self": null,
            "height": null,
            "min_height": null,
            "padding": null,
            "grid_auto_rows": null,
            "grid_gap": null,
            "max_width": null,
            "order": null,
            "_view_module_version": "1.2.0",
            "grid_template_areas": null,
            "object_position": null,
            "object_fit": null,
            "grid_auto_columns": null,
            "margin": null,
            "display": null,
            "left": null
          }
        },
        "4ae96f3cfb9948219f488f03f305ad11": {
          "model_module": "@jupyter-widgets/controls",
          "model_name": "HBoxModel",
          "state": {
            "_view_name": "HBoxView",
            "_dom_classes": [],
            "_model_name": "HBoxModel",
            "_view_module": "@jupyter-widgets/controls",
            "_model_module_version": "1.5.0",
            "_view_count": null,
            "_view_module_version": "1.5.0",
            "box_style": "",
            "layout": "IPY_MODEL_8778e4f0447847fbabd316f27989e2b9",
            "_model_module": "@jupyter-widgets/controls",
            "children": [
              "IPY_MODEL_c7ef381690264cedb4e6c4987f792f17",
              "IPY_MODEL_fe4f359073b44a1cac67cc7db186aad8"
            ]
          }
        },
        "8778e4f0447847fbabd316f27989e2b9": {
          "model_module": "@jupyter-widgets/base",
          "model_name": "LayoutModel",
          "state": {
            "_view_name": "LayoutView",
            "grid_template_rows": null,
            "right": null,
            "justify_content": null,
            "_view_module": "@jupyter-widgets/base",
            "overflow": null,
            "_model_module_version": "1.2.0",
            "_view_count": null,
            "flex_flow": null,
            "width": null,
            "min_width": null,
            "border": null,
            "align_items": null,
            "bottom": null,
            "_model_module": "@jupyter-widgets/base",
            "top": null,
            "grid_column": null,
            "overflow_y": null,
            "overflow_x": null,
            "grid_auto_flow": null,
            "grid_area": null,
            "grid_template_columns": null,
            "flex": null,
            "_model_name": "LayoutModel",
            "justify_items": null,
            "grid_row": null,
            "max_height": null,
            "align_content": null,
            "visibility": null,
            "align_self": null,
            "height": null,
            "min_height": null,
            "padding": null,
            "grid_auto_rows": null,
            "grid_gap": null,
            "max_width": null,
            "order": null,
            "_view_module_version": "1.2.0",
            "grid_template_areas": null,
            "object_position": null,
            "object_fit": null,
            "grid_auto_columns": null,
            "margin": null,
            "display": null,
            "left": null
          }
        },
        "c7ef381690264cedb4e6c4987f792f17": {
          "model_module": "@jupyter-widgets/controls",
          "model_name": "FloatProgressModel",
          "state": {
            "_view_name": "ProgressView",
            "style": "IPY_MODEL_80ed9acb0f77431a9641a15dcc566703",
            "_dom_classes": [],
            "description": "Epoch 1: 100%",
            "_model_name": "FloatProgressModel",
            "bar_style": "success",
            "max": 2000,
            "_view_module": "@jupyter-widgets/controls",
            "_model_module_version": "1.5.0",
            "value": 2000,
            "_view_count": null,
            "_view_module_version": "1.5.0",
            "orientation": "horizontal",
            "min": 0,
            "description_tooltip": null,
            "_model_module": "@jupyter-widgets/controls",
            "layout": "IPY_MODEL_fd333537a1d9423eb6ec220726335cef"
          }
        },
        "fe4f359073b44a1cac67cc7db186aad8": {
          "model_module": "@jupyter-widgets/controls",
          "model_name": "HTMLModel",
          "state": {
            "_view_name": "HTMLView",
            "style": "IPY_MODEL_981c459cb1294ae9ba7e32228094cdd7",
            "_dom_classes": [],
            "description": "",
            "_model_name": "HTMLModel",
            "placeholder": "​",
            "_view_module": "@jupyter-widgets/controls",
            "_model_module_version": "1.5.0",
            "value": " 2000/2000 [05:41&lt;00:00,  5.85it/s]",
            "_view_count": null,
            "_view_module_version": "1.5.0",
            "description_tooltip": null,
            "_model_module": "@jupyter-widgets/controls",
            "layout": "IPY_MODEL_dc00679baf5d4a86b059f1fa6651f4cb"
          }
        },
        "80ed9acb0f77431a9641a15dcc566703": {
          "model_module": "@jupyter-widgets/controls",
          "model_name": "ProgressStyleModel",
          "state": {
            "_view_name": "StyleView",
            "_model_name": "ProgressStyleModel",
            "description_width": "initial",
            "_view_module": "@jupyter-widgets/base",
            "_model_module_version": "1.5.0",
            "_view_count": null,
            "_view_module_version": "1.2.0",
            "bar_color": null,
            "_model_module": "@jupyter-widgets/controls"
          }
        },
        "fd333537a1d9423eb6ec220726335cef": {
          "model_module": "@jupyter-widgets/base",
          "model_name": "LayoutModel",
          "state": {
            "_view_name": "LayoutView",
            "grid_template_rows": null,
            "right": null,
            "justify_content": null,
            "_view_module": "@jupyter-widgets/base",
            "overflow": null,
            "_model_module_version": "1.2.0",
            "_view_count": null,
            "flex_flow": null,
            "width": null,
            "min_width": null,
            "border": null,
            "align_items": null,
            "bottom": null,
            "_model_module": "@jupyter-widgets/base",
            "top": null,
            "grid_column": null,
            "overflow_y": null,
            "overflow_x": null,
            "grid_auto_flow": null,
            "grid_area": null,
            "grid_template_columns": null,
            "flex": null,
            "_model_name": "LayoutModel",
            "justify_items": null,
            "grid_row": null,
            "max_height": null,
            "align_content": null,
            "visibility": null,
            "align_self": null,
            "height": null,
            "min_height": null,
            "padding": null,
            "grid_auto_rows": null,
            "grid_gap": null,
            "max_width": null,
            "order": null,
            "_view_module_version": "1.2.0",
            "grid_template_areas": null,
            "object_position": null,
            "object_fit": null,
            "grid_auto_columns": null,
            "margin": null,
            "display": null,
            "left": null
          }
        },
        "981c459cb1294ae9ba7e32228094cdd7": {
          "model_module": "@jupyter-widgets/controls",
          "model_name": "DescriptionStyleModel",
          "state": {
            "_view_name": "StyleView",
            "_model_name": "DescriptionStyleModel",
            "description_width": "",
            "_view_module": "@jupyter-widgets/base",
            "_model_module_version": "1.5.0",
            "_view_count": null,
            "_view_module_version": "1.2.0",
            "_model_module": "@jupyter-widgets/controls"
          }
        },
        "dc00679baf5d4a86b059f1fa6651f4cb": {
          "model_module": "@jupyter-widgets/base",
          "model_name": "LayoutModel",
          "state": {
            "_view_name": "LayoutView",
            "grid_template_rows": null,
            "right": null,
            "justify_content": null,
            "_view_module": "@jupyter-widgets/base",
            "overflow": null,
            "_model_module_version": "1.2.0",
            "_view_count": null,
            "flex_flow": null,
            "width": null,
            "min_width": null,
            "border": null,
            "align_items": null,
            "bottom": null,
            "_model_module": "@jupyter-widgets/base",
            "top": null,
            "grid_column": null,
            "overflow_y": null,
            "overflow_x": null,
            "grid_auto_flow": null,
            "grid_area": null,
            "grid_template_columns": null,
            "flex": null,
            "_model_name": "LayoutModel",
            "justify_items": null,
            "grid_row": null,
            "max_height": null,
            "align_content": null,
            "visibility": null,
            "align_self": null,
            "height": null,
            "min_height": null,
            "padding": null,
            "grid_auto_rows": null,
            "grid_gap": null,
            "max_width": null,
            "order": null,
            "_view_module_version": "1.2.0",
            "grid_template_areas": null,
            "object_position": null,
            "object_fit": null,
            "grid_auto_columns": null,
            "margin": null,
            "display": null,
            "left": null
          }
        },
        "29fefa72cc2e4a83885cb5dbfb24d2a9": {
          "model_module": "@jupyter-widgets/controls",
          "model_name": "HBoxModel",
          "state": {
            "_view_name": "HBoxView",
            "_dom_classes": [],
            "_model_name": "HBoxModel",
            "_view_module": "@jupyter-widgets/controls",
            "_model_module_version": "1.5.0",
            "_view_count": null,
            "_view_module_version": "1.5.0",
            "box_style": "",
            "layout": "IPY_MODEL_ca188d8cf5e640a4ac34ad6f3121366b",
            "_model_module": "@jupyter-widgets/controls",
            "children": [
              "IPY_MODEL_dc4050e5b37d46fa821625980e2b937b",
              "IPY_MODEL_719512ff66fd46e3b681ebd03572f9ae"
            ]
          }
        },
        "ca188d8cf5e640a4ac34ad6f3121366b": {
          "model_module": "@jupyter-widgets/base",
          "model_name": "LayoutModel",
          "state": {
            "_view_name": "LayoutView",
            "grid_template_rows": null,
            "right": null,
            "justify_content": null,
            "_view_module": "@jupyter-widgets/base",
            "overflow": null,
            "_model_module_version": "1.2.0",
            "_view_count": null,
            "flex_flow": null,
            "width": null,
            "min_width": null,
            "border": null,
            "align_items": null,
            "bottom": null,
            "_model_module": "@jupyter-widgets/base",
            "top": null,
            "grid_column": null,
            "overflow_y": null,
            "overflow_x": null,
            "grid_auto_flow": null,
            "grid_area": null,
            "grid_template_columns": null,
            "flex": null,
            "_model_name": "LayoutModel",
            "justify_items": null,
            "grid_row": null,
            "max_height": null,
            "align_content": null,
            "visibility": null,
            "align_self": null,
            "height": null,
            "min_height": null,
            "padding": null,
            "grid_auto_rows": null,
            "grid_gap": null,
            "max_width": null,
            "order": null,
            "_view_module_version": "1.2.0",
            "grid_template_areas": null,
            "object_position": null,
            "object_fit": null,
            "grid_auto_columns": null,
            "margin": null,
            "display": null,
            "left": null
          }
        },
        "dc4050e5b37d46fa821625980e2b937b": {
          "model_module": "@jupyter-widgets/controls",
          "model_name": "FloatProgressModel",
          "state": {
            "_view_name": "ProgressView",
            "style": "IPY_MODEL_a5491c9ab35541abb4f93e27b6cb6559",
            "_dom_classes": [],
            "description": "Epoch 2: 100%",
            "_model_name": "FloatProgressModel",
            "bar_style": "success",
            "max": 2000,
            "_view_module": "@jupyter-widgets/controls",
            "_model_module_version": "1.5.0",
            "value": 2000,
            "_view_count": null,
            "_view_module_version": "1.5.0",
            "orientation": "horizontal",
            "min": 0,
            "description_tooltip": null,
            "_model_module": "@jupyter-widgets/controls",
            "layout": "IPY_MODEL_56034c2ee95c4401ba3a61a5573583bf"
          }
        },
        "719512ff66fd46e3b681ebd03572f9ae": {
          "model_module": "@jupyter-widgets/controls",
          "model_name": "HTMLModel",
          "state": {
            "_view_name": "HTMLView",
            "style": "IPY_MODEL_f9dbbe53ce5149b793012895706f5899",
            "_dom_classes": [],
            "description": "",
            "_model_name": "HTMLModel",
            "placeholder": "​",
            "_view_module": "@jupyter-widgets/controls",
            "_model_module_version": "1.5.0",
            "value": " 2000/2000 [11:20&lt;00:00,  2.94it/s]",
            "_view_count": null,
            "_view_module_version": "1.5.0",
            "description_tooltip": null,
            "_model_module": "@jupyter-widgets/controls",
            "layout": "IPY_MODEL_83e7c2a92354466fa963b764d154d1f8"
          }
        },
        "a5491c9ab35541abb4f93e27b6cb6559": {
          "model_module": "@jupyter-widgets/controls",
          "model_name": "ProgressStyleModel",
          "state": {
            "_view_name": "StyleView",
            "_model_name": "ProgressStyleModel",
            "description_width": "initial",
            "_view_module": "@jupyter-widgets/base",
            "_model_module_version": "1.5.0",
            "_view_count": null,
            "_view_module_version": "1.2.0",
            "bar_color": null,
            "_model_module": "@jupyter-widgets/controls"
          }
        },
        "56034c2ee95c4401ba3a61a5573583bf": {
          "model_module": "@jupyter-widgets/base",
          "model_name": "LayoutModel",
          "state": {
            "_view_name": "LayoutView",
            "grid_template_rows": null,
            "right": null,
            "justify_content": null,
            "_view_module": "@jupyter-widgets/base",
            "overflow": null,
            "_model_module_version": "1.2.0",
            "_view_count": null,
            "flex_flow": null,
            "width": null,
            "min_width": null,
            "border": null,
            "align_items": null,
            "bottom": null,
            "_model_module": "@jupyter-widgets/base",
            "top": null,
            "grid_column": null,
            "overflow_y": null,
            "overflow_x": null,
            "grid_auto_flow": null,
            "grid_area": null,
            "grid_template_columns": null,
            "flex": null,
            "_model_name": "LayoutModel",
            "justify_items": null,
            "grid_row": null,
            "max_height": null,
            "align_content": null,
            "visibility": null,
            "align_self": null,
            "height": null,
            "min_height": null,
            "padding": null,
            "grid_auto_rows": null,
            "grid_gap": null,
            "max_width": null,
            "order": null,
            "_view_module_version": "1.2.0",
            "grid_template_areas": null,
            "object_position": null,
            "object_fit": null,
            "grid_auto_columns": null,
            "margin": null,
            "display": null,
            "left": null
          }
        },
        "f9dbbe53ce5149b793012895706f5899": {
          "model_module": "@jupyter-widgets/controls",
          "model_name": "DescriptionStyleModel",
          "state": {
            "_view_name": "StyleView",
            "_model_name": "DescriptionStyleModel",
            "description_width": "",
            "_view_module": "@jupyter-widgets/base",
            "_model_module_version": "1.5.0",
            "_view_count": null,
            "_view_module_version": "1.2.0",
            "_model_module": "@jupyter-widgets/controls"
          }
        },
        "83e7c2a92354466fa963b764d154d1f8": {
          "model_module": "@jupyter-widgets/base",
          "model_name": "LayoutModel",
          "state": {
            "_view_name": "LayoutView",
            "grid_template_rows": null,
            "right": null,
            "justify_content": null,
            "_view_module": "@jupyter-widgets/base",
            "overflow": null,
            "_model_module_version": "1.2.0",
            "_view_count": null,
            "flex_flow": null,
            "width": null,
            "min_width": null,
            "border": null,
            "align_items": null,
            "bottom": null,
            "_model_module": "@jupyter-widgets/base",
            "top": null,
            "grid_column": null,
            "overflow_y": null,
            "overflow_x": null,
            "grid_auto_flow": null,
            "grid_area": null,
            "grid_template_columns": null,
            "flex": null,
            "_model_name": "LayoutModel",
            "justify_items": null,
            "grid_row": null,
            "max_height": null,
            "align_content": null,
            "visibility": null,
            "align_self": null,
            "height": null,
            "min_height": null,
            "padding": null,
            "grid_auto_rows": null,
            "grid_gap": null,
            "max_width": null,
            "order": null,
            "_view_module_version": "1.2.0",
            "grid_template_areas": null,
            "object_position": null,
            "object_fit": null,
            "grid_auto_columns": null,
            "margin": null,
            "display": null,
            "left": null
          }
        },
        "6aca519059504d1fbdb6e44f35175fd7": {
          "model_module": "@jupyter-widgets/controls",
          "model_name": "HBoxModel",
          "state": {
            "_view_name": "HBoxView",
            "_dom_classes": [],
            "_model_name": "HBoxModel",
            "_view_module": "@jupyter-widgets/controls",
            "_model_module_version": "1.5.0",
            "_view_count": null,
            "_view_module_version": "1.5.0",
            "box_style": "",
            "layout": "IPY_MODEL_97ba374e34a84255a4f39537e1dfe64b",
            "_model_module": "@jupyter-widgets/controls",
            "children": [
              "IPY_MODEL_e1e7fb94057842ef92f2e0ed75881428",
              "IPY_MODEL_916cdcfe65fb4a07b74235882e53307f"
            ]
          }
        },
        "97ba374e34a84255a4f39537e1dfe64b": {
          "model_module": "@jupyter-widgets/base",
          "model_name": "LayoutModel",
          "state": {
            "_view_name": "LayoutView",
            "grid_template_rows": null,
            "right": null,
            "justify_content": null,
            "_view_module": "@jupyter-widgets/base",
            "overflow": null,
            "_model_module_version": "1.2.0",
            "_view_count": null,
            "flex_flow": null,
            "width": null,
            "min_width": null,
            "border": null,
            "align_items": null,
            "bottom": null,
            "_model_module": "@jupyter-widgets/base",
            "top": null,
            "grid_column": null,
            "overflow_y": null,
            "overflow_x": null,
            "grid_auto_flow": null,
            "grid_area": null,
            "grid_template_columns": null,
            "flex": null,
            "_model_name": "LayoutModel",
            "justify_items": null,
            "grid_row": null,
            "max_height": null,
            "align_content": null,
            "visibility": null,
            "align_self": null,
            "height": null,
            "min_height": null,
            "padding": null,
            "grid_auto_rows": null,
            "grid_gap": null,
            "max_width": null,
            "order": null,
            "_view_module_version": "1.2.0",
            "grid_template_areas": null,
            "object_position": null,
            "object_fit": null,
            "grid_auto_columns": null,
            "margin": null,
            "display": null,
            "left": null
          }
        },
        "e1e7fb94057842ef92f2e0ed75881428": {
          "model_module": "@jupyter-widgets/controls",
          "model_name": "FloatProgressModel",
          "state": {
            "_view_name": "ProgressView",
            "style": "IPY_MODEL_fac4ceb1f3474b6699bd1c1de4297619",
            "_dom_classes": [],
            "description": "Epoch 3: 100%",
            "_model_name": "FloatProgressModel",
            "bar_style": "success",
            "max": 2000,
            "_view_module": "@jupyter-widgets/controls",
            "_model_module_version": "1.5.0",
            "value": 2000,
            "_view_count": null,
            "_view_module_version": "1.5.0",
            "orientation": "horizontal",
            "min": 0,
            "description_tooltip": null,
            "_model_module": "@jupyter-widgets/controls",
            "layout": "IPY_MODEL_0bd67d8c1ffc457d8725a9a0774b0d69"
          }
        },
        "916cdcfe65fb4a07b74235882e53307f": {
          "model_module": "@jupyter-widgets/controls",
          "model_name": "HTMLModel",
          "state": {
            "_view_name": "HTMLView",
            "style": "IPY_MODEL_a13e83dedf714281bebfa80ae35f9e36",
            "_dom_classes": [],
            "description": "",
            "_model_name": "HTMLModel",
            "placeholder": "​",
            "_view_module": "@jupyter-widgets/controls",
            "_model_module_version": "1.5.0",
            "value": " 2000/2000 [05:39&lt;00:00,  5.88it/s]",
            "_view_count": null,
            "_view_module_version": "1.5.0",
            "description_tooltip": null,
            "_model_module": "@jupyter-widgets/controls",
            "layout": "IPY_MODEL_bc438a82b454453384e1835489064075"
          }
        },
        "fac4ceb1f3474b6699bd1c1de4297619": {
          "model_module": "@jupyter-widgets/controls",
          "model_name": "ProgressStyleModel",
          "state": {
            "_view_name": "StyleView",
            "_model_name": "ProgressStyleModel",
            "description_width": "initial",
            "_view_module": "@jupyter-widgets/base",
            "_model_module_version": "1.5.0",
            "_view_count": null,
            "_view_module_version": "1.2.0",
            "bar_color": null,
            "_model_module": "@jupyter-widgets/controls"
          }
        },
        "0bd67d8c1ffc457d8725a9a0774b0d69": {
          "model_module": "@jupyter-widgets/base",
          "model_name": "LayoutModel",
          "state": {
            "_view_name": "LayoutView",
            "grid_template_rows": null,
            "right": null,
            "justify_content": null,
            "_view_module": "@jupyter-widgets/base",
            "overflow": null,
            "_model_module_version": "1.2.0",
            "_view_count": null,
            "flex_flow": null,
            "width": null,
            "min_width": null,
            "border": null,
            "align_items": null,
            "bottom": null,
            "_model_module": "@jupyter-widgets/base",
            "top": null,
            "grid_column": null,
            "overflow_y": null,
            "overflow_x": null,
            "grid_auto_flow": null,
            "grid_area": null,
            "grid_template_columns": null,
            "flex": null,
            "_model_name": "LayoutModel",
            "justify_items": null,
            "grid_row": null,
            "max_height": null,
            "align_content": null,
            "visibility": null,
            "align_self": null,
            "height": null,
            "min_height": null,
            "padding": null,
            "grid_auto_rows": null,
            "grid_gap": null,
            "max_width": null,
            "order": null,
            "_view_module_version": "1.2.0",
            "grid_template_areas": null,
            "object_position": null,
            "object_fit": null,
            "grid_auto_columns": null,
            "margin": null,
            "display": null,
            "left": null
          }
        },
        "a13e83dedf714281bebfa80ae35f9e36": {
          "model_module": "@jupyter-widgets/controls",
          "model_name": "DescriptionStyleModel",
          "state": {
            "_view_name": "StyleView",
            "_model_name": "DescriptionStyleModel",
            "description_width": "",
            "_view_module": "@jupyter-widgets/base",
            "_model_module_version": "1.5.0",
            "_view_count": null,
            "_view_module_version": "1.2.0",
            "_model_module": "@jupyter-widgets/controls"
          }
        },
        "bc438a82b454453384e1835489064075": {
          "model_module": "@jupyter-widgets/base",
          "model_name": "LayoutModel",
          "state": {
            "_view_name": "LayoutView",
            "grid_template_rows": null,
            "right": null,
            "justify_content": null,
            "_view_module": "@jupyter-widgets/base",
            "overflow": null,
            "_model_module_version": "1.2.0",
            "_view_count": null,
            "flex_flow": null,
            "width": null,
            "min_width": null,
            "border": null,
            "align_items": null,
            "bottom": null,
            "_model_module": "@jupyter-widgets/base",
            "top": null,
            "grid_column": null,
            "overflow_y": null,
            "overflow_x": null,
            "grid_auto_flow": null,
            "grid_area": null,
            "grid_template_columns": null,
            "flex": null,
            "_model_name": "LayoutModel",
            "justify_items": null,
            "grid_row": null,
            "max_height": null,
            "align_content": null,
            "visibility": null,
            "align_self": null,
            "height": null,
            "min_height": null,
            "padding": null,
            "grid_auto_rows": null,
            "grid_gap": null,
            "max_width": null,
            "order": null,
            "_view_module_version": "1.2.0",
            "grid_template_areas": null,
            "object_position": null,
            "object_fit": null,
            "grid_auto_columns": null,
            "margin": null,
            "display": null,
            "left": null
          }
        },
        "5fdf20e06c584cbeb93f306dfd22f05a": {
          "model_module": "@jupyter-widgets/controls",
          "model_name": "HBoxModel",
          "state": {
            "_view_name": "HBoxView",
            "_dom_classes": [],
            "_model_name": "HBoxModel",
            "_view_module": "@jupyter-widgets/controls",
            "_model_module_version": "1.5.0",
            "_view_count": null,
            "_view_module_version": "1.5.0",
            "box_style": "",
            "layout": "IPY_MODEL_e82b1ba4be8545809a70f999b23225a6",
            "_model_module": "@jupyter-widgets/controls",
            "children": [
              "IPY_MODEL_e5ffb6c1045f47ae974fb9da9fd038c2",
              "IPY_MODEL_2e5cddcebd4d46168d48c4365e7755f7"
            ]
          }
        },
        "e82b1ba4be8545809a70f999b23225a6": {
          "model_module": "@jupyter-widgets/base",
          "model_name": "LayoutModel",
          "state": {
            "_view_name": "LayoutView",
            "grid_template_rows": null,
            "right": null,
            "justify_content": null,
            "_view_module": "@jupyter-widgets/base",
            "overflow": null,
            "_model_module_version": "1.2.0",
            "_view_count": null,
            "flex_flow": null,
            "width": null,
            "min_width": null,
            "border": null,
            "align_items": null,
            "bottom": null,
            "_model_module": "@jupyter-widgets/base",
            "top": null,
            "grid_column": null,
            "overflow_y": null,
            "overflow_x": null,
            "grid_auto_flow": null,
            "grid_area": null,
            "grid_template_columns": null,
            "flex": null,
            "_model_name": "LayoutModel",
            "justify_items": null,
            "grid_row": null,
            "max_height": null,
            "align_content": null,
            "visibility": null,
            "align_self": null,
            "height": null,
            "min_height": null,
            "padding": null,
            "grid_auto_rows": null,
            "grid_gap": null,
            "max_width": null,
            "order": null,
            "_view_module_version": "1.2.0",
            "grid_template_areas": null,
            "object_position": null,
            "object_fit": null,
            "grid_auto_columns": null,
            "margin": null,
            "display": null,
            "left": null
          }
        },
        "e5ffb6c1045f47ae974fb9da9fd038c2": {
          "model_module": "@jupyter-widgets/controls",
          "model_name": "FloatProgressModel",
          "state": {
            "_view_name": "ProgressView",
            "style": "IPY_MODEL_db4d27e3c74f4b1a82865c4e890d715c",
            "_dom_classes": [],
            "description": "Epoch 4: 100%",
            "_model_name": "FloatProgressModel",
            "bar_style": "success",
            "max": 2000,
            "_view_module": "@jupyter-widgets/controls",
            "_model_module_version": "1.5.0",
            "value": 2000,
            "_view_count": null,
            "_view_module_version": "1.5.0",
            "orientation": "horizontal",
            "min": 0,
            "description_tooltip": null,
            "_model_module": "@jupyter-widgets/controls",
            "layout": "IPY_MODEL_d99960f8cecb4e4fa2cc1730b359d9be"
          }
        },
        "2e5cddcebd4d46168d48c4365e7755f7": {
          "model_module": "@jupyter-widgets/controls",
          "model_name": "HTMLModel",
          "state": {
            "_view_name": "HTMLView",
            "style": "IPY_MODEL_e749c2e6a648476eb57cc01e498f1125",
            "_dom_classes": [],
            "description": "",
            "_model_name": "HTMLModel",
            "placeholder": "​",
            "_view_module": "@jupyter-widgets/controls",
            "_model_module_version": "1.5.0",
            "value": " 2000/2000 [05:40&lt;00:00,  5.87it/s]",
            "_view_count": null,
            "_view_module_version": "1.5.0",
            "description_tooltip": null,
            "_model_module": "@jupyter-widgets/controls",
            "layout": "IPY_MODEL_444e1094e5bd43329fc1466f53e3bf2e"
          }
        },
        "db4d27e3c74f4b1a82865c4e890d715c": {
          "model_module": "@jupyter-widgets/controls",
          "model_name": "ProgressStyleModel",
          "state": {
            "_view_name": "StyleView",
            "_model_name": "ProgressStyleModel",
            "description_width": "initial",
            "_view_module": "@jupyter-widgets/base",
            "_model_module_version": "1.5.0",
            "_view_count": null,
            "_view_module_version": "1.2.0",
            "bar_color": null,
            "_model_module": "@jupyter-widgets/controls"
          }
        },
        "d99960f8cecb4e4fa2cc1730b359d9be": {
          "model_module": "@jupyter-widgets/base",
          "model_name": "LayoutModel",
          "state": {
            "_view_name": "LayoutView",
            "grid_template_rows": null,
            "right": null,
            "justify_content": null,
            "_view_module": "@jupyter-widgets/base",
            "overflow": null,
            "_model_module_version": "1.2.0",
            "_view_count": null,
            "flex_flow": null,
            "width": null,
            "min_width": null,
            "border": null,
            "align_items": null,
            "bottom": null,
            "_model_module": "@jupyter-widgets/base",
            "top": null,
            "grid_column": null,
            "overflow_y": null,
            "overflow_x": null,
            "grid_auto_flow": null,
            "grid_area": null,
            "grid_template_columns": null,
            "flex": null,
            "_model_name": "LayoutModel",
            "justify_items": null,
            "grid_row": null,
            "max_height": null,
            "align_content": null,
            "visibility": null,
            "align_self": null,
            "height": null,
            "min_height": null,
            "padding": null,
            "grid_auto_rows": null,
            "grid_gap": null,
            "max_width": null,
            "order": null,
            "_view_module_version": "1.2.0",
            "grid_template_areas": null,
            "object_position": null,
            "object_fit": null,
            "grid_auto_columns": null,
            "margin": null,
            "display": null,
            "left": null
          }
        },
        "e749c2e6a648476eb57cc01e498f1125": {
          "model_module": "@jupyter-widgets/controls",
          "model_name": "DescriptionStyleModel",
          "state": {
            "_view_name": "StyleView",
            "_model_name": "DescriptionStyleModel",
            "description_width": "",
            "_view_module": "@jupyter-widgets/base",
            "_model_module_version": "1.5.0",
            "_view_count": null,
            "_view_module_version": "1.2.0",
            "_model_module": "@jupyter-widgets/controls"
          }
        },
        "444e1094e5bd43329fc1466f53e3bf2e": {
          "model_module": "@jupyter-widgets/base",
          "model_name": "LayoutModel",
          "state": {
            "_view_name": "LayoutView",
            "grid_template_rows": null,
            "right": null,
            "justify_content": null,
            "_view_module": "@jupyter-widgets/base",
            "overflow": null,
            "_model_module_version": "1.2.0",
            "_view_count": null,
            "flex_flow": null,
            "width": null,
            "min_width": null,
            "border": null,
            "align_items": null,
            "bottom": null,
            "_model_module": "@jupyter-widgets/base",
            "top": null,
            "grid_column": null,
            "overflow_y": null,
            "overflow_x": null,
            "grid_auto_flow": null,
            "grid_area": null,
            "grid_template_columns": null,
            "flex": null,
            "_model_name": "LayoutModel",
            "justify_items": null,
            "grid_row": null,
            "max_height": null,
            "align_content": null,
            "visibility": null,
            "align_self": null,
            "height": null,
            "min_height": null,
            "padding": null,
            "grid_auto_rows": null,
            "grid_gap": null,
            "max_width": null,
            "order": null,
            "_view_module_version": "1.2.0",
            "grid_template_areas": null,
            "object_position": null,
            "object_fit": null,
            "grid_auto_columns": null,
            "margin": null,
            "display": null,
            "left": null
          }
        },
        "755ccf1dfa174f5b809d7070c5b73b93": {
          "model_module": "@jupyter-widgets/controls",
          "model_name": "HBoxModel",
          "state": {
            "_view_name": "HBoxView",
            "_dom_classes": [],
            "_model_name": "HBoxModel",
            "_view_module": "@jupyter-widgets/controls",
            "_model_module_version": "1.5.0",
            "_view_count": null,
            "_view_module_version": "1.5.0",
            "box_style": "",
            "layout": "IPY_MODEL_fc1dc4e08a534f3894100f46eddad275",
            "_model_module": "@jupyter-widgets/controls",
            "children": [
              "IPY_MODEL_2172f51d22f7496a9e43fdb05d96a29a",
              "IPY_MODEL_cf88ecdabe7f4845af4963270d4706d7"
            ]
          }
        },
        "fc1dc4e08a534f3894100f46eddad275": {
          "model_module": "@jupyter-widgets/base",
          "model_name": "LayoutModel",
          "state": {
            "_view_name": "LayoutView",
            "grid_template_rows": null,
            "right": null,
            "justify_content": null,
            "_view_module": "@jupyter-widgets/base",
            "overflow": null,
            "_model_module_version": "1.2.0",
            "_view_count": null,
            "flex_flow": null,
            "width": null,
            "min_width": null,
            "border": null,
            "align_items": null,
            "bottom": null,
            "_model_module": "@jupyter-widgets/base",
            "top": null,
            "grid_column": null,
            "overflow_y": null,
            "overflow_x": null,
            "grid_auto_flow": null,
            "grid_area": null,
            "grid_template_columns": null,
            "flex": null,
            "_model_name": "LayoutModel",
            "justify_items": null,
            "grid_row": null,
            "max_height": null,
            "align_content": null,
            "visibility": null,
            "align_self": null,
            "height": null,
            "min_height": null,
            "padding": null,
            "grid_auto_rows": null,
            "grid_gap": null,
            "max_width": null,
            "order": null,
            "_view_module_version": "1.2.0",
            "grid_template_areas": null,
            "object_position": null,
            "object_fit": null,
            "grid_auto_columns": null,
            "margin": null,
            "display": null,
            "left": null
          }
        },
        "2172f51d22f7496a9e43fdb05d96a29a": {
          "model_module": "@jupyter-widgets/controls",
          "model_name": "FloatProgressModel",
          "state": {
            "_view_name": "ProgressView",
            "style": "IPY_MODEL_9b620f259ef44f0889de6e348412f333",
            "_dom_classes": [],
            "description": "Epoch 5: 100%",
            "_model_name": "FloatProgressModel",
            "bar_style": "success",
            "max": 2000,
            "_view_module": "@jupyter-widgets/controls",
            "_model_module_version": "1.5.0",
            "value": 2000,
            "_view_count": null,
            "_view_module_version": "1.5.0",
            "orientation": "horizontal",
            "min": 0,
            "description_tooltip": null,
            "_model_module": "@jupyter-widgets/controls",
            "layout": "IPY_MODEL_882d386961ad4859b7ddb2cdf3d0d05b"
          }
        },
        "cf88ecdabe7f4845af4963270d4706d7": {
          "model_module": "@jupyter-widgets/controls",
          "model_name": "HTMLModel",
          "state": {
            "_view_name": "HTMLView",
            "style": "IPY_MODEL_0099a5dc14724e7089c0b4fb639b0a33",
            "_dom_classes": [],
            "description": "",
            "_model_name": "HTMLModel",
            "placeholder": "​",
            "_view_module": "@jupyter-widgets/controls",
            "_model_module_version": "1.5.0",
            "value": " 2000/2000 [17:01&lt;00:00,  1.96it/s]",
            "_view_count": null,
            "_view_module_version": "1.5.0",
            "description_tooltip": null,
            "_model_module": "@jupyter-widgets/controls",
            "layout": "IPY_MODEL_ce59f69e48ad446aba35f9ca482d686d"
          }
        },
        "9b620f259ef44f0889de6e348412f333": {
          "model_module": "@jupyter-widgets/controls",
          "model_name": "ProgressStyleModel",
          "state": {
            "_view_name": "StyleView",
            "_model_name": "ProgressStyleModel",
            "description_width": "initial",
            "_view_module": "@jupyter-widgets/base",
            "_model_module_version": "1.5.0",
            "_view_count": null,
            "_view_module_version": "1.2.0",
            "bar_color": null,
            "_model_module": "@jupyter-widgets/controls"
          }
        },
        "882d386961ad4859b7ddb2cdf3d0d05b": {
          "model_module": "@jupyter-widgets/base",
          "model_name": "LayoutModel",
          "state": {
            "_view_name": "LayoutView",
            "grid_template_rows": null,
            "right": null,
            "justify_content": null,
            "_view_module": "@jupyter-widgets/base",
            "overflow": null,
            "_model_module_version": "1.2.0",
            "_view_count": null,
            "flex_flow": null,
            "width": null,
            "min_width": null,
            "border": null,
            "align_items": null,
            "bottom": null,
            "_model_module": "@jupyter-widgets/base",
            "top": null,
            "grid_column": null,
            "overflow_y": null,
            "overflow_x": null,
            "grid_auto_flow": null,
            "grid_area": null,
            "grid_template_columns": null,
            "flex": null,
            "_model_name": "LayoutModel",
            "justify_items": null,
            "grid_row": null,
            "max_height": null,
            "align_content": null,
            "visibility": null,
            "align_self": null,
            "height": null,
            "min_height": null,
            "padding": null,
            "grid_auto_rows": null,
            "grid_gap": null,
            "max_width": null,
            "order": null,
            "_view_module_version": "1.2.0",
            "grid_template_areas": null,
            "object_position": null,
            "object_fit": null,
            "grid_auto_columns": null,
            "margin": null,
            "display": null,
            "left": null
          }
        },
        "0099a5dc14724e7089c0b4fb639b0a33": {
          "model_module": "@jupyter-widgets/controls",
          "model_name": "DescriptionStyleModel",
          "state": {
            "_view_name": "StyleView",
            "_model_name": "DescriptionStyleModel",
            "description_width": "",
            "_view_module": "@jupyter-widgets/base",
            "_model_module_version": "1.5.0",
            "_view_count": null,
            "_view_module_version": "1.2.0",
            "_model_module": "@jupyter-widgets/controls"
          }
        },
        "ce59f69e48ad446aba35f9ca482d686d": {
          "model_module": "@jupyter-widgets/base",
          "model_name": "LayoutModel",
          "state": {
            "_view_name": "LayoutView",
            "grid_template_rows": null,
            "right": null,
            "justify_content": null,
            "_view_module": "@jupyter-widgets/base",
            "overflow": null,
            "_model_module_version": "1.2.0",
            "_view_count": null,
            "flex_flow": null,
            "width": null,
            "min_width": null,
            "border": null,
            "align_items": null,
            "bottom": null,
            "_model_module": "@jupyter-widgets/base",
            "top": null,
            "grid_column": null,
            "overflow_y": null,
            "overflow_x": null,
            "grid_auto_flow": null,
            "grid_area": null,
            "grid_template_columns": null,
            "flex": null,
            "_model_name": "LayoutModel",
            "justify_items": null,
            "grid_row": null,
            "max_height": null,
            "align_content": null,
            "visibility": null,
            "align_self": null,
            "height": null,
            "min_height": null,
            "padding": null,
            "grid_auto_rows": null,
            "grid_gap": null,
            "max_width": null,
            "order": null,
            "_view_module_version": "1.2.0",
            "grid_template_areas": null,
            "object_position": null,
            "object_fit": null,
            "grid_auto_columns": null,
            "margin": null,
            "display": null,
            "left": null
          }
        },
        "08b78c50de3447c2a4651674ee3c6f79": {
          "model_module": "@jupyter-widgets/controls",
          "model_name": "HBoxModel",
          "state": {
            "_view_name": "HBoxView",
            "_dom_classes": [],
            "_model_name": "HBoxModel",
            "_view_module": "@jupyter-widgets/controls",
            "_model_module_version": "1.5.0",
            "_view_count": null,
            "_view_module_version": "1.5.0",
            "box_style": "",
            "layout": "IPY_MODEL_93f2344b669a405e8b648cbe48d3a010",
            "_model_module": "@jupyter-widgets/controls",
            "children": [
              "IPY_MODEL_f9696544f8da48f98eb21cda153259df",
              "IPY_MODEL_6b7737d46e4842bba56b31688679a65c"
            ]
          }
        },
        "93f2344b669a405e8b648cbe48d3a010": {
          "model_module": "@jupyter-widgets/base",
          "model_name": "LayoutModel",
          "state": {
            "_view_name": "LayoutView",
            "grid_template_rows": null,
            "right": null,
            "justify_content": null,
            "_view_module": "@jupyter-widgets/base",
            "overflow": null,
            "_model_module_version": "1.2.0",
            "_view_count": null,
            "flex_flow": null,
            "width": null,
            "min_width": null,
            "border": null,
            "align_items": null,
            "bottom": null,
            "_model_module": "@jupyter-widgets/base",
            "top": null,
            "grid_column": null,
            "overflow_y": null,
            "overflow_x": null,
            "grid_auto_flow": null,
            "grid_area": null,
            "grid_template_columns": null,
            "flex": null,
            "_model_name": "LayoutModel",
            "justify_items": null,
            "grid_row": null,
            "max_height": null,
            "align_content": null,
            "visibility": null,
            "align_self": null,
            "height": null,
            "min_height": null,
            "padding": null,
            "grid_auto_rows": null,
            "grid_gap": null,
            "max_width": null,
            "order": null,
            "_view_module_version": "1.2.0",
            "grid_template_areas": null,
            "object_position": null,
            "object_fit": null,
            "grid_auto_columns": null,
            "margin": null,
            "display": null,
            "left": null
          }
        },
        "f9696544f8da48f98eb21cda153259df": {
          "model_module": "@jupyter-widgets/controls",
          "model_name": "FloatProgressModel",
          "state": {
            "_view_name": "ProgressView",
            "style": "IPY_MODEL_c2b25e60c0f545c282224d1e40b974db",
            "_dom_classes": [],
            "description": "Epoch 6: 100%",
            "_model_name": "FloatProgressModel",
            "bar_style": "success",
            "max": 2000,
            "_view_module": "@jupyter-widgets/controls",
            "_model_module_version": "1.5.0",
            "value": 2000,
            "_view_count": null,
            "_view_module_version": "1.5.0",
            "orientation": "horizontal",
            "min": 0,
            "description_tooltip": null,
            "_model_module": "@jupyter-widgets/controls",
            "layout": "IPY_MODEL_56dbb52b7b264cf1b220012c9a70e024"
          }
        },
        "6b7737d46e4842bba56b31688679a65c": {
          "model_module": "@jupyter-widgets/controls",
          "model_name": "HTMLModel",
          "state": {
            "_view_name": "HTMLView",
            "style": "IPY_MODEL_708b0a79f2934bc88156f795bedc4ada",
            "_dom_classes": [],
            "description": "",
            "_model_name": "HTMLModel",
            "placeholder": "​",
            "_view_module": "@jupyter-widgets/controls",
            "_model_module_version": "1.5.0",
            "value": " 2000/2000 [11:20&lt;00:00,  2.94it/s]",
            "_view_count": null,
            "_view_module_version": "1.5.0",
            "description_tooltip": null,
            "_model_module": "@jupyter-widgets/controls",
            "layout": "IPY_MODEL_dff36a56ac73437f8d75d448cd72d551"
          }
        },
        "c2b25e60c0f545c282224d1e40b974db": {
          "model_module": "@jupyter-widgets/controls",
          "model_name": "ProgressStyleModel",
          "state": {
            "_view_name": "StyleView",
            "_model_name": "ProgressStyleModel",
            "description_width": "initial",
            "_view_module": "@jupyter-widgets/base",
            "_model_module_version": "1.5.0",
            "_view_count": null,
            "_view_module_version": "1.2.0",
            "bar_color": null,
            "_model_module": "@jupyter-widgets/controls"
          }
        },
        "56dbb52b7b264cf1b220012c9a70e024": {
          "model_module": "@jupyter-widgets/base",
          "model_name": "LayoutModel",
          "state": {
            "_view_name": "LayoutView",
            "grid_template_rows": null,
            "right": null,
            "justify_content": null,
            "_view_module": "@jupyter-widgets/base",
            "overflow": null,
            "_model_module_version": "1.2.0",
            "_view_count": null,
            "flex_flow": null,
            "width": null,
            "min_width": null,
            "border": null,
            "align_items": null,
            "bottom": null,
            "_model_module": "@jupyter-widgets/base",
            "top": null,
            "grid_column": null,
            "overflow_y": null,
            "overflow_x": null,
            "grid_auto_flow": null,
            "grid_area": null,
            "grid_template_columns": null,
            "flex": null,
            "_model_name": "LayoutModel",
            "justify_items": null,
            "grid_row": null,
            "max_height": null,
            "align_content": null,
            "visibility": null,
            "align_self": null,
            "height": null,
            "min_height": null,
            "padding": null,
            "grid_auto_rows": null,
            "grid_gap": null,
            "max_width": null,
            "order": null,
            "_view_module_version": "1.2.0",
            "grid_template_areas": null,
            "object_position": null,
            "object_fit": null,
            "grid_auto_columns": null,
            "margin": null,
            "display": null,
            "left": null
          }
        },
        "708b0a79f2934bc88156f795bedc4ada": {
          "model_module": "@jupyter-widgets/controls",
          "model_name": "DescriptionStyleModel",
          "state": {
            "_view_name": "StyleView",
            "_model_name": "DescriptionStyleModel",
            "description_width": "",
            "_view_module": "@jupyter-widgets/base",
            "_model_module_version": "1.5.0",
            "_view_count": null,
            "_view_module_version": "1.2.0",
            "_model_module": "@jupyter-widgets/controls"
          }
        },
        "dff36a56ac73437f8d75d448cd72d551": {
          "model_module": "@jupyter-widgets/base",
          "model_name": "LayoutModel",
          "state": {
            "_view_name": "LayoutView",
            "grid_template_rows": null,
            "right": null,
            "justify_content": null,
            "_view_module": "@jupyter-widgets/base",
            "overflow": null,
            "_model_module_version": "1.2.0",
            "_view_count": null,
            "flex_flow": null,
            "width": null,
            "min_width": null,
            "border": null,
            "align_items": null,
            "bottom": null,
            "_model_module": "@jupyter-widgets/base",
            "top": null,
            "grid_column": null,
            "overflow_y": null,
            "overflow_x": null,
            "grid_auto_flow": null,
            "grid_area": null,
            "grid_template_columns": null,
            "flex": null,
            "_model_name": "LayoutModel",
            "justify_items": null,
            "grid_row": null,
            "max_height": null,
            "align_content": null,
            "visibility": null,
            "align_self": null,
            "height": null,
            "min_height": null,
            "padding": null,
            "grid_auto_rows": null,
            "grid_gap": null,
            "max_width": null,
            "order": null,
            "_view_module_version": "1.2.0",
            "grid_template_areas": null,
            "object_position": null,
            "object_fit": null,
            "grid_auto_columns": null,
            "margin": null,
            "display": null,
            "left": null
          }
        },
        "d3bf349b46b84e2595657dfe8a9a0b40": {
          "model_module": "@jupyter-widgets/controls",
          "model_name": "HBoxModel",
          "state": {
            "_view_name": "HBoxView",
            "_dom_classes": [],
            "_model_name": "HBoxModel",
            "_view_module": "@jupyter-widgets/controls",
            "_model_module_version": "1.5.0",
            "_view_count": null,
            "_view_module_version": "1.5.0",
            "box_style": "",
            "layout": "IPY_MODEL_7971b2231872457b81b33aa632cf11c6",
            "_model_module": "@jupyter-widgets/controls",
            "children": [
              "IPY_MODEL_04ed04a96eb74bea822632e7bcb15513",
              "IPY_MODEL_e5d5b41e8ff04cc4bb1e4adaf59e8ab7"
            ]
          }
        },
        "7971b2231872457b81b33aa632cf11c6": {
          "model_module": "@jupyter-widgets/base",
          "model_name": "LayoutModel",
          "state": {
            "_view_name": "LayoutView",
            "grid_template_rows": null,
            "right": null,
            "justify_content": null,
            "_view_module": "@jupyter-widgets/base",
            "overflow": null,
            "_model_module_version": "1.2.0",
            "_view_count": null,
            "flex_flow": null,
            "width": null,
            "min_width": null,
            "border": null,
            "align_items": null,
            "bottom": null,
            "_model_module": "@jupyter-widgets/base",
            "top": null,
            "grid_column": null,
            "overflow_y": null,
            "overflow_x": null,
            "grid_auto_flow": null,
            "grid_area": null,
            "grid_template_columns": null,
            "flex": null,
            "_model_name": "LayoutModel",
            "justify_items": null,
            "grid_row": null,
            "max_height": null,
            "align_content": null,
            "visibility": null,
            "align_self": null,
            "height": null,
            "min_height": null,
            "padding": null,
            "grid_auto_rows": null,
            "grid_gap": null,
            "max_width": null,
            "order": null,
            "_view_module_version": "1.2.0",
            "grid_template_areas": null,
            "object_position": null,
            "object_fit": null,
            "grid_auto_columns": null,
            "margin": null,
            "display": null,
            "left": null
          }
        },
        "04ed04a96eb74bea822632e7bcb15513": {
          "model_module": "@jupyter-widgets/controls",
          "model_name": "FloatProgressModel",
          "state": {
            "_view_name": "ProgressView",
            "style": "IPY_MODEL_6a34af3465b84b3683866a0883ccfb56",
            "_dom_classes": [],
            "description": "Epoch 7: 100%",
            "_model_name": "FloatProgressModel",
            "bar_style": "success",
            "max": 2000,
            "_view_module": "@jupyter-widgets/controls",
            "_model_module_version": "1.5.0",
            "value": 2000,
            "_view_count": null,
            "_view_module_version": "1.5.0",
            "orientation": "horizontal",
            "min": 0,
            "description_tooltip": null,
            "_model_module": "@jupyter-widgets/controls",
            "layout": "IPY_MODEL_9b26033ef6514b8e8509ec09777e9b09"
          }
        },
        "e5d5b41e8ff04cc4bb1e4adaf59e8ab7": {
          "model_module": "@jupyter-widgets/controls",
          "model_name": "HTMLModel",
          "state": {
            "_view_name": "HTMLView",
            "style": "IPY_MODEL_a676d37cdce7402c961dd659b4ecff46",
            "_dom_classes": [],
            "description": "",
            "_model_name": "HTMLModel",
            "placeholder": "​",
            "_view_module": "@jupyter-widgets/controls",
            "_model_module_version": "1.5.0",
            "value": " 2000/2000 [05:39&lt;00:00,  5.89it/s]",
            "_view_count": null,
            "_view_module_version": "1.5.0",
            "description_tooltip": null,
            "_model_module": "@jupyter-widgets/controls",
            "layout": "IPY_MODEL_5a6f613eec414cef81e8b5e8f197fa45"
          }
        },
        "6a34af3465b84b3683866a0883ccfb56": {
          "model_module": "@jupyter-widgets/controls",
          "model_name": "ProgressStyleModel",
          "state": {
            "_view_name": "StyleView",
            "_model_name": "ProgressStyleModel",
            "description_width": "initial",
            "_view_module": "@jupyter-widgets/base",
            "_model_module_version": "1.5.0",
            "_view_count": null,
            "_view_module_version": "1.2.0",
            "bar_color": null,
            "_model_module": "@jupyter-widgets/controls"
          }
        },
        "9b26033ef6514b8e8509ec09777e9b09": {
          "model_module": "@jupyter-widgets/base",
          "model_name": "LayoutModel",
          "state": {
            "_view_name": "LayoutView",
            "grid_template_rows": null,
            "right": null,
            "justify_content": null,
            "_view_module": "@jupyter-widgets/base",
            "overflow": null,
            "_model_module_version": "1.2.0",
            "_view_count": null,
            "flex_flow": null,
            "width": null,
            "min_width": null,
            "border": null,
            "align_items": null,
            "bottom": null,
            "_model_module": "@jupyter-widgets/base",
            "top": null,
            "grid_column": null,
            "overflow_y": null,
            "overflow_x": null,
            "grid_auto_flow": null,
            "grid_area": null,
            "grid_template_columns": null,
            "flex": null,
            "_model_name": "LayoutModel",
            "justify_items": null,
            "grid_row": null,
            "max_height": null,
            "align_content": null,
            "visibility": null,
            "align_self": null,
            "height": null,
            "min_height": null,
            "padding": null,
            "grid_auto_rows": null,
            "grid_gap": null,
            "max_width": null,
            "order": null,
            "_view_module_version": "1.2.0",
            "grid_template_areas": null,
            "object_position": null,
            "object_fit": null,
            "grid_auto_columns": null,
            "margin": null,
            "display": null,
            "left": null
          }
        },
        "a676d37cdce7402c961dd659b4ecff46": {
          "model_module": "@jupyter-widgets/controls",
          "model_name": "DescriptionStyleModel",
          "state": {
            "_view_name": "StyleView",
            "_model_name": "DescriptionStyleModel",
            "description_width": "",
            "_view_module": "@jupyter-widgets/base",
            "_model_module_version": "1.5.0",
            "_view_count": null,
            "_view_module_version": "1.2.0",
            "_model_module": "@jupyter-widgets/controls"
          }
        },
        "5a6f613eec414cef81e8b5e8f197fa45": {
          "model_module": "@jupyter-widgets/base",
          "model_name": "LayoutModel",
          "state": {
            "_view_name": "LayoutView",
            "grid_template_rows": null,
            "right": null,
            "justify_content": null,
            "_view_module": "@jupyter-widgets/base",
            "overflow": null,
            "_model_module_version": "1.2.0",
            "_view_count": null,
            "flex_flow": null,
            "width": null,
            "min_width": null,
            "border": null,
            "align_items": null,
            "bottom": null,
            "_model_module": "@jupyter-widgets/base",
            "top": null,
            "grid_column": null,
            "overflow_y": null,
            "overflow_x": null,
            "grid_auto_flow": null,
            "grid_area": null,
            "grid_template_columns": null,
            "flex": null,
            "_model_name": "LayoutModel",
            "justify_items": null,
            "grid_row": null,
            "max_height": null,
            "align_content": null,
            "visibility": null,
            "align_self": null,
            "height": null,
            "min_height": null,
            "padding": null,
            "grid_auto_rows": null,
            "grid_gap": null,
            "max_width": null,
            "order": null,
            "_view_module_version": "1.2.0",
            "grid_template_areas": null,
            "object_position": null,
            "object_fit": null,
            "grid_auto_columns": null,
            "margin": null,
            "display": null,
            "left": null
          }
        },
        "907f59f6faad4f3c8c7f5ab103ccb77f": {
          "model_module": "@jupyter-widgets/controls",
          "model_name": "HBoxModel",
          "state": {
            "_view_name": "HBoxView",
            "_dom_classes": [],
            "_model_name": "HBoxModel",
            "_view_module": "@jupyter-widgets/controls",
            "_model_module_version": "1.5.0",
            "_view_count": null,
            "_view_module_version": "1.5.0",
            "box_style": "",
            "layout": "IPY_MODEL_1b4c1e1bb18941e7a0035f9bed8cfeea",
            "_model_module": "@jupyter-widgets/controls",
            "children": [
              "IPY_MODEL_170f6dcd204a450db0df44c1dce90415",
              "IPY_MODEL_c7b5a9de61c84a10bfd966af95292926"
            ]
          }
        },
        "1b4c1e1bb18941e7a0035f9bed8cfeea": {
          "model_module": "@jupyter-widgets/base",
          "model_name": "LayoutModel",
          "state": {
            "_view_name": "LayoutView",
            "grid_template_rows": null,
            "right": null,
            "justify_content": null,
            "_view_module": "@jupyter-widgets/base",
            "overflow": null,
            "_model_module_version": "1.2.0",
            "_view_count": null,
            "flex_flow": null,
            "width": null,
            "min_width": null,
            "border": null,
            "align_items": null,
            "bottom": null,
            "_model_module": "@jupyter-widgets/base",
            "top": null,
            "grid_column": null,
            "overflow_y": null,
            "overflow_x": null,
            "grid_auto_flow": null,
            "grid_area": null,
            "grid_template_columns": null,
            "flex": null,
            "_model_name": "LayoutModel",
            "justify_items": null,
            "grid_row": null,
            "max_height": null,
            "align_content": null,
            "visibility": null,
            "align_self": null,
            "height": null,
            "min_height": null,
            "padding": null,
            "grid_auto_rows": null,
            "grid_gap": null,
            "max_width": null,
            "order": null,
            "_view_module_version": "1.2.0",
            "grid_template_areas": null,
            "object_position": null,
            "object_fit": null,
            "grid_auto_columns": null,
            "margin": null,
            "display": null,
            "left": null
          }
        },
        "170f6dcd204a450db0df44c1dce90415": {
          "model_module": "@jupyter-widgets/controls",
          "model_name": "FloatProgressModel",
          "state": {
            "_view_name": "ProgressView",
            "style": "IPY_MODEL_a5ea3ccb8932446aa87807977addf028",
            "_dom_classes": [],
            "description": "Epoch 8: 100%",
            "_model_name": "FloatProgressModel",
            "bar_style": "success",
            "max": 2000,
            "_view_module": "@jupyter-widgets/controls",
            "_model_module_version": "1.5.0",
            "value": 2000,
            "_view_count": null,
            "_view_module_version": "1.5.0",
            "orientation": "horizontal",
            "min": 0,
            "description_tooltip": null,
            "_model_module": "@jupyter-widgets/controls",
            "layout": "IPY_MODEL_6b0af88cfce6408bbacf179a55609277"
          }
        },
        "c7b5a9de61c84a10bfd966af95292926": {
          "model_module": "@jupyter-widgets/controls",
          "model_name": "HTMLModel",
          "state": {
            "_view_name": "HTMLView",
            "style": "IPY_MODEL_61161ae495a84b8fb357393e3d78d165",
            "_dom_classes": [],
            "description": "",
            "_model_name": "HTMLModel",
            "placeholder": "​",
            "_view_module": "@jupyter-widgets/controls",
            "_model_module_version": "1.5.0",
            "value": " 2000/2000 [05:41&lt;00:00,  5.85it/s]",
            "_view_count": null,
            "_view_module_version": "1.5.0",
            "description_tooltip": null,
            "_model_module": "@jupyter-widgets/controls",
            "layout": "IPY_MODEL_da266ec77ce84b2cb71efb8466e0cb1a"
          }
        },
        "a5ea3ccb8932446aa87807977addf028": {
          "model_module": "@jupyter-widgets/controls",
          "model_name": "ProgressStyleModel",
          "state": {
            "_view_name": "StyleView",
            "_model_name": "ProgressStyleModel",
            "description_width": "initial",
            "_view_module": "@jupyter-widgets/base",
            "_model_module_version": "1.5.0",
            "_view_count": null,
            "_view_module_version": "1.2.0",
            "bar_color": null,
            "_model_module": "@jupyter-widgets/controls"
          }
        },
        "6b0af88cfce6408bbacf179a55609277": {
          "model_module": "@jupyter-widgets/base",
          "model_name": "LayoutModel",
          "state": {
            "_view_name": "LayoutView",
            "grid_template_rows": null,
            "right": null,
            "justify_content": null,
            "_view_module": "@jupyter-widgets/base",
            "overflow": null,
            "_model_module_version": "1.2.0",
            "_view_count": null,
            "flex_flow": null,
            "width": null,
            "min_width": null,
            "border": null,
            "align_items": null,
            "bottom": null,
            "_model_module": "@jupyter-widgets/base",
            "top": null,
            "grid_column": null,
            "overflow_y": null,
            "overflow_x": null,
            "grid_auto_flow": null,
            "grid_area": null,
            "grid_template_columns": null,
            "flex": null,
            "_model_name": "LayoutModel",
            "justify_items": null,
            "grid_row": null,
            "max_height": null,
            "align_content": null,
            "visibility": null,
            "align_self": null,
            "height": null,
            "min_height": null,
            "padding": null,
            "grid_auto_rows": null,
            "grid_gap": null,
            "max_width": null,
            "order": null,
            "_view_module_version": "1.2.0",
            "grid_template_areas": null,
            "object_position": null,
            "object_fit": null,
            "grid_auto_columns": null,
            "margin": null,
            "display": null,
            "left": null
          }
        },
        "61161ae495a84b8fb357393e3d78d165": {
          "model_module": "@jupyter-widgets/controls",
          "model_name": "DescriptionStyleModel",
          "state": {
            "_view_name": "StyleView",
            "_model_name": "DescriptionStyleModel",
            "description_width": "",
            "_view_module": "@jupyter-widgets/base",
            "_model_module_version": "1.5.0",
            "_view_count": null,
            "_view_module_version": "1.2.0",
            "_model_module": "@jupyter-widgets/controls"
          }
        },
        "da266ec77ce84b2cb71efb8466e0cb1a": {
          "model_module": "@jupyter-widgets/base",
          "model_name": "LayoutModel",
          "state": {
            "_view_name": "LayoutView",
            "grid_template_rows": null,
            "right": null,
            "justify_content": null,
            "_view_module": "@jupyter-widgets/base",
            "overflow": null,
            "_model_module_version": "1.2.0",
            "_view_count": null,
            "flex_flow": null,
            "width": null,
            "min_width": null,
            "border": null,
            "align_items": null,
            "bottom": null,
            "_model_module": "@jupyter-widgets/base",
            "top": null,
            "grid_column": null,
            "overflow_y": null,
            "overflow_x": null,
            "grid_auto_flow": null,
            "grid_area": null,
            "grid_template_columns": null,
            "flex": null,
            "_model_name": "LayoutModel",
            "justify_items": null,
            "grid_row": null,
            "max_height": null,
            "align_content": null,
            "visibility": null,
            "align_self": null,
            "height": null,
            "min_height": null,
            "padding": null,
            "grid_auto_rows": null,
            "grid_gap": null,
            "max_width": null,
            "order": null,
            "_view_module_version": "1.2.0",
            "grid_template_areas": null,
            "object_position": null,
            "object_fit": null,
            "grid_auto_columns": null,
            "margin": null,
            "display": null,
            "left": null
          }
        },
        "7077f4ec9bb24603bcb83e2fc1c44fce": {
          "model_module": "@jupyter-widgets/controls",
          "model_name": "HBoxModel",
          "state": {
            "_view_name": "HBoxView",
            "_dom_classes": [],
            "_model_name": "HBoxModel",
            "_view_module": "@jupyter-widgets/controls",
            "_model_module_version": "1.5.0",
            "_view_count": null,
            "_view_module_version": "1.5.0",
            "box_style": "",
            "layout": "IPY_MODEL_4017ddbc740d46df830183a670a69ab4",
            "_model_module": "@jupyter-widgets/controls",
            "children": [
              "IPY_MODEL_167f64ee63f34455ac902d1ae215e58e",
              "IPY_MODEL_be8bbfdfdd2645deb8777bcc9037a3af"
            ]
          }
        },
        "4017ddbc740d46df830183a670a69ab4": {
          "model_module": "@jupyter-widgets/base",
          "model_name": "LayoutModel",
          "state": {
            "_view_name": "LayoutView",
            "grid_template_rows": null,
            "right": null,
            "justify_content": null,
            "_view_module": "@jupyter-widgets/base",
            "overflow": null,
            "_model_module_version": "1.2.0",
            "_view_count": null,
            "flex_flow": null,
            "width": null,
            "min_width": null,
            "border": null,
            "align_items": null,
            "bottom": null,
            "_model_module": "@jupyter-widgets/base",
            "top": null,
            "grid_column": null,
            "overflow_y": null,
            "overflow_x": null,
            "grid_auto_flow": null,
            "grid_area": null,
            "grid_template_columns": null,
            "flex": null,
            "_model_name": "LayoutModel",
            "justify_items": null,
            "grid_row": null,
            "max_height": null,
            "align_content": null,
            "visibility": null,
            "align_self": null,
            "height": null,
            "min_height": null,
            "padding": null,
            "grid_auto_rows": null,
            "grid_gap": null,
            "max_width": null,
            "order": null,
            "_view_module_version": "1.2.0",
            "grid_template_areas": null,
            "object_position": null,
            "object_fit": null,
            "grid_auto_columns": null,
            "margin": null,
            "display": null,
            "left": null
          }
        },
        "167f64ee63f34455ac902d1ae215e58e": {
          "model_module": "@jupyter-widgets/controls",
          "model_name": "FloatProgressModel",
          "state": {
            "_view_name": "ProgressView",
            "style": "IPY_MODEL_e70b1e33f93748f1a913545eedc220d5",
            "_dom_classes": [],
            "description": "Evaluating: 100%",
            "_model_name": "FloatProgressModel",
            "bar_style": "success",
            "max": 1000,
            "_view_module": "@jupyter-widgets/controls",
            "_model_module_version": "1.5.0",
            "value": 1000,
            "_view_count": null,
            "_view_module_version": "1.5.0",
            "orientation": "horizontal",
            "min": 0,
            "description_tooltip": null,
            "_model_module": "@jupyter-widgets/controls",
            "layout": "IPY_MODEL_37643c7a16674f5e9ff5fa122825e9d9"
          }
        },
        "be8bbfdfdd2645deb8777bcc9037a3af": {
          "model_module": "@jupyter-widgets/controls",
          "model_name": "HTMLModel",
          "state": {
            "_view_name": "HTMLView",
            "style": "IPY_MODEL_c1487d78aa0e4d43aef3590826d9d917",
            "_dom_classes": [],
            "description": "",
            "_model_name": "HTMLModel",
            "placeholder": "​",
            "_view_module": "@jupyter-widgets/controls",
            "_model_module_version": "1.5.0",
            "value": " 1000/1000 [00:33&lt;00:00, 30.06it/s]",
            "_view_count": null,
            "_view_module_version": "1.5.0",
            "description_tooltip": null,
            "_model_module": "@jupyter-widgets/controls",
            "layout": "IPY_MODEL_9c0fcef5efce44349656a535b8f55d20"
          }
        },
        "e70b1e33f93748f1a913545eedc220d5": {
          "model_module": "@jupyter-widgets/controls",
          "model_name": "ProgressStyleModel",
          "state": {
            "_view_name": "StyleView",
            "_model_name": "ProgressStyleModel",
            "description_width": "initial",
            "_view_module": "@jupyter-widgets/base",
            "_model_module_version": "1.5.0",
            "_view_count": null,
            "_view_module_version": "1.2.0",
            "bar_color": null,
            "_model_module": "@jupyter-widgets/controls"
          }
        },
        "37643c7a16674f5e9ff5fa122825e9d9": {
          "model_module": "@jupyter-widgets/base",
          "model_name": "LayoutModel",
          "state": {
            "_view_name": "LayoutView",
            "grid_template_rows": null,
            "right": null,
            "justify_content": null,
            "_view_module": "@jupyter-widgets/base",
            "overflow": null,
            "_model_module_version": "1.2.0",
            "_view_count": null,
            "flex_flow": null,
            "width": null,
            "min_width": null,
            "border": null,
            "align_items": null,
            "bottom": null,
            "_model_module": "@jupyter-widgets/base",
            "top": null,
            "grid_column": null,
            "overflow_y": null,
            "overflow_x": null,
            "grid_auto_flow": null,
            "grid_area": null,
            "grid_template_columns": null,
            "flex": null,
            "_model_name": "LayoutModel",
            "justify_items": null,
            "grid_row": null,
            "max_height": null,
            "align_content": null,
            "visibility": null,
            "align_self": null,
            "height": null,
            "min_height": null,
            "padding": null,
            "grid_auto_rows": null,
            "grid_gap": null,
            "max_width": null,
            "order": null,
            "_view_module_version": "1.2.0",
            "grid_template_areas": null,
            "object_position": null,
            "object_fit": null,
            "grid_auto_columns": null,
            "margin": null,
            "display": null,
            "left": null
          }
        },
        "c1487d78aa0e4d43aef3590826d9d917": {
          "model_module": "@jupyter-widgets/controls",
          "model_name": "DescriptionStyleModel",
          "state": {
            "_view_name": "StyleView",
            "_model_name": "DescriptionStyleModel",
            "description_width": "",
            "_view_module": "@jupyter-widgets/base",
            "_model_module_version": "1.5.0",
            "_view_count": null,
            "_view_module_version": "1.2.0",
            "_model_module": "@jupyter-widgets/controls"
          }
        },
        "9c0fcef5efce44349656a535b8f55d20": {
          "model_module": "@jupyter-widgets/base",
          "model_name": "LayoutModel",
          "state": {
            "_view_name": "LayoutView",
            "grid_template_rows": null,
            "right": null,
            "justify_content": null,
            "_view_module": "@jupyter-widgets/base",
            "overflow": null,
            "_model_module_version": "1.2.0",
            "_view_count": null,
            "flex_flow": null,
            "width": null,
            "min_width": null,
            "border": null,
            "align_items": null,
            "bottom": null,
            "_model_module": "@jupyter-widgets/base",
            "top": null,
            "grid_column": null,
            "overflow_y": null,
            "overflow_x": null,
            "grid_auto_flow": null,
            "grid_area": null,
            "grid_template_columns": null,
            "flex": null,
            "_model_name": "LayoutModel",
            "justify_items": null,
            "grid_row": null,
            "max_height": null,
            "align_content": null,
            "visibility": null,
            "align_self": null,
            "height": null,
            "min_height": null,
            "padding": null,
            "grid_auto_rows": null,
            "grid_gap": null,
            "max_width": null,
            "order": null,
            "_view_module_version": "1.2.0",
            "grid_template_areas": null,
            "object_position": null,
            "object_fit": null,
            "grid_auto_columns": null,
            "margin": null,
            "display": null,
            "left": null
          }
        }
      }
    },
    "colab": {
      "name": "ProtoNets-Omniglot.ipynb",
      "provenance": [],
      "collapsed_sections": [],
      "toc_visible": true,
      "include_colab_link": true
    },
    "accelerator": "GPU"
  },
  "cells": [
    {
      "cell_type": "markdown",
      "metadata": {
        "id": "view-in-github",
        "colab_type": "text"
      },
      "source": [
        "<a href=\"https://colab.research.google.com/github/Surendra58/AI/blob/master/ProtoNets_Omniglot.ipynb\" target=\"_parent\"><img src=\"https://colab.research.google.com/assets/colab-badge.svg\" alt=\"Open In Colab\"/></a>"
      ]
    },
    {
      "cell_type": "markdown",
      "metadata": {
        "id": "u6N9DG7z04qd",
        "colab_type": "text"
      },
      "source": [
        "# Prototypical Networks\n",
        "### on the Omniglot Dataset"
      ]
    },
    {
      "cell_type": "markdown",
      "metadata": {
        "id": "J9D7EU5d2EkV",
        "colab_type": "text"
      },
      "source": [
        "## Setup"
      ]
    },
    {
      "cell_type": "code",
      "metadata": {
        "id": "9AK1Sr4A1BOf",
        "colab_type": "code",
        "colab": {
          "base_uri": "https://localhost:8080/",
          "height": 118
        },
        "outputId": "ec4241a2-95dd-4aae-aef7-e7d289055974"
      },
      "source": [
        "# Clone the repository\n",
        "!git clone https://github.com/theneuralbeing/prototypical_networks"
      ],
      "execution_count": null,
      "outputs": [
        {
          "output_type": "stream",
          "text": [
            "Cloning into 'prototypical_networks'...\n",
            "remote: Enumerating objects: 54, done.\u001b[K\n",
            "remote: Counting objects: 100% (54/54), done.\u001b[K\n",
            "remote: Compressing objects: 100% (27/27), done.\u001b[K\n",
            "remote: Total 54 (delta 27), reused 54 (delta 27), pack-reused 0\u001b[K\n",
            "Unpacking objects: 100% (54/54), done.\n"
          ],
          "name": "stdout"
        }
      ]
    },
    {
      "cell_type": "code",
      "metadata": {
        "id": "g6F62DAx1E2k",
        "colab_type": "code",
        "colab": {
          "base_uri": "https://localhost:8080/",
          "height": 34
        },
        "outputId": "1444dc73-fa35-4f37-ef95-c019d905c3d5"
      },
      "source": [
        "cd prototypical_networks/"
      ],
      "execution_count": null,
      "outputs": [
        {
          "output_type": "stream",
          "text": [
            "/content/prototypical_networks\n"
          ],
          "name": "stdout"
        }
      ]
    },
    {
      "cell_type": "code",
      "metadata": {
        "id": "5EnsIgWr18bi",
        "colab_type": "code",
        "colab": {}
      },
      "source": [
        "# Download\n",
        "!wget https://github.com/brendenlake/omniglot/raw/master/python/images_background.zip\n",
        "!wget https://github.com/brendenlake/omniglot/raw/master/python/images_evaluation.zip\n",
        "# Unzip to omniglot/ folder\n",
        "!unzip images_background.zip\n",
        "!unzip images_evaluation.zip"
      ],
      "execution_count": null,
      "outputs": []
    },
    {
      "cell_type": "markdown",
      "metadata": {
        "id": "SxXztXXh2HCD",
        "colab_type": "text"
      },
      "source": [
        "## Imports"
      ]
    },
    {
      "cell_type": "code",
      "metadata": {
        "id": "wDrcK-e104qe",
        "colab_type": "code",
        "colab": {}
      },
      "source": [
        "import numpy as np\n",
        "import os\n",
        "import cv2\n",
        "from scipy import ndimage\n",
        "from tqdm.notebook import tqdm\n",
        "import matplotlib.pyplot as plt\n",
        "\n",
        "import torch\n",
        "from torch import nn\n",
        "import torch.nn.functional as F\n",
        "import torchvision"
      ],
      "execution_count": null,
      "outputs": []
    },
    {
      "cell_type": "markdown",
      "metadata": {
        "id": "zrHyraNn04qk",
        "colab_type": "text"
      },
      "source": [
        "## Load Dataset"
      ]
    },
    {
      "cell_type": "code",
      "metadata": {
        "id": "Y-UBwiR804ql",
        "colab_type": "code",
        "colab": {}
      },
      "source": [
        "def load_characters(root, alphabet):\n",
        "    '''\n",
        "    Loads the characters from a given alphabet\n",
        "    Args:\n",
        "        root (str): Root directory\n",
        "        alphabet (str): folder name of alphabet\n",
        "    Returns:\n",
        "        (tuple) of:\n",
        "            (list): images\n",
        "            (list): labels\n",
        "    '''\n",
        "    X = []\n",
        "    y = []\n",
        "    \n",
        "    alphabet_path = os.path.join(root, alphabet)\n",
        "    characters = os.listdir(alphabet_path)\n",
        "    \n",
        "    for char in characters:\n",
        "        char_path = os.path.join(alphabet_path, char)\n",
        "        images = os.listdir(char_path)\n",
        "        \n",
        "        for img in images:\n",
        "            image = cv2.imread(os.path.join(char_path, img))\n",
        "            image = cv2.resize(image, (28, 28)) / 255\n",
        "            \n",
        "            # Augmentations to add 3 new classes by rotating each class\n",
        "            rotated_90 = ndimage.rotate(image, 90)\n",
        "            rotated_180 = ndimage.rotate(image, 180)\n",
        "            rotated_270 = ndimage.rotate(image, 270)\n",
        "            \n",
        "            X.extend((image, rotated_90, rotated_180, rotated_270))\n",
        "            y.extend((f'{alphabet}_{char}_0', \n",
        "                      f'{alphabet}_{char}_90', \n",
        "                      f'{alphabet}_{char}_180', \n",
        "                      f'{alphabet}_{char}_270'))\n",
        "    \n",
        "    return X, y"
      ],
      "execution_count": null,
      "outputs": []
    },
    {
      "cell_type": "code",
      "metadata": {
        "id": "W0kWpreY04qp",
        "colab_type": "code",
        "colab": {}
      },
      "source": [
        "def load_data(root):\n",
        "    '''\n",
        "    Loads the full omniglot dataset from a root directory\n",
        "    Args:\n",
        "        root (str): path of omniglot dataset\n",
        "    Returns:\n",
        "        (tuple) of:\n",
        "            (ndarray): images\n",
        "            (ndarray): labels\n",
        "    '''\n",
        "    X_data = []\n",
        "    y_data = []\n",
        "    \n",
        "    alphabets = os.listdir(root)\n",
        "    for alphabet in tqdm(alphabets):\n",
        "        X, y = load_characters(root, alphabet)\n",
        "        X_data.extend(X)\n",
        "        y_data.extend(y)\n",
        "    \n",
        "    return np.array(X_data), np.array(y_data)"
      ],
      "execution_count": null,
      "outputs": []
    },
    {
      "cell_type": "code",
      "metadata": {
        "id": "B7TRGNdN04qu",
        "colab_type": "code",
        "colab": {
          "base_uri": "https://localhost:8080/",
          "height": 66,
          "referenced_widgets": [
            "19ee391a94e1435291238940b24cca64",
            "0efbd82724e242cfbe54015028390204",
            "69c031d6c143457894564be7cd976627",
            "d032b3901ec248bdbb7ece3565fec770",
            "bbfd99d4ffd34e97a7b9c30ff7d2c341",
            "ffaac9f949cc42548e8d8b337a6875c7",
            "f676eb364a814e78bf5ed4a4867be12f",
            "14256f61ad914348975756ed0148d48b"
          ]
        },
        "outputId": "57e1e1db-33d3-4056-d279-30615919e053"
      },
      "source": [
        "X_train, y_train = load_data('images_background/')"
      ],
      "execution_count": null,
      "outputs": [
        {
          "output_type": "display_data",
          "data": {
            "application/vnd.jupyter.widget-view+json": {
              "model_id": "19ee391a94e1435291238940b24cca64",
              "version_minor": 0,
              "version_major": 2
            },
            "text/plain": [
              "HBox(children=(FloatProgress(value=0.0, max=30.0), HTML(value='')))"
            ]
          },
          "metadata": {
            "tags": []
          }
        },
        {
          "output_type": "stream",
          "text": [
            "\n"
          ],
          "name": "stdout"
        }
      ]
    },
    {
      "cell_type": "code",
      "metadata": {
        "id": "PwtXRlz204q1",
        "colab_type": "code",
        "colab": {
          "base_uri": "https://localhost:8080/",
          "height": 66,
          "referenced_widgets": [
            "1c56f9be659a4e8b872dae36ef628b9c",
            "56e6ebfd02644dcfa479dac784b5aae6",
            "fcce64b194b34958aaa104fc5b45d769",
            "d633b4b4b1c44745ac2fd93aa1fc9779",
            "82b8f29bee434295a78617e41ff42c87",
            "7ba46f84b7fd4511b3999a02e81053b5",
            "9cf751c1ea3e49be9b411044cc24acde",
            "2e8b4bbc387941a1977b8ee66689494e"
          ]
        },
        "outputId": "7c0cbce8-f98d-4599-dc98-a9342c50c5cb"
      },
      "source": [
        "X_eval, y_eval = load_data('images_evaluation/')"
      ],
      "execution_count": null,
      "outputs": [
        {
          "output_type": "display_data",
          "data": {
            "application/vnd.jupyter.widget-view+json": {
              "model_id": "1c56f9be659a4e8b872dae36ef628b9c",
              "version_minor": 0,
              "version_major": 2
            },
            "text/plain": [
              "HBox(children=(FloatProgress(value=0.0, max=20.0), HTML(value='')))"
            ]
          },
          "metadata": {
            "tags": []
          }
        },
        {
          "output_type": "stream",
          "text": [
            "\n"
          ],
          "name": "stdout"
        }
      ]
    },
    {
      "cell_type": "markdown",
      "metadata": {
        "id": "JPBUatUA04q4",
        "colab_type": "text"
      },
      "source": [
        "## Task Generation"
      ]
    },
    {
      "cell_type": "code",
      "metadata": {
        "id": "HW2BTEeM04q5",
        "colab_type": "code",
        "colab": {}
      },
      "source": [
        "def extract_sample(X_data, y_data, k_shot=5, n_way=8, n_query=5, permute=True):\n",
        "    '''\n",
        "    Extract a random sample as a k-shot n-way task\n",
        "    Args:\n",
        "        X_data (ndarray): images\n",
        "        y_data (ndarray): labels\n",
        "        k_shot (int): number of images per class\n",
        "        n_way (int): number of classes in the task\n",
        "        n_query (int): number of query images\n",
        "        permute (bool): flag to shuffle the classes or not. For training this must be set to True.\n",
        "    Returns:\n",
        "        (ndarray): sampled images of shape (n_way, k_shot + n_query, 28, 28, 3)\n",
        "    '''\n",
        "    sample = []\n",
        "    \n",
        "    # Randomly select n_way classes\n",
        "    sampled_cls = np.random.choice(np.unique(y_data), n_way, replace=False)\n",
        "    \n",
        "    # Only useful for extracting samples with no query images during prediction on unlablled data\n",
        "    if not permute:\n",
        "        sampled_cls = np.unique(y_data)[:n_way]\n",
        "        \n",
        "    \n",
        "    for c in sampled_cls:\n",
        "        # Select images belonging to that class\n",
        "        X_data_c = X_data[y_data == c]\n",
        "        \n",
        "        # Sample k_shot+n_query images\n",
        "        sample_images = np.random.permutation(X_data_c)[:(k_shot+n_query)]\n",
        "        sample.append(sample_images)\n",
        "\n",
        "    sample = np.array(sample)\n",
        "    # Convert to tensor and permute the images as channels first\n",
        "    sample = torch.from_numpy(sample).float().permute(0, 1, 4, 2, 3)\n",
        "    \n",
        "    return sample"
      ],
      "execution_count": null,
      "outputs": []
    },
    {
      "cell_type": "code",
      "metadata": {
        "id": "Dxja1Whp04rS",
        "colab_type": "code",
        "colab": {}
      },
      "source": [
        "def display_sample(sample):\n",
        "    '''Display the samples of the task as a grid'''\n",
        "    # Reshape to 4-dimensions from 5-dimensions\n",
        "    sample_4d = sample.view(sample.shape[0]*sample.shape[1], *sample.shape[2:])\n",
        "    \n",
        "    # Make a grid\n",
        "    out = torchvision.utils.make_grid(sample_4d, nrow=sample.shape[1])\n",
        "    \n",
        "    plt.figure(figsize = (16,7))\n",
        "    plt.imshow(out.permute(1, 2, 0))"
      ],
      "execution_count": null,
      "outputs": []
    },
    {
      "cell_type": "code",
      "metadata": {
        "id": "VLhKN5rf04rY",
        "colab_type": "code",
        "colab": {}
      },
      "source": [
        "test_sample = extract_sample(X_train, y_train, k_shot=5, n_way=8, n_query=5)"
      ],
      "execution_count": null,
      "outputs": []
    },
    {
      "cell_type": "code",
      "metadata": {
        "id": "wn1qWHfL04rc",
        "colab_type": "code",
        "colab": {
          "base_uri": "https://localhost:8080/",
          "height": 449
        },
        "outputId": "124a2ca4-ce96-45b3-9ede-32163aca700f"
      },
      "source": [
        "display_sample(test_sample)"
      ],
      "execution_count": null,
      "outputs": [
        {
          "output_type": "stream",
          "text": [
            "Clipping input data to the valid range for imshow with RGB data ([0..1] for floats or [0..255] for integers).\n"
          ],
          "name": "stderr"
        },
        {
          "output_type": "display_data",
          "data": {
            "image/png": "[encoded data removed]",
            "text/plain": [
              "<Figure size 1152x504 with 1 Axes>"
            ]
          },
          "metadata": {
            "tags": [],
            "needs_background": "light"
          }
        }
      ]
    },
    {
      "cell_type": "markdown",
      "metadata": {
        "id": "VH6YZv-u04rg",
        "colab_type": "text"
      },
      "source": [
        "## Model"
      ]
    },
    {
      "cell_type": "code",
      "metadata": {
        "id": "DMmu8M4104rh",
        "colab_type": "code",
        "colab": {}
      },
      "source": [
        "class Image2Vector(nn.Module):\n",
        "    def __init__(self):\n",
        "        super(Image2Vector, self).__init__()\n",
        "        \n",
        "        self.input_block = nn.Sequential(nn.Conv2d(3, 64, 3, padding=1),\n",
        "                                         nn.BatchNorm2d(64),\n",
        "                                         nn.ReLU(),\n",
        "                                         nn.MaxPool2d(2))\n",
        "        \n",
        "        self.conv_block = nn.Sequential(nn.Conv2d(64, 64, 3, padding=1),\n",
        "                                        nn.BatchNorm2d(64),\n",
        "                                        nn.ReLU(),\n",
        "                                        nn.MaxPool2d(2))\n",
        "    def forward(self, x):\n",
        "        \n",
        "        x = self.input_block(x)\n",
        "        x = self.conv_block(x)\n",
        "        x = self.conv_block(x)\n",
        "        x = self.conv_block(x)\n",
        "        \n",
        "        # Output of shape (batch_size, 64)\n",
        "        out = x.view(x.size(0), -1)\n",
        "        \n",
        "        return out"
      ],
      "execution_count": null,
      "outputs": []
    },
    {
      "cell_type": "code",
      "metadata": {
        "id": "VBwqwSb204rk",
        "colab_type": "code",
        "colab": {}
      },
      "source": [
        "class ProtoNet(nn.Module):\n",
        "    '''ProtoNet Model for usage with known/labelled data'''\n",
        "    def __init__(self):\n",
        "        super(ProtoNet, self).__init__()\n",
        "        \n",
        "        self.encoder = Image2Vector()\n",
        "    \n",
        "    def forward(self, sample, k_shot, n_way, n_query, device):\n",
        "        '''Forward pass\n",
        "        Args:\n",
        "            sample (torch.Tensor): sample of shape (n_way, k_shot + n_query, 28, 28, 3)\n",
        "            k_shot (int): number of images per class\n",
        "            n_way (int): number of classes\n",
        "            n_query (int): number of query images per class\n",
        "        \n",
        "        Returns:\n",
        "            tuple of:\n",
        "                loss, dict of loss value, accuracy, predictions\n",
        "        '''\n",
        "        # Get the support set and query set images\n",
        "        support = sample[:, :k_shot]\n",
        "        queries = sample[:, k_shot:]\n",
        "        \n",
        "        # Get the target indices\n",
        "        targets = torch.arange(0, n_way).view(n_way, 1, 1).expand(n_way, n_query, 1).long().to(device)\n",
        "        \n",
        "        # Concatenate support set and query set along the 0th dimension\n",
        "        x = torch.cat([support.contiguous().view(n_way * k_shot, *support.size()[2:]), \n",
        "                       queries.contiguous().view(n_way * n_query, *queries.size()[2:])], 0)\n",
        "        \n",
        "        # Get the embeddings\n",
        "        embeds = self.encoder(x)\n",
        "        z_dim = embeds.size(-1)\n",
        "        \n",
        "        # Compute Prototypes\n",
        "        protos = embeds[:n_way * k_shot].view(n_way, k_shot, z_dim).mean(1)\n",
        "        \n",
        "        # Get query embeddings\n",
        "        query_embeds = embeds[n_way * k_shot:]\n",
        "        \n",
        "        # Compute Distances\n",
        "        distances = self.euclidean(query_embeds, protos)\n",
        "        \n",
        "        # Compute Log Softmax over the inverse of euclidean distances\n",
        "        log_p = F.log_softmax(-distances, dim=1).view(n_way, n_query, -1)\n",
        "        \n",
        "        # Compute the negative of log softmax for correct classes (NLL)\n",
        "        # and calculate the mean NLL loss\n",
        "        loss = -log_p.gather(2, targets).squeeze().view(-1).mean()\n",
        "                \n",
        "        # Get predictions and calculate accuracy\n",
        "        y_hat = log_p.argmax(2)\n",
        "        accuracy = torch.eq(y_hat, targets.squeeze()).float().mean()\n",
        "        \n",
        "        return loss, {'loss': loss.item(), \n",
        "                      'preds': y_hat, \n",
        "                      'acc': accuracy.item()}\n",
        "        \n",
        "        \n",
        "    def euclidean(self, queries, protos):\n",
        "        '''\n",
        "        Calculates Euclidean Distances between queries and prototypes\n",
        "        Args:\n",
        "            queries (torch.Tensor): shape (n, d) where n is n_way*n_query\n",
        "            protos (torch.Tensor): shape (m, d) where m is n_way\n",
        "        Returns:\n",
        "            (torch.Tensor): shape (n, m) i.e. for each query the euclidean distances\n",
        "                            to each of the prototypes\n",
        "        '''\n",
        "        n = queries.size(0)\n",
        "        m = protos.size(0)\n",
        "        d = queries.size(1)\n",
        "        \n",
        "        # Reshaping the queries and prototypes for distance calculation\n",
        "        queries = queries.unsqueeze(1).expand(n, m, d)\n",
        "        protos = protos.unsqueeze(0).expand(n, m, d)\n",
        "        \n",
        "        distance = torch.pow(queries - protos, 2).sum(2) # of shape n x m\n",
        "        \n",
        "        return distance"
      ],
      "execution_count": null,
      "outputs": []
    },
    {
      "cell_type": "code",
      "metadata": {
        "id": "ZYkvF4Hu04ro",
        "colab_type": "code",
        "colab": {}
      },
      "source": [
        "model = ProtoNet()"
      ],
      "execution_count": null,
      "outputs": []
    },
    {
      "cell_type": "markdown",
      "metadata": {
        "id": "FgVjXJ9j04rv",
        "colab_type": "text"
      },
      "source": [
        "## Training"
      ]
    },
    {
      "cell_type": "code",
      "metadata": {
        "id": "DwQGtnR304rw",
        "colab_type": "code",
        "colab": {}
      },
      "source": [
        "from tqdm.notebook import tnrange"
      ],
      "execution_count": null,
      "outputs": []
    },
    {
      "cell_type": "code",
      "metadata": {
        "id": "wPjqCAlE04ry",
        "colab_type": "code",
        "colab": {}
      },
      "source": [
        "def train(model, X_data, y_data, optimizer, device='cuda', \n",
        "          k_shot=5, n_way=60, n_query=5, epochs=5, episodes=2000):\n",
        "    '''\n",
        "    Trains the ProtoNet on k-shot n-way task\n",
        "    Args:\n",
        "        model\n",
        "        X_data (torch.Tensor): images\n",
        "        y_data (torch.Tensor): labels\n",
        "        optimizer\n",
        "        k_shot (int): number of support images per class\n",
        "        n_way (int): number of classes\n",
        "        n_query (int): number of query images per class\n",
        "        epochs (int): maximum epochs\n",
        "        episodes (int): number of steps per epoch\n",
        "    '''\n",
        "    \n",
        "    model.to(device)\n",
        "    model.train()\n",
        "    # Create LR scheduler\n",
        "    scheduler = torch.optim.lr_scheduler.StepLR(optimizer, 1, gamma=0.5)\n",
        "    \n",
        "    for epoch in range(epochs):\n",
        "        print('Epoch {:d} Started...'.format(epoch+1))\n",
        "        train_losses = 0\n",
        "        train_accuracies = 0\n",
        "        \n",
        "        for episode in tnrange(episodes, desc='Epoch {:d}'.format(epoch+1)):\n",
        "            optimizer.zero_grad()\n",
        "            \n",
        "            # Extract sample\n",
        "            sample = extract_sample(X_data, y_data, k_shot, n_way, n_query).to(device)\n",
        "            \n",
        "            # Forward Pass on ProtoNet\n",
        "            loss, stats = model(sample, k_shot, n_way, n_query, device)\n",
        "            \n",
        "            # Backprop and Optimize\n",
        "            loss.backward()\n",
        "            optimizer.step()\n",
        "            \n",
        "            # Get Stats\n",
        "            train_losses += stats['loss']\n",
        "            train_accuracies += stats['acc']\n",
        "            \n",
        "            if episode % 200 == 0:\n",
        "                print('At Episode {:d} -- Loss {:.5f} - Acc: {:.3f}'.format(episode, stats['loss'], stats['acc']))\n",
        "        \n",
        "        # Print Epoch Stats\n",
        "        mean_loss = train_losses / episodes\n",
        "        mean_acc = train_accuracies / episodes\n",
        "        print('Epoch {:d} -- Loss: {:.5f} - Acc: {:.3f}\\n'.format(epoch+1, mean_loss, mean_acc))\n",
        "        \n",
        "        # Scheduler Step\n",
        "        scheduler.step()"
      ],
      "execution_count": null,
      "outputs": []
    },
    {
      "cell_type": "code",
      "metadata": {
        "id": "Y61Z7sMQ04r1",
        "colab_type": "code",
        "colab": {}
      },
      "source": [
        "optimizer = torch.optim.SGD(model.parameters(), lr=0.001)"
      ],
      "execution_count": null,
      "outputs": []
    },
    {
      "cell_type": "code",
      "metadata": {
        "id": "ZaUDEZJS04r3",
        "colab_type": "code",
        "colab": {
          "base_uri": "https://localhost:8080/",
          "height": 1000,
          "referenced_widgets": [
            "4ae96f3cfb9948219f488f03f305ad11",
            "8778e4f0447847fbabd316f27989e2b9",
            "c7ef381690264cedb4e6c4987f792f17",
            "fe4f359073b44a1cac67cc7db186aad8",
            "80ed9acb0f77431a9641a15dcc566703",
            "fd333537a1d9423eb6ec220726335cef",
            "981c459cb1294ae9ba7e32228094cdd7",
            "dc00679baf5d4a86b059f1fa6651f4cb",
            "29fefa72cc2e4a83885cb5dbfb24d2a9",
            "ca188d8cf5e640a4ac34ad6f3121366b",
            "dc4050e5b37d46fa821625980e2b937b",
            "719512ff66fd46e3b681ebd03572f9ae",
            "a5491c9ab35541abb4f93e27b6cb6559",
            "56034c2ee95c4401ba3a61a5573583bf",
            "f9dbbe53ce5149b793012895706f5899",
            "83e7c2a92354466fa963b764d154d1f8",
            "6aca519059504d1fbdb6e44f35175fd7",
            "97ba374e34a84255a4f39537e1dfe64b",
            "e1e7fb94057842ef92f2e0ed75881428",
            "916cdcfe65fb4a07b74235882e53307f",
            "fac4ceb1f3474b6699bd1c1de4297619",
            "0bd67d8c1ffc457d8725a9a0774b0d69",
            "a13e83dedf714281bebfa80ae35f9e36",
            "bc438a82b454453384e1835489064075",
            "5fdf20e06c584cbeb93f306dfd22f05a",
            "e82b1ba4be8545809a70f999b23225a6",
            "e5ffb6c1045f47ae974fb9da9fd038c2",
            "2e5cddcebd4d46168d48c4365e7755f7",
            "db4d27e3c74f4b1a82865c4e890d715c",
            "d99960f8cecb4e4fa2cc1730b359d9be",
            "e749c2e6a648476eb57cc01e498f1125",
            "444e1094e5bd43329fc1466f53e3bf2e",
            "755ccf1dfa174f5b809d7070c5b73b93",
            "fc1dc4e08a534f3894100f46eddad275",
            "2172f51d22f7496a9e43fdb05d96a29a",
            "cf88ecdabe7f4845af4963270d4706d7",
            "9b620f259ef44f0889de6e348412f333",
            "882d386961ad4859b7ddb2cdf3d0d05b",
            "0099a5dc14724e7089c0b4fb639b0a33",
            "ce59f69e48ad446aba35f9ca482d686d",
            "08b78c50de3447c2a4651674ee3c6f79",
            "93f2344b669a405e8b648cbe48d3a010",
            "f9696544f8da48f98eb21cda153259df",
            "6b7737d46e4842bba56b31688679a65c",
            "c2b25e60c0f545c282224d1e40b974db",
            "56dbb52b7b264cf1b220012c9a70e024",
            "708b0a79f2934bc88156f795bedc4ada",
            "dff36a56ac73437f8d75d448cd72d551",
            "d3bf349b46b84e2595657dfe8a9a0b40",
            "7971b2231872457b81b33aa632cf11c6",
            "04ed04a96eb74bea822632e7bcb15513",
            "e5d5b41e8ff04cc4bb1e4adaf59e8ab7",
            "6a34af3465b84b3683866a0883ccfb56",
            "9b26033ef6514b8e8509ec09777e9b09",
            "a676d37cdce7402c961dd659b4ecff46",
            "5a6f613eec414cef81e8b5e8f197fa45",
            "907f59f6faad4f3c8c7f5ab103ccb77f",
            "1b4c1e1bb18941e7a0035f9bed8cfeea",
            "170f6dcd204a450db0df44c1dce90415",
            "c7b5a9de61c84a10bfd966af95292926",
            "a5ea3ccb8932446aa87807977addf028",
            "6b0af88cfce6408bbacf179a55609277",
            "61161ae495a84b8fb357393e3d78d165",
            "da266ec77ce84b2cb71efb8466e0cb1a"
          ]
        },
        "outputId": "5bed5c04-4b75-4fea-bba7-d69480f3ad79"
      },
      "source": [
        "train(model, X_train, y_train, optimizer, device='cuda', k_shot=5, n_way=60, n_query=5, epochs=8, episodes=2000)"
      ],
      "execution_count": null,
      "outputs": [
        {
          "output_type": "stream",
          "text": [
            "Epoch 1 Started...\n"
          ],
          "name": "stdout"
        },
        {
          "output_type": "display_data",
          "data": {
            "application/vnd.jupyter.widget-view+json": {
              "model_id": "4ae96f3cfb9948219f488f03f305ad11",
              "version_minor": 0,
              "version_major": 2
            },
            "text/plain": [
              "HBox(children=(FloatProgress(value=0.0, description='Epoch 1', max=2000.0, style=ProgressStyle(description_wid…"
            ]
          },
          "metadata": {
            "tags": []
          }
        },
        {
          "output_type": "stream",
          "text": [
            "At Episode 0 -- Loss 2.27824 - Acc: 0.540\n",
            "At Episode 200 -- Loss 0.56162 - Acc: 0.847\n",
            "At Episode 400 -- Loss 0.27499 - Acc: 0.927\n",
            "At Episode 600 -- Loss 0.29937 - Acc: 0.907\n",
            "At Episode 800 -- Loss 0.17339 - Acc: 0.937\n",
            "At Episode 1000 -- Loss 0.13937 - Acc: 0.957\n",
            "At Episode 1200 -- Loss 0.22515 - Acc: 0.933\n",
            "At Episode 1400 -- Loss 0.15883 - Acc: 0.953\n",
            "At Episode 1600 -- Loss 0.16091 - Acc: 0.953\n",
            "At Episode 1800 -- Loss 0.17292 - Acc: 0.940\n",
            "\n",
            "Epoch 1 -- Loss: 0.28257 - Acc: 0.912\n",
            "\n",
            "Epoch 2 Started...\n"
          ],
          "name": "stdout"
        },
        {
          "output_type": "display_data",
          "data": {
            "application/vnd.jupyter.widget-view+json": {
              "model_id": "29fefa72cc2e4a83885cb5dbfb24d2a9",
              "version_minor": 0,
              "version_major": 2
            },
            "text/plain": [
              "HBox(children=(FloatProgress(value=0.0, description='Epoch 2', max=2000.0, style=ProgressStyle(description_wid…"
            ]
          },
          "metadata": {
            "tags": []
          }
        },
        {
          "output_type": "stream",
          "text": [
            "At Episode 0 -- Loss 0.15325 - Acc: 0.947\n",
            "At Episode 200 -- Loss 0.11692 - Acc: 0.960\n",
            "At Episode 400 -- Loss 0.11905 - Acc: 0.953\n",
            "At Episode 600 -- Loss 0.14669 - Acc: 0.943\n",
            "At Episode 800 -- Loss 0.13468 - Acc: 0.940\n",
            "At Episode 1000 -- Loss 0.14746 - Acc: 0.970\n",
            "At Episode 1200 -- Loss 0.14085 - Acc: 0.960\n",
            "At Episode 1400 -- Loss 0.13405 - Acc: 0.953\n",
            "At Episode 1600 -- Loss 0.13471 - Acc: 0.950\n",
            "At Episode 1800 -- Loss 0.12697 - Acc: 0.953\n",
            "\n",
            "Epoch 2 -- Loss: 0.13426 - Acc: 0.956\n",
            "\n",
            "Epoch 3 Started...\n"
          ],
          "name": "stdout"
        },
        {
          "output_type": "display_data",
          "data": {
            "application/vnd.jupyter.widget-view+json": {
              "model_id": "6aca519059504d1fbdb6e44f35175fd7",
              "version_minor": 0,
              "version_major": 2
            },
            "text/plain": [
              "HBox(children=(FloatProgress(value=0.0, description='Epoch 3', max=2000.0, style=ProgressStyle(description_wid…"
            ]
          },
          "metadata": {
            "tags": []
          }
        },
        {
          "output_type": "stream",
          "text": [
            "At Episode 0 -- Loss 0.11281 - Acc: 0.967\n",
            "At Episode 200 -- Loss 0.06277 - Acc: 0.983\n",
            "At Episode 400 -- Loss 0.17606 - Acc: 0.930\n",
            "At Episode 600 -- Loss 0.11365 - Acc: 0.960\n",
            "At Episode 800 -- Loss 0.14644 - Acc: 0.957\n",
            "At Episode 1000 -- Loss 0.12646 - Acc: 0.960\n",
            "At Episode 1200 -- Loss 0.06087 - Acc: 0.987\n",
            "At Episode 1400 -- Loss 0.10918 - Acc: 0.960\n",
            "At Episode 1600 -- Loss 0.15225 - Acc: 0.957\n",
            "At Episode 1800 -- Loss 0.09997 - Acc: 0.967\n",
            "\n",
            "Epoch 3 -- Loss: 0.12060 - Acc: 0.961\n",
            "\n",
            "Epoch 4 Started...\n"
          ],
          "name": "stdout"
        },
        {
          "output_type": "display_data",
          "data": {
            "application/vnd.jupyter.widget-view+json": {
              "model_id": "5fdf20e06c584cbeb93f306dfd22f05a",
              "version_minor": 0,
              "version_major": 2
            },
            "text/plain": [
              "HBox(children=(FloatProgress(value=0.0, description='Epoch 4', max=2000.0, style=ProgressStyle(description_wid…"
            ]
          },
          "metadata": {
            "tags": []
          }
        },
        {
          "output_type": "stream",
          "text": [
            "At Episode 0 -- Loss 0.09383 - Acc: 0.977\n",
            "At Episode 200 -- Loss 0.17082 - Acc: 0.943\n",
            "At Episode 400 -- Loss 0.12548 - Acc: 0.953\n",
            "At Episode 600 -- Loss 0.12934 - Acc: 0.960\n",
            "At Episode 800 -- Loss 0.17823 - Acc: 0.963\n",
            "At Episode 1000 -- Loss 0.13251 - Acc: 0.953\n",
            "At Episode 1200 -- Loss 0.05928 - Acc: 0.987\n",
            "At Episode 1400 -- Loss 0.15409 - Acc: 0.957\n",
            "At Episode 1600 -- Loss 0.07473 - Acc: 0.980\n",
            "At Episode 1800 -- Loss 0.18361 - Acc: 0.960\n",
            "\n",
            "Epoch 4 -- Loss: 0.11220 - Acc: 0.964\n",
            "\n",
            "Epoch 5 Started...\n"
          ],
          "name": "stdout"
        },
        {
          "output_type": "display_data",
          "data": {
            "application/vnd.jupyter.widget-view+json": {
              "model_id": "755ccf1dfa174f5b809d7070c5b73b93",
              "version_minor": 0,
              "version_major": 2
            },
            "text/plain": [
              "HBox(children=(FloatProgress(value=0.0, description='Epoch 5', max=2000.0, style=ProgressStyle(description_wid…"
            ]
          },
          "metadata": {
            "tags": []
          }
        },
        {
          "output_type": "stream",
          "text": [
            "At Episode 0 -- Loss 0.07645 - Acc: 0.980\n",
            "At Episode 200 -- Loss 0.09657 - Acc: 0.970\n",
            "At Episode 400 -- Loss 0.14569 - Acc: 0.937\n",
            "At Episode 600 -- Loss 0.10584 - Acc: 0.973\n",
            "At Episode 800 -- Loss 0.06314 - Acc: 0.977\n",
            "At Episode 1000 -- Loss 0.10471 - Acc: 0.960\n",
            "At Episode 1200 -- Loss 0.13033 - Acc: 0.963\n",
            "At Episode 1400 -- Loss 0.04774 - Acc: 0.987\n",
            "At Episode 1600 -- Loss 0.13310 - Acc: 0.950\n",
            "At Episode 1800 -- Loss 0.16355 - Acc: 0.940\n",
            "\n",
            "Epoch 5 -- Loss: 0.11003 - Acc: 0.965\n",
            "\n",
            "Epoch 6 Started...\n"
          ],
          "name": "stdout"
        },
        {
          "output_type": "display_data",
          "data": {
            "application/vnd.jupyter.widget-view+json": {
              "model_id": "08b78c50de3447c2a4651674ee3c6f79",
              "version_minor": 0,
              "version_major": 2
            },
            "text/plain": [
              "HBox(children=(FloatProgress(value=0.0, description='Epoch 6', max=2000.0, style=ProgressStyle(description_wid…"
            ]
          },
          "metadata": {
            "tags": []
          }
        },
        {
          "output_type": "stream",
          "text": [
            "At Episode 0 -- Loss 0.17318 - Acc: 0.943\n",
            "At Episode 200 -- Loss 0.11860 - Acc: 0.970\n",
            "At Episode 400 -- Loss 0.09059 - Acc: 0.967\n",
            "At Episode 600 -- Loss 0.13425 - Acc: 0.960\n",
            "At Episode 800 -- Loss 0.16072 - Acc: 0.950\n",
            "At Episode 1000 -- Loss 0.14058 - Acc: 0.953\n",
            "At Episode 1200 -- Loss 0.06956 - Acc: 0.973\n",
            "At Episode 1400 -- Loss 0.14393 - Acc: 0.957\n",
            "At Episode 1600 -- Loss 0.07623 - Acc: 0.973\n",
            "At Episode 1800 -- Loss 0.12931 - Acc: 0.950\n",
            "\n",
            "Epoch 6 -- Loss: 0.10862 - Acc: 0.964\n",
            "\n",
            "Epoch 7 Started...\n"
          ],
          "name": "stdout"
        },
        {
          "output_type": "display_data",
          "data": {
            "application/vnd.jupyter.widget-view+json": {
              "model_id": "d3bf349b46b84e2595657dfe8a9a0b40",
              "version_minor": 0,
              "version_major": 2
            },
            "text/plain": [
              "HBox(children=(FloatProgress(value=0.0, description='Epoch 7', max=2000.0, style=ProgressStyle(description_wid…"
            ]
          },
          "metadata": {
            "tags": []
          }
        },
        {
          "output_type": "stream",
          "text": [
            "At Episode 0 -- Loss 0.13108 - Acc: 0.957\n",
            "At Episode 200 -- Loss 0.12316 - Acc: 0.973\n",
            "At Episode 400 -- Loss 0.08779 - Acc: 0.967\n",
            "At Episode 600 -- Loss 0.13539 - Acc: 0.957\n",
            "At Episode 800 -- Loss 0.17648 - Acc: 0.953\n",
            "At Episode 1000 -- Loss 0.18308 - Acc: 0.947\n",
            "At Episode 1200 -- Loss 0.06374 - Acc: 0.983\n",
            "At Episode 1400 -- Loss 0.16441 - Acc: 0.943\n",
            "At Episode 1600 -- Loss 0.08506 - Acc: 0.963\n",
            "At Episode 1800 -- Loss 0.12806 - Acc: 0.957\n",
            "\n",
            "Epoch 7 -- Loss: 0.10908 - Acc: 0.965\n",
            "\n",
            "Epoch 8 Started...\n"
          ],
          "name": "stdout"
        },
        {
          "output_type": "display_data",
          "data": {
            "application/vnd.jupyter.widget-view+json": {
              "model_id": "907f59f6faad4f3c8c7f5ab103ccb77f",
              "version_minor": 0,
              "version_major": 2
            },
            "text/plain": [
              "HBox(children=(FloatProgress(value=0.0, description='Epoch 8', max=2000.0, style=ProgressStyle(description_wid…"
            ]
          },
          "metadata": {
            "tags": []
          }
        },
        {
          "output_type": "stream",
          "text": [
            "At Episode 0 -- Loss 0.11292 - Acc: 0.960\n",
            "At Episode 200 -- Loss 0.09103 - Acc: 0.970\n",
            "At Episode 400 -- Loss 0.05978 - Acc: 0.983\n",
            "At Episode 600 -- Loss 0.21387 - Acc: 0.923\n",
            "At Episode 800 -- Loss 0.06563 - Acc: 0.983\n",
            "At Episode 1000 -- Loss 0.13624 - Acc: 0.947\n",
            "At Episode 1200 -- Loss 0.09951 - Acc: 0.983\n",
            "At Episode 1400 -- Loss 0.07658 - Acc: 0.980\n",
            "At Episode 1600 -- Loss 0.06318 - Acc: 0.980\n",
            "At Episode 1800 -- Loss 0.09128 - Acc: 0.980\n",
            "\n",
            "Epoch 8 -- Loss: 0.10842 - Acc: 0.965\n",
            "\n"
          ],
          "name": "stdout"
        }
      ]
    },
    {
      "cell_type": "code",
      "metadata": {
        "id": "hNd4WR-S04r6",
        "colab_type": "code",
        "colab": {}
      },
      "source": [
        "# Save\n",
        "torch.save(model.state_dict(), 'protonet.pt')"
      ],
      "execution_count": null,
      "outputs": []
    },
    {
      "cell_type": "markdown",
      "metadata": {
        "id": "hMdcCi0D04r8",
        "colab_type": "text"
      },
      "source": [
        "## Evaluation"
      ]
    },
    {
      "cell_type": "code",
      "metadata": {
        "id": "v3EIzbTk04r8",
        "colab_type": "code",
        "colab": {}
      },
      "source": [
        "def evaluate(model, X_data, y_data, device='cuda', \n",
        "             k_shot=5, n_way=5, n_query=5, episodes=1000):\n",
        "    '''\n",
        "    Evaluate the ProtoNet on k-shot n-way task on the test set\n",
        "    Args:\n",
        "        model\n",
        "        X_data (torch.Tensor): images\n",
        "        y_data (torch.Tensor): labels\n",
        "        k_shot (int): number of support images per class\n",
        "        n_way (int): number of classes\n",
        "        n_query (int): number of query images per class\n",
        "        episodes (int): number of steps/episodes\n",
        "    '''\n",
        "    \n",
        "    model.to(device)\n",
        "    model.eval()\n",
        "   \n",
        "    test_losses = 0\n",
        "    test_accuracies = 0\n",
        "\n",
        "    for episode in tnrange(episodes, desc='Evaluating'):            \n",
        "        # Extract sample\n",
        "        sample = extract_sample(X_data, y_data, k_shot, n_way, n_query).to(device)\n",
        "\n",
        "        # Forward Pass on ProtoNet\n",
        "        loss, stats = model(sample, k_shot, n_way, n_query, device)\n",
        "\n",
        "        # Get Stats\n",
        "        test_losses += stats['loss']\n",
        "        test_accuracies += stats['acc']\n",
        "\n",
        "        if episode % 200 == 0:\n",
        "            print('At Episode {:d} -- Loss {:.5f} - Acc: {:.3f}'.format(episode, stats['loss'], stats['acc']))\n",
        "\n",
        "    # Print Epoch Stats\n",
        "    mean_loss = test_losses / episodes\n",
        "    mean_acc = test_accuracies / episodes\n",
        "    print('Evaluation Results -- Loss: {:.5f} - Acc: {:.3f}\\n'.format(mean_loss, mean_acc))"
      ],
      "execution_count": null,
      "outputs": []
    },
    {
      "cell_type": "code",
      "metadata": {
        "id": "dydzGiOa04r_",
        "colab_type": "code",
        "colab": {
          "base_uri": "https://localhost:8080/",
          "height": 183,
          "referenced_widgets": [
            "7077f4ec9bb24603bcb83e2fc1c44fce",
            "4017ddbc740d46df830183a670a69ab4",
            "167f64ee63f34455ac902d1ae215e58e",
            "be8bbfdfdd2645deb8777bcc9037a3af",
            "e70b1e33f93748f1a913545eedc220d5",
            "37643c7a16674f5e9ff5fa122825e9d9",
            "c1487d78aa0e4d43aef3590826d9d917",
            "9c0fcef5efce44349656a535b8f55d20"
          ]
        },
        "outputId": "e6d6bb81-109c-4826-bb1a-f0795f6d6a99"
      },
      "source": [
        "evaluate(model, X_eval, y_eval, device='cuda', k_shot=5, n_way=5, n_query=5, episodes=1000)"
      ],
      "execution_count": null,
      "outputs": [
        {
          "output_type": "display_data",
          "data": {
            "application/vnd.jupyter.widget-view+json": {
              "model_id": "7077f4ec9bb24603bcb83e2fc1c44fce",
              "version_minor": 0,
              "version_major": 2
            },
            "text/plain": [
              "HBox(children=(FloatProgress(value=0.0, description='Evaluating', max=1000.0, style=ProgressStyle(description_…"
            ]
          },
          "metadata": {
            "tags": []
          }
        },
        {
          "output_type": "stream",
          "text": [
            "At Episode 0 -- Loss 0.00006 - Acc: 1.000\n",
            "At Episode 200 -- Loss 0.12775 - Acc: 0.960\n",
            "At Episode 400 -- Loss 0.00396 - Acc: 1.000\n",
            "At Episode 600 -- Loss 0.00043 - Acc: 1.000\n",
            "At Episode 800 -- Loss 0.00097 - Acc: 1.000\n",
            "\n",
            "Evaluation Results -- Loss: 0.04326 - Acc: 0.989\n",
            "\n"
          ],
          "name": "stdout"
        }
      ]
    },
    {
      "cell_type": "markdown",
      "metadata": {
        "id": "OTcBcSyX04sC",
        "colab_type": "text"
      },
      "source": [
        "### Test on single sample"
      ]
    },
    {
      "cell_type": "code",
      "metadata": {
        "id": "aq9w8Qe604sC",
        "colab_type": "code",
        "colab": {}
      },
      "source": [
        "device = 'cuda'\n",
        "k_shot = 5\n",
        "n_way = 5\n",
        "n_query = 5"
      ],
      "execution_count": null,
      "outputs": []
    },
    {
      "cell_type": "code",
      "metadata": {
        "id": "CXRpAieO04sE",
        "colab_type": "code",
        "colab": {
          "base_uri": "https://localhost:8080/",
          "height": 448
        },
        "outputId": "f8fc626c-a5e9-43e6-b43c-2f9396917fde"
      },
      "source": [
        "# Sample a set from test set\n",
        "my_sample = extract_sample(X_eval, y_eval, k_shot, n_way, n_query).to(device)\n",
        "display_sample(my_sample.cpu())"
      ],
      "execution_count": null,
      "outputs": [
        {
          "output_type": "stream",
          "text": [
            "Clipping input data to the valid range for imshow with RGB data ([0..1] for floats or [0..255] for integers).\n"
          ],
          "name": "stderr"
        },
        {
          "output_type": "display_data",
          "data": {
            "image/png": "[encoded data removed]",
            "text/plain": [
              "<Figure size 1152x504 with 1 Axes>"
            ]
          },
          "metadata": {
            "tags": [],
            "needs_background": "light"
          }
        }
      ]
    },
    {
      "cell_type": "code",
      "metadata": {
        "id": "3l8xnpD504sH",
        "colab_type": "code",
        "colab": {
          "base_uri": "https://localhost:8080/",
          "height": 101
        },
        "outputId": "6663ee97-73d1-460e-f252-5495c531b714"
      },
      "source": [
        "# Predict\n",
        "loss, stats = model(my_sample, k_shot, n_way, n_query, device)\n",
        "stats"
      ],
      "execution_count": null,
      "outputs": [
        {
          "output_type": "execute_result",
          "data": {
            "text/plain": [
              "{'acc': 1.0, 'loss': 0.03314891830086708, 'preds': tensor([[0, 0, 0, 0, 0],\n",
              "         [1, 1, 1, 1, 1],\n",
              "         [2, 2, 2, 2, 2],\n",
              "         [3, 3, 3, 3, 3],\n",
              "         [4, 4, 4, 4, 4]], device='cuda:0')}"
            ]
          },
          "metadata": {
            "tags": []
          },
          "execution_count": 25
        }
      ]
    },
    {
      "cell_type": "markdown",
      "metadata": {
        "id": "YIJhT8yi04sJ",
        "colab_type": "text"
      },
      "source": [
        "## Prediction on unlabelled Query Images\n",
        "Making predictions on unlabelled query images given a new support set."
      ]
    },
    {
      "cell_type": "code",
      "metadata": {
        "id": "uvhn1VPA04sK",
        "colab_type": "code",
        "colab": {}
      },
      "source": [
        "from collections import Counter"
      ],
      "execution_count": null,
      "outputs": []
    },
    {
      "cell_type": "code",
      "metadata": {
        "id": "QrfHi5nj04sM",
        "colab_type": "code",
        "colab": {}
      },
      "source": [
        "def read_support_set(support_dir):\n",
        "    '''\n",
        "    Read a Support Set from a directory\n",
        "    Args:\n",
        "        support_dir (str): folder containing the support set with each sub-folder being a class.\n",
        "                           Each class should have equal number of images i.e. consistent k_shot\n",
        "    Returns:\n",
        "        tuple of:\n",
        "            (ndarray): X images\n",
        "            (ndarray): y labels\n",
        "            (dict) of: k_shot (int) and n_way (int)\n",
        "            \n",
        "    '''\n",
        "    labels = os.listdir(support_dir)\n",
        "    n_way = len(labels)\n",
        "    \n",
        "    X_support = []\n",
        "    y_support = []\n",
        "    \n",
        "    for label in labels:\n",
        "        label_path = os.path.join(support_dir, label)\n",
        "        images = os.listdir(label_path)\n",
        "        \n",
        "        for img in images:\n",
        "            image = cv2.imread(os.path.join(label_path, img))\n",
        "            image = cv2.resize(image, (28, 28)) / 255\n",
        "            \n",
        "            X_support.append(image)\n",
        "            y_support.append(label)\n",
        "            \n",
        "    k_shot = len(y_support) // n_way\n",
        "            \n",
        "    assert len(set(dict(Counter(y_support)).values())) == 1, 'Each Class should have equal number of images'\n",
        "            \n",
        "    return np.array(X_support), np.array(y_support), {'k_shot': k_shot, 'n_way': n_way}"
      ],
      "execution_count": null,
      "outputs": []
    },
    {
      "cell_type": "code",
      "metadata": {
        "id": "wNGakJGs04sQ",
        "colab_type": "code",
        "colab": {}
      },
      "source": [
        "def read_query_set(query_dir):\n",
        "    '''\n",
        "    Read a Query Set from a directory\n",
        "    Args:\n",
        "        query_dir (str): folder containing the unlabelled query images\n",
        "    '''\n",
        "    images = os.listdir(query_dir)\n",
        "    \n",
        "    X_query = []\n",
        "    \n",
        "    for img in images:\n",
        "        image = cv2.imread(os.path.join(query_dir, img))\n",
        "        image = cv2.resize(image, (28, 28)) / 255\n",
        "\n",
        "        X_query.append(image)\n",
        "            \n",
        "    return np.array(X_query)"
      ],
      "execution_count": null,
      "outputs": []
    },
    {
      "cell_type": "code",
      "metadata": {
        "id": "IRUNzQyo04sU",
        "colab_type": "code",
        "colab": {}
      },
      "source": [
        "def predict(model, X_support, y_support, X_query, k_shot, n_way, n_query, device='cuda'):\n",
        "    '''\n",
        "    Make Predictions on new sets with unlabelled query images\n",
        "    Args:\n",
        "        X_support (ndarray): support set images\n",
        "        y_support (ndarray): support set labels\n",
        "        X_query (ndarray): unlabelled query images\n",
        "        k_shot (int): number of images per class\n",
        "        n_way (int): number of classes\n",
        "        n_query (int): number of query images\n",
        "    Returns:\n",
        "        (tuple) of:\n",
        "            (tensor): predictions\n",
        "            (tensor): support samples\n",
        "            (tensor): queries samples\n",
        "    '''\n",
        "    model.to(device)\n",
        "    model.eval()\n",
        "    \n",
        "    # Convert support set images to sample format (5D)\n",
        "    support = extract_sample(X_support, y_support, k_shot, n_way, n_query=0, permute=False).to(device)\n",
        "    \n",
        "    # Convert queries to tensor (4D)\n",
        "    queries = torch.from_numpy(X_query).float().permute(0, 3, 1, 2).to(device)\n",
        "    \n",
        "    # Concatenate support set and query set along the 0th dimension\n",
        "    x = torch.cat([support.contiguous().view(n_way * k_shot, *support.size()[2:]), \n",
        "                   queries.contiguous()], 0)\n",
        "        \n",
        "    # Compute embeddings\n",
        "    embeds = model.encoder(x)\n",
        "    z_dim = embeds.size(-1)\n",
        "    \n",
        "    # Compute Prototypes\n",
        "    protos = embeds[:n_way * k_shot].view(n_way, k_shot, z_dim).mean(1)\n",
        "        \n",
        "    # Get query embeddings\n",
        "    query_embeds = embeds[n_way * k_shot:]\n",
        "    \n",
        "    # Compute Distances\n",
        "    distances = model.euclidean(query_embeds, protos)\n",
        "    \n",
        "    # Compute Softmax over the inverse of euclidean distances\n",
        "    log_p = F.softmax(-distances, dim=1)\n",
        "    \n",
        "    # Compute Predictions\n",
        "    y_hat = log_p.argmax(1)\n",
        "    \n",
        "    return y_hat, support, queries"
      ],
      "execution_count": null,
      "outputs": []
    },
    {
      "cell_type": "code",
      "metadata": {
        "id": "G3NL5AMW04sX",
        "colab_type": "code",
        "colab": {}
      },
      "source": [
        "X_support, y_support, task = read_support_set('prediction/support-2shot/')"
      ],
      "execution_count": null,
      "outputs": []
    },
    {
      "cell_type": "code",
      "metadata": {
        "id": "LT2nDopL04sa",
        "colab_type": "code",
        "colab": {}
      },
      "source": [
        "X_query = read_query_set('prediction/query-2shot/')"
      ],
      "execution_count": null,
      "outputs": []
    },
    {
      "cell_type": "code",
      "metadata": {
        "id": "6gYffkZ_04sc",
        "colab_type": "code",
        "colab": {}
      },
      "source": [
        "# Make predictions\n",
        "preds, support, queries = predict(model, X_support, y_support, X_query,\n",
        "                                  k_shot=task['k_shot'], n_way=task['n_way'], n_query=len(X_query), \n",
        "                                  device='cuda')"
      ],
      "execution_count": null,
      "outputs": []
    },
    {
      "cell_type": "code",
      "metadata": {
        "id": "50m2mCdP04sf",
        "colab_type": "code",
        "colab": {
          "base_uri": "https://localhost:8080/",
          "height": 525
        },
        "outputId": "b9b1dfae-6b63-42ed-8d10-f93664b3f8d2"
      },
      "source": [
        "print(preds)\n",
        "# Display Query images\n",
        "query_out = torchvision.utils.make_grid(queries.cpu(), nrow=len(queries))\n",
        "plt.figure(figsize = (7,7))\n",
        "plt.imshow(query_out.permute(1, 2, 0))\n",
        "# Display Support images\n",
        "display_sample(support.cpu())"
      ],
      "execution_count": null,
      "outputs": [
        {
          "output_type": "stream",
          "text": [
            "tensor([1, 0, 2, 5, 6, 9, 8, 4, 7, 3], device='cuda:0')\n"
          ],
          "name": "stdout"
        },
        {
          "output_type": "display_data",
          "data": {
            "image/png": "[encoded data removed]",
            "text/plain": [
              "<Figure size 504x504 with 1 Axes>"
            ]
          },
          "metadata": {
            "tags": [],
            "needs_background": "light"
          }
        },
        {
          "output_type": "display_data",
          "data": {
            "image/png": "[encoded data removed]",
            "text/plain": [
              "<Figure size 1152x504 with 1 Axes>"
            ]
          },
          "metadata": {
            "tags": [],
            "needs_background": "light"
          }
        }
      ]
    },
    {
      "cell_type": "code",
      "metadata": {
        "id": "aP9V0-t104sk",
        "colab_type": "code",
        "colab": {}
      },
      "source": [
        ""
      ],
      "execution_count": null,
      "outputs": []
    }
  ]
}