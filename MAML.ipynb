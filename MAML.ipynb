{
  "nbformat": 4,
  "nbformat_minor": 0,
  "metadata": {
    "colab": {
      "name": "MAML.ipynb",
      "provenance": [],
      "collapsed_sections": [],
      "include_colab_link": true
    },
    "kernelspec": {
      "name": "python3",
      "display_name": "Python 3"
    },
    "accelerator": "GPU"
  },
  "cells": [
    {
      "cell_type": "markdown",
      "metadata": {
        "id": "view-in-github",
        "colab_type": "text"
      },
      "source": [
        "<a href=\"https://colab.research.google.com/github/Surendra58/AI/blob/master/MAML.ipynb\" target=\"_parent\"><img src=\"https://colab.research.google.com/assets/colab-badge.svg\" alt=\"Open In Colab\"/></a>"
      ]
    },
    {
      "cell_type": "markdown",
      "metadata": {
        "id": "6LHMP1G29tj7",
        "colab_type": "text"
      },
      "source": [
        "# Model-Agnostic Meta-Learning (MAML)"
      ]
    },
    {
      "cell_type": "code",
      "metadata": {
        "id": "4MwcP1umx0t8",
        "colab_type": "code",
        "colab": {}
      },
      "source": [
        "# Hands-on Workshop on Optimization-based Meta Learning (AGI)"
      ],
      "execution_count": null,
      "outputs": []
    },
    {
      "cell_type": "markdown",
      "metadata": {
        "id": "z3Dpdf1b9y4K",
        "colab_type": "text"
      },
      "source": [
        "## Setup"
      ]
    },
    {
      "cell_type": "code",
      "metadata": {
        "id": "oO5nmiJUDma8",
        "colab_type": "code",
        "colab": {
          "base_uri": "https://localhost:8080/",
          "height": 118
        },
        "outputId": "8a74c1cc-e0ab-40ad-bc80-567600c9be42"
      },
      "source": [
        "!git clone https://github.com/theneuralbeing/maml"
      ],
      "execution_count": null,
      "outputs": [
        {
          "output_type": "stream",
          "text": [
            "Cloning into 'maml'...\n",
            "remote: Enumerating objects: 53, done.\u001b[K\n",
            "remote: Counting objects: 100% (53/53), done.\u001b[K\n",
            "remote: Compressing objects: 100% (24/24), done.\u001b[K\n",
            "remote: Total 53 (delta 29), reused 53 (delta 29), pack-reused 0\u001b[K\n",
            "Unpacking objects: 100% (53/53), done.\n"
          ],
          "name": "stdout"
        }
      ]
    },
    {
      "cell_type": "code",
      "metadata": {
        "id": "-gdY3UopEUDK",
        "colab_type": "code",
        "colab": {
          "base_uri": "https://localhost:8080/",
          "height": 34
        },
        "outputId": "7999e4f8-5c9a-4914-9a92-71a1edb0fb81"
      },
      "source": [
        "cd maml"
      ],
      "execution_count": null,
      "outputs": [
        {
          "output_type": "stream",
          "text": [
            "/content/maml\n"
          ],
          "name": "stdout"
        }
      ]
    },
    {
      "cell_type": "code",
      "metadata": {
        "id": "BFuyeS0FPUD-",
        "colab_type": "code",
        "colab": {}
      },
      "source": [
        "# Download\n",
        "!wget https://github.com/brendenlake/omniglot/raw/master/python/images_background.zip\n",
        "!wget https://github.com/brendenlake/omniglot/raw/master/python/images_evaluation.zip\n",
        "# Unzip to omniglot/ folder\n",
        "!mkdir omniglot\n",
        "!unzip images_background.zip -d omniglot/\n",
        "!unzip images_evaluation.zip -d omniglot/"
      ],
      "execution_count": null,
      "outputs": []
    },
    {
      "cell_type": "markdown",
      "metadata": {
        "id": "Zze4AFCA9668",
        "colab_type": "text"
      },
      "source": [
        "## Train"
      ]
    },
    {
      "cell_type": "code",
      "metadata": {
        "id": "Qe9tJJMYqUll",
        "colab_type": "code",
        "colab": {
          "base_uri": "https://localhost:8080/",
          "height": 218
        },
        "outputId": "6ffb834f-fab8-404e-c24c-373e461bc6d9"
      },
      "source": [
        "%%time\n",
        "!python train.py --gpu"
      ],
      "execution_count": null,
      "outputs": [
        {
          "output_type": "stream",
          "text": [
            "Loading Data\n",
            "100% 30/30 [00:02<00:00, 14.38it/s]\n",
            "Epoch 1 Started\n",
            "Epoch 1: 100% 100/100 [03:51<00:00,  2.32s/it, Loss=0.259, Accuracy=0.928]\n",
            "Epoch 2 Started\n",
            "Epoch 2: 100% 100/100 [03:50<00:00,  2.30s/it, Loss=0.155, Accuracy=0.96]\n",
            "Epoch 3 Started\n",
            "Epoch 3: 100% 100/100 [03:47<00:00,  2.28s/it, Loss=0.109, Accuracy=0.974]\n",
            "Epoch 4 Started\n",
            "Epoch 4: 100% 100/100 [03:50<00:00,  2.31s/it, Loss=0.0833, Accuracy=0.979]\n",
            "Epoch 5 Started\n",
            "Epoch 5: 100% 100/100 [03:52<00:00,  2.32s/it, Loss=0.0656, Accuracy=0.982]\n"
          ],
          "name": "stdout"
        }
      ]
    },
    {
      "cell_type": "markdown",
      "metadata": {
        "id": "4NsXFt-P98kT",
        "colab_type": "text"
      },
      "source": [
        "## Evaluate"
      ]
    },
    {
      "cell_type": "code",
      "metadata": {
        "id": "28Hd6IDDqUQQ",
        "colab_type": "code",
        "colab": {
          "base_uri": "https://localhost:8080/",
          "height": 171
        },
        "outputId": "441b8359-81e9-48ea-fa91-fd22cce523b8"
      },
      "source": [
        "%%time\n",
        "!python evaluate.py --gpu"
      ],
      "execution_count": null,
      "outputs": [
        {
          "output_type": "stream",
          "text": [
            "Loading Data\n",
            "100% 20/20 [00:01<00:00, 12.41it/s]\n",
            "Evaluating:   0% 0/100 [00:00<?, ?it/s]evaluate.py:85: UserWarning: Mixed memory format inputs detected while calling the operator. The operator will output contiguous tensor even if some of the inputs are in channels_last format. (Triggered internally at  /pytorch/aten/src/ATen/native/TensorIterator.cpp:918.)\n",
            "  for ((name, param), grad) in zip(fast_weights.items(), gradients)\n",
            "Evaluating: 100% 100/100 [02:46<00:00,  1.67s/it, Loss=0.103, Accuracy=0.979]\n",
            "Mean Accuracy 0.9704625000000001\n",
            "CPU times: user 461 ms, sys: 85.8 ms, total: 547 ms\n",
            "Wall time: 3min 4s\n"
          ],
          "name": "stdout"
        }
      ]
    },
    {
      "cell_type": "markdown",
      "metadata": {
        "id": "SmcmrP7FnYD_",
        "colab_type": "text"
      },
      "source": [
        "## Test"
      ]
    },
    {
      "cell_type": "code",
      "metadata": {
        "id": "ZSNXo-KWfA81",
        "colab_type": "code",
        "colab": {}
      },
      "source": [
        "import numpy as np\n",
        "import cv2\n",
        "import torch\n",
        "from torch import nn\n",
        "import os\n",
        "from torchvision.datasets import ImageFolder\n",
        "import torchvision\n",
        "import matplotlib.pyplot as plt\n",
        "from torchvision import transforms as T\n",
        "from torch.utils.data import DataLoader\n",
        "from model import MAMLClassifier"
      ],
      "execution_count": null,
      "outputs": []
    },
    {
      "cell_type": "code",
      "metadata": {
        "id": "wN1B88n-dWed",
        "colab_type": "code",
        "colab": {}
      },
      "source": [
        "def load_images(path):\n",
        "    '''Returns an array of images from a folder'''\n",
        "    files = os.listdir(path)\n",
        "    images = []\n",
        "    \n",
        "    for f in files:\n",
        "        img_path = os.path.join(path, f)\n",
        "        image = cv2.resize(cv2.imread(img_path), (28, 28)) / 255\n",
        "        images.append(image)\n",
        "        \n",
        "    return torch.Tensor(images).float().permute(0, 3, 1, 2)"
      ],
      "execution_count": null,
      "outputs": []
    },
    {
      "cell_type": "code",
      "metadata": {
        "id": "43SHtjZBumzb",
        "colab_type": "code",
        "colab": {}
      },
      "source": [
        "# Load Dataset and Create Dataloader\n",
        "train_dataset = ImageFolder('digits/train/', transform=T.ToTensor())\n",
        "train_loader = DataLoader(train_dataset, batch_size=len(train_dataset))"
      ],
      "execution_count": null,
      "outputs": []
    },
    {
      "cell_type": "code",
      "metadata": {
        "id": "GFNlZk3TuoDA",
        "colab_type": "code",
        "colab": {
          "base_uri": "https://localhost:8080/",
          "height": 34
        },
        "outputId": "94f4f541-e9f4-4290-8f28-7d0ad48b1b7f"
      },
      "source": [
        "# Load Model\n",
        "model = MAMLClassifier(n_way=5)\n",
        "model.load_state_dict(torch.load('model_ckpt.pth')['weights'])"
      ],
      "execution_count": null,
      "outputs": [
        {
          "output_type": "execute_result",
          "data": {
            "text/plain": [
              "<All keys matched successfully>"
            ]
          },
          "metadata": {
            "tags": []
          },
          "execution_count": 8
        }
      ]
    },
    {
      "cell_type": "code",
      "metadata": {
        "id": "9WcoHAgxu2jw",
        "colab_type": "code",
        "colab": {}
      },
      "source": [
        "# Loss function and Optimizer for Finetuning\n",
        "criterion = nn.CrossEntropyLoss()\n",
        "optimizer = torch.optim.SGD(model.parameters(), lr=0.4)"
      ],
      "execution_count": null,
      "outputs": []
    },
    {
      "cell_type": "code",
      "metadata": {
        "id": "oVmVWhOgvBBd",
        "colab_type": "code",
        "colab": {}
      },
      "source": [
        "def finetune(model, train_loader, criterion, optimizer, train_steps=1, device='cpu'):\n",
        "    '''Fine-tune the meta trained model to a task specific dataset'''\n",
        "    \n",
        "    model.train()\n",
        "    model.to(device)\n",
        "    \n",
        "    # Sample the train data\n",
        "    for X_train, y_train in train_loader:\n",
        "        X_train, y_train = X_train.to(device), y_train.to(device)\n",
        "        \n",
        "        for step in range(train_steps):\n",
        "            # Forward pass\n",
        "            logits = model(X_train)\n",
        "            # Loss\n",
        "            loss = criterion(logits, y_train)\n",
        "            # Backprop and Optimize\n",
        "            loss.backward()\n",
        "            optimizer.step()\n",
        "        \n",
        "        # Get Trained Loss and Accuracy\n",
        "        logits = model(X_train)\n",
        "        loss = criterion(logits, y_train)\n",
        "        accuracy = torch.eq(logits.argmax(dim=-1), y_train).sum().item() / logits.shape[0]\n",
        "        \n",
        "        print(f'Loss {loss.item()} Accuracy {accuracy}')"
      ],
      "execution_count": null,
      "outputs": []
    },
    {
      "cell_type": "code",
      "metadata": {
        "id": "Yrg3ddbavGtm",
        "colab_type": "code",
        "colab": {
          "base_uri": "https://localhost:8080/",
          "height": 34
        },
        "outputId": "a3ee2cc7-bfa4-437e-c2ef-2d717d233510"
      },
      "source": [
        "finetune(model, train_loader, criterion, optimizer, train_steps=1)"
      ],
      "execution_count": null,
      "outputs": [
        {
          "output_type": "stream",
          "text": [
            "Loss 0.05133284255862236 Accuracy 1.0\n"
          ],
          "name": "stdout"
        }
      ]
    },
    {
      "cell_type": "code",
      "metadata": {
        "id": "ndCE7xyyvILx",
        "colab_type": "code",
        "colab": {}
      },
      "source": [
        "# Load test images\n",
        "test_images = load_images('digits/test/')"
      ],
      "execution_count": null,
      "outputs": []
    },
    {
      "cell_type": "code",
      "metadata": {
        "id": "HDynqn3ovKvZ",
        "colab_type": "code",
        "colab": {
          "base_uri": "https://localhost:8080/",
          "height": 185
        },
        "outputId": "a92efdbd-60be-4d7e-8351-abc9e05e2d9d"
      },
      "source": [
        "# Visualize Test Images\n",
        "plot = torchvision.utils.make_grid(test_images, nrow=5)\n",
        "plt.figure(figsize = (10,8))\n",
        "plt.imshow(plot.permute(1, 2, 0))"
      ],
      "execution_count": null,
      "outputs": [
        {
          "output_type": "execute_result",
          "data": {
            "text/plain": [
              "<matplotlib.image.AxesImage at 0x7fb1e869bb70>"
            ]
          },
          "metadata": {
            "tags": []
          },
          "execution_count": 13
        },
        {
          "output_type": "display_data",
          "data": {
            "image/png": "[encoded data removed]",
            "text/plain": [
              "<Figure size 720x576 with 1 Axes>"
            ]
          },
          "metadata": {
            "tags": [],
            "needs_background": "light"
          }
        }
      ]
    },
    {
      "cell_type": "code",
      "metadata": {
        "id": "FpYsHmihvR1f",
        "colab_type": "code",
        "colab": {
          "base_uri": "https://localhost:8080/",
          "height": 34
        },
        "outputId": "62098c52-94ef-449d-c134-cbc3e897d680"
      },
      "source": [
        "# Make predictions\n",
        "preds = model(test_images).argmax(dim=-1)\n",
        "print('Predictions', preds.tolist())"
      ],
      "execution_count": null,
      "outputs": [
        {
          "output_type": "stream",
          "text": [
            "Predictions [0, 4, 2, 1, 3]\n"
          ],
          "name": "stdout"
        }
      ]
    },
    {
      "cell_type": "code",
      "metadata": {
        "id": "81Qj0d9Tw6FW",
        "colab_type": "code",
        "colab": {}
      },
      "source": [
        ""
      ],
      "execution_count": null,
      "outputs": []
    }
  ]
}