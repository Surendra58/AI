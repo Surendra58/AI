{
  "nbformat": 4,
  "nbformat_minor": 0,
  "metadata": {
    "colab": {
      "name": "Neural Turing Machine.ipynb",
      "provenance": [],
      "collapsed_sections": [],
      "toc_visible": true,
      "include_colab_link": true
    },
    "kernelspec": {
      "name": "python3",
      "display_name": "Python 3"
    },
    "accelerator": "GPU"
  },
  "cells": [
    {
      "cell_type": "markdown",
      "metadata": {
        "id": "view-in-github",
        "colab_type": "text"
      },
      "source": [
        "<a href=\"https://colab.research.google.com/github/Surendra58/AI/blob/master/Neural_Turing_Machine.ipynb\" target=\"_parent\"><img src=\"https://colab.research.google.com/assets/colab-badge.svg\" alt=\"Open In Colab\"/></a>"
      ]
    },
    {
      "cell_type": "markdown",
      "metadata": {
        "id": "BEP-oO2d7TGk",
        "colab_type": "text"
      },
      "source": [
        "# Neural Turing Machine"
      ]
    },
    {
      "cell_type": "markdown",
      "metadata": {
        "id": "Z8CbhTbj7Wzf",
        "colab_type": "text"
      },
      "source": [
        "## Setup"
      ]
    },
    {
      "cell_type": "code",
      "metadata": {
        "id": "uswNup0VzwFq",
        "colab_type": "code",
        "colab": {
          "base_uri": "https://localhost:8080/",
          "height": 118
        },
        "outputId": "9972a3f6-3f70-4e39-b418-60f19b31f956"
      },
      "source": [
        "# Clone the code repository\n",
        "!git clone https://github.com/theneuralbeing/ntm"
      ],
      "execution_count": null,
      "outputs": [
        {
          "output_type": "stream",
          "text": [
            "Cloning into 'ntm'...\n",
            "remote: Enumerating objects: 15, done.\u001b[K\n",
            "remote: Counting objects: 100% (15/15), done.\u001b[K\n",
            "remote: Compressing objects: 100% (15/15), done.\u001b[K\n",
            "remote: Total 15 (delta 0), reused 15 (delta 0), pack-reused 0\u001b[K\n",
            "Unpacking objects: 100% (15/15), done.\n"
          ],
          "name": "stdout"
        }
      ]
    },
    {
      "cell_type": "code",
      "metadata": {
        "id": "rKDkpCWo7p42",
        "colab_type": "code",
        "colab": {
          "base_uri": "https://localhost:8080/",
          "height": 34
        },
        "outputId": "07a5e752-5299-4dc9-ef08-a3dc84dbd532"
      },
      "source": [
        "cd ntm"
      ],
      "execution_count": null,
      "outputs": [
        {
          "output_type": "stream",
          "text": [
            "/content/ntm\n"
          ],
          "name": "stdout"
        }
      ]
    },
    {
      "cell_type": "markdown",
      "metadata": {
        "id": "xVVO4t-z7rzT",
        "colab_type": "text"
      },
      "source": [
        "## Train"
      ]
    },
    {
      "cell_type": "code",
      "metadata": {
        "id": "8uxUnc-k7u67",
        "colab_type": "code",
        "colab": {
          "base_uri": "https://localhost:8080/",
          "height": 907
        },
        "outputId": "37612962-678e-4be6-b358-c146b59af727"
      },
      "source": [
        "%%time\n",
        "# Run training script\n",
        "!python train.py"
      ],
      "execution_count": null,
      "outputs": [
        {
          "output_type": "stream",
          "text": [
            "  0% 0/10000 [00:00<?, ?it/s]Step 0 == Loss 0.695 == Error 31.0 bits per sequence\n",
            "  2% 200/10000 [00:27<26:29,  6.16it/s]Step 200 == Loss 0.694 == Error 42.13 bits per sequence\n",
            "  4% 400/10000 [00:51<28:36,  5.59it/s]Step 400 == Loss 0.693 == Error 38.79 bits per sequence\n",
            "  6% 600/10000 [01:17<25:33,  6.13it/s]Step 600 == Loss 0.690 == Error 38.395 bits per sequence\n",
            "  8% 800/10000 [01:42<24:48,  6.18it/s]Step 800 == Loss 0.678 == Error 34.845 bits per sequence\n",
            " 10% 1000/10000 [02:08<17:23,  8.63it/s]Step 1000 == Loss 0.661 == Error 35.67 bits per sequence\n",
            " 12% 1200/10000 [02:35<21:15,  6.90it/s]Step 1200 == Loss 0.628 == Error 32.85 bits per sequence\n",
            " 14% 1400/10000 [03:02<24:01,  5.96it/s]Step 1400 == Loss 0.594 == Error 28.83 bits per sequence\n",
            " 16% 1600/10000 [03:28<22:26,  6.24it/s]Step 1600 == Loss 0.558 == Error 24.47 bits per sequence\n",
            " 18% 1800/10000 [03:53<18:47,  7.27it/s]Step 1800 == Loss 0.484 == Error 18.46 bits per sequence\n",
            " 20% 2000/10000 [04:19<15:58,  8.35it/s]Step 2000 == Loss 0.402 == Error 13.305 bits per sequence\n",
            " 22% 2200/10000 [04:46<18:04,  7.19it/s]Step 2200 == Loss 0.302 == Error 6.315 bits per sequence\n",
            " 24% 2399/10000 [05:12<19:25,  6.52it/s]Step 2400 == Loss 0.169 == Error 1.58 bits per sequence\n",
            " 26% 2600/10000 [05:39<22:11,  5.56it/s]Step 2600 == Loss 0.153 == Error 2.295 bits per sequence\n",
            " 28% 2799/10000 [06:06<15:42,  7.64it/s]Step 2800 == Loss 0.108 == Error 1.73 bits per sequence\n",
            " 30% 3000/10000 [06:34<17:20,  6.73it/s]Step 3000 == Loss 0.093 == Error 1.25 bits per sequence\n",
            " 32% 3199/10000 [06:59<14:04,  8.06it/s]Step 3200 == Loss 0.167 == Error 3.445 bits per sequence\n",
            " 34% 3400/10000 [07:25<14:47,  7.44it/s]Step 3400 == Loss 0.046 == Error 0.34 bits per sequence\n",
            " 36% 3600/10000 [07:49<12:27,  8.56it/s]Step 3600 == Loss 0.022 == Error 0.0 bits per sequence\n",
            " 38% 3800/10000 [08:14<13:59,  7.39it/s]Step 3800 == Loss 0.016 == Error 0.0 bits per sequence\n",
            " 40% 4000/10000 [08:38<11:24,  8.77it/s]Step 4000 == Loss 0.011 == Error 0.0 bits per sequence\n",
            " 42% 4200/10000 [09:03<14:33,  6.64it/s]Step 4200 == Loss 0.022 == Error 0.205 bits per sequence\n",
            " 44% 4400/10000 [09:29<17:53,  5.21it/s]Step 4400 == Loss 0.006 == Error 0.0 bits per sequence\n",
            " 46% 4599/10000 [09:54<10:13,  8.80it/s]Step 4600 == Loss 0.290 == Error 10.9 bits per sequence\n",
            " 48% 4800/10000 [10:18<11:22,  7.61it/s]Step 4800 == Loss 0.684 == Error 35.57 bits per sequence\n",
            " 50% 5000/10000 [10:43<08:06, 10.27it/s]Step 5000 == Loss 0.239 == Error 12.99 bits per sequence\n",
            " 52% 5199/10000 [11:07<08:01,  9.96it/s]Step 5200 == Loss 0.135 == Error 6.715 bits per sequence\n",
            " 54% 5399/10000 [11:33<11:04,  6.93it/s]Step 5400 == Loss 0.013 == Error 0.28 bits per sequence\n",
            " 56% 5600/10000 [12:00<12:11,  6.02it/s]Step 5600 == Loss 0.004 == Error 0.025 bits per sequence\n",
            " 58% 5800/10000 [12:27<09:23,  7.45it/s]Step 5800 == Loss 0.051 == Error 1.515 bits per sequence\n",
            " 60% 6000/10000 [12:53<06:33, 10.17it/s]Step 6000 == Loss 0.002 == Error 0.01 bits per sequence\n",
            " 62% 6200/10000 [13:19<06:03, 10.46it/s]Step 6200 == Loss 0.002 == Error 0.015 bits per sequence\n",
            " 64% 6400/10000 [13:46<08:14,  7.29it/s]Step 6400 == Loss 0.001 == Error 0.0 bits per sequence\n",
            " 66% 6600/10000 [14:10<07:17,  7.77it/s]Step 6600 == Loss 0.016 == Error 0.185 bits per sequence\n",
            " 68% 6800/10000 [14:35<08:56,  5.96it/s]Step 6800 == Loss 0.529 == Error 31.82 bits per sequence\n",
            " 70% 6999/10000 [15:02<07:23,  6.76it/s]Step 7000 == Loss 0.314 == Error 16.755 bits per sequence\n",
            " 72% 7199/10000 [15:29<07:02,  6.63it/s]Step 7200 == Loss 1.114 == Error 24.64 bits per sequence\n",
            " 74% 7399/10000 [15:52<04:49,  8.97it/s]Step 7400 == Loss 0.600 == Error 30.37 bits per sequence\n",
            " 76% 7600/10000 [16:18<04:38,  8.60it/s]Step 7600 == Loss 0.505 == Error 25.345 bits per sequence\n",
            " 78% 7800/10000 [16:43<05:46,  6.35it/s]Step 7800 == Loss 0.238 == Error 4.895 bits per sequence\n",
            " 80% 8000/10000 [17:09<04:50,  6.88it/s]Step 8000 == Loss 0.353 == Error 13.205 bits per sequence\n",
            " 82% 8198/10000 [17:35<03:53,  7.72it/s]Step 8200 == Loss 0.083 == Error 1.89 bits per sequence\n",
            " 84% 8400/10000 [18:02<04:20,  6.15it/s]Step 8400 == Loss 0.015 == Error 0.38 bits per sequence\n",
            " 86% 8600/10000 [18:27<02:46,  8.39it/s]Step 8600 == Loss 0.007 == Error 0.18 bits per sequence\n",
            " 88% 8799/10000 [18:51<02:38,  7.56it/s]Step 8800 == Loss 0.001 == Error 0.0 bits per sequence\n",
            " 90% 9000/10000 [19:17<02:29,  6.68it/s]Step 9000 == Loss 0.001 == Error 0.0 bits per sequence\n",
            " 92% 9200/10000 [19:41<01:49,  7.33it/s]Step 9200 == Loss 0.000 == Error 0.0 bits per sequence\n",
            " 94% 9400/10000 [20:06<01:13,  8.11it/s]Step 9400 == Loss 0.000 == Error 0.0 bits per sequence\n",
            " 96% 9599/10000 [20:32<00:42,  9.33it/s]Step 9600 == Loss 0.000 == Error 0.0 bits per sequence\n",
            " 98% 9800/10000 [20:58<00:27,  7.19it/s]Step 9800 == Loss 0.148 == Error 4.91 bits per sequence\n",
            "100% 10000/10000 [21:23<00:00,  7.79it/s]\n",
            "CPU times: user 8.88 s, sys: 1.94 s, total: 10.8 s\n",
            "Wall time: 21min 29s\n"
          ],
          "name": "stdout"
        }
      ]
    },
    {
      "cell_type": "markdown",
      "metadata": {
        "id": "BUDqu-LN7xGs",
        "colab_type": "text"
      },
      "source": [
        "## Predict"
      ]
    },
    {
      "cell_type": "code",
      "metadata": {
        "id": "j_kkwyAD7wdb",
        "colab_type": "code",
        "colab": {}
      },
      "source": [
        "import json\n",
        "from tqdm import tqdm\n",
        "import numpy as np\n",
        "import os\n",
        "import argparse\n",
        "\n",
        "import torch\n",
        "from torch import nn, optim\n",
        "from torchvision import transforms as T\n",
        "\n",
        "from ntm import NTM\n",
        "from task_generator import CopyDataset, AssociativeDataset"
      ],
      "execution_count": null,
      "outputs": []
    },
    {
      "cell_type": "markdown",
      "metadata": {
        "id": "vUENDHiA8KVk",
        "colab_type": "text"
      },
      "source": [
        "### Task Data"
      ]
    },
    {
      "cell_type": "code",
      "metadata": {
        "id": "AzYFnI8E70pL",
        "colab_type": "code",
        "colab": {}
      },
      "source": [
        "# ==== Load the Task Configuration files ====\n",
        "# Copy Task ===\n",
        "task_params = json.load(open('configs/copy.json'))\n",
        "task_params['min_seq_len'] = 100\n",
        "task_params['max_seq_len'] = 120\n",
        "\n",
        "# Associative Recall Task ===\n",
        "# task_params['min_item'] = 6\n",
        "# task_params['max_item'] = 9"
      ],
      "execution_count": null,
      "outputs": []
    },
    {
      "cell_type": "code",
      "metadata": {
        "id": "XYF2aEH_723x",
        "colab_type": "code",
        "colab": {}
      },
      "source": [
        "# ==== Create Dataset ====\n",
        "dataset = CopyDataset(task_params)"
      ],
      "execution_count": null,
      "outputs": []
    },
    {
      "cell_type": "markdown",
      "metadata": {
        "id": "klgyr8Rn8JOx",
        "colab_type": "text"
      },
      "source": [
        "### Model"
      ]
    },
    {
      "cell_type": "code",
      "metadata": {
        "id": "AkG7kqiM73Pe",
        "colab_type": "code",
        "colab": {}
      },
      "source": [
        "# ==== Create NTM ====\n",
        "ntm = NTM(input_dim=task_params['seq_width'] + 2,\n",
        "          output_dim=task_params['seq_width'],\n",
        "          ctrl_dim=task_params['controller_size'],\n",
        "          memory_units=task_params['memory_units'],\n",
        "          memory_unit_size=task_params['memory_unit_size'],\n",
        "          num_heads=task_params['num_heads'])"
      ],
      "execution_count": null,
      "outputs": []
    },
    {
      "cell_type": "code",
      "metadata": {
        "id": "W0Z1QUrh75pw",
        "colab_type": "code",
        "colab": {
          "base_uri": "https://localhost:8080/",
          "height": 34
        },
        "outputId": "c7d3ee11-3721-42bd-bab6-0a9ad8ed6d41"
      },
      "source": [
        "# Load trained model weights\n",
        "ntm.load_state_dict(torch.load('model_copy.pt'))"
      ],
      "execution_count": null,
      "outputs": [
        {
          "output_type": "execute_result",
          "data": {
            "text/plain": [
              "<All keys matched successfully>"
            ]
          },
          "metadata": {
            "tags": []
          },
          "execution_count": 19
        }
      ]
    },
    {
      "cell_type": "markdown",
      "metadata": {
        "id": "R2NLIzwP8GI_",
        "colab_type": "text"
      },
      "source": [
        "### Predict"
      ]
    },
    {
      "cell_type": "code",
      "metadata": {
        "id": "6mRN3dPN765O",
        "colab_type": "code",
        "colab": {
          "base_uri": "https://localhost:8080/",
          "height": 50
        },
        "outputId": "f8e47dc5-886d-4b94-86b7-eb79c150cb65"
      },
      "source": [
        "# Reset\n",
        "ntm.reset()\n",
        "\n",
        "# Sample data\n",
        "data = dataset[np.random.randint(65536)]\n",
        "inputs, target = data['input'], data['target']\n",
        "\n",
        "# Tensor to store outputs\n",
        "out = torch.zeros(target.size())\n",
        "\n",
        "# Process the inputs through NTM for memorization\n",
        "for i in range(inputs.size()[0]):\n",
        "    # Forward passing all sequences for read\n",
        "    ntm(inputs[i].unsqueeze(0))\n",
        "\n",
        "# Get the outputs from memory without real inputs\n",
        "zero_inputs = torch.zeros(inputs.size()[1]).unsqueeze(0) # dummy inputs\n",
        "for i in range(target.size()[0]):\n",
        "    out[i] = ntm(zero_inputs)\n",
        "\n",
        "# Calculate binary outputs\n",
        "binary_output = out.clone()\n",
        "binary_output = binary_output.detach().apply_(lambda x: 0 if x < 0.5 else 1)\n",
        "\n",
        "# Sequence prediction error is calculted in bits per sequence\n",
        "error = torch.sum(torch.abs(binary_output - target))\n",
        "\n",
        "print(f'Output Shape: {binary_output.size()}')\n",
        "print(f'Error: {error} bits per sequence')"
      ],
      "execution_count": null,
      "outputs": [
        {
          "output_type": "stream",
          "text": [
            "Output Shape: torch.Size([118, 8])\n",
            "Error: 0.0 bits per sequence\n"
          ],
          "name": "stdout"
        }
      ]
    },
    {
      "cell_type": "markdown",
      "metadata": {
        "id": "HNjDqRAb8D5D",
        "colab_type": "text"
      },
      "source": [
        "### Visualize"
      ]
    },
    {
      "cell_type": "code",
      "metadata": {
        "id": "DblLJR3f78kV",
        "colab_type": "code",
        "colab": {}
      },
      "source": [
        "# Transforms Compose object\n",
        "visualize = T.Compose([T.ToPILImage(), T.Resize(128, interpolation=0)])"
      ],
      "execution_count": null,
      "outputs": []
    },
    {
      "cell_type": "code",
      "metadata": {
        "id": "yPp0MEgX8CNJ",
        "colab_type": "code",
        "colab": {
          "base_uri": "https://localhost:8080/",
          "height": 111
        },
        "outputId": "40686eed-6707-4446-9b80-b68e351d237d"
      },
      "source": [
        "# Visualize Input (with delimiters)\n",
        "visualize(inputs.permute(1, 0))"
      ],
      "execution_count": null,
      "outputs": [
        {
          "output_type": "execute_result",
          "data": {
            "image/png": "[encoded data removed]",
            "text/plain": [
              "<PIL.Image.Image image mode=L size=1536x128 at 0x7FEE3B502550>"
            ]
          },
          "metadata": {
            "tags": []
          },
          "execution_count": 26
        }
      ]
    },
    {
      "cell_type": "code",
      "metadata": {
        "id": "Xju6VGOG8Dai",
        "colab_type": "code",
        "colab": {
          "base_uri": "https://localhost:8080/",
          "height": 94
        },
        "outputId": "f9a00b9c-fedc-4d78-c2d1-a6306af5e24c"
      },
      "source": [
        "# Visualize Predicted Output\n",
        "visualize(binary_output.permute(1, 0))"
      ],
      "execution_count": null,
      "outputs": [
        {
          "output_type": "execute_result",
          "data": {
            "image/png": "[encoded data removed]",
            "text/plain": [
              "<PIL.Image.Image image mode=L size=1888x128 at 0x7FEE85B2A0B8>"
            ]
          },
          "metadata": {
            "tags": []
          },
          "execution_count": 27
        }
      ]
    },
    {
      "cell_type": "code",
      "metadata": {
        "id": "0MmZ2PtDCCsx",
        "colab_type": "code",
        "colab": {}
      },
      "source": [
        ""
      ],
      "execution_count": null,
      "outputs": []
    }
  ]
}